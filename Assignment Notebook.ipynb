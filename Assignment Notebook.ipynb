{
 "cells": [
  {
   "cell_type": "markdown",
   "metadata": {},
   "source": [
    "# Assignment RL Flappy Bird, Alexandre SELVESTREL\n",
    "\n",
    "Make the imports"
   ]
  },
  {
   "cell_type": "code",
   "execution_count": 1,
   "metadata": {},
   "outputs": [],
   "source": [
    "import os, sys\n",
    "import gymnasium as gym\n",
    "import time\n",
    "from tqdm import tqdm\n",
    "import text_flappy_bird_gym\n",
    "import pickle\n",
    "import wandb\n",
    "import datetime\n",
    "import numpy as np\n",
    "import matplotlib.pyplot as plt\n",
    "import flappy_bird_gym\n",
    "\n"
   ]
  },
  {
   "cell_type": "markdown",
   "metadata": {},
   "source": [
    "## Easy version of flappy bird (the one specific to the assignment):"
   ]
  },
  {
   "cell_type": "markdown",
   "metadata": {},
   "source": [
    "Define how to process the date for the full screen"
   ]
  },
  {
   "cell_type": "code",
   "execution_count": 2,
   "metadata": {},
   "outputs": [],
   "source": [
    "def process(obs,n,k,g):# obs is 20x15 initially\n",
    "    line_pnj = round(n/3) - 1\n",
    "    new_pos = 0\n",
    "    found = False\n",
    "    for j in range(k):\n",
    "        if obs[line_pnj,j] == 1:\n",
    "            new_pos = j\n",
    "            found = True\n",
    "    if found is False:\n",
    "        raise ValueError(\"bird not found\")\n",
    "    obstacles_bas = []\n",
    "    i = line_pnj +1\n",
    "    while (len(obstacles_bas) <2) and i<n:\n",
    "            found = False\n",
    "            for j in range(g + 1):\n",
    "                 if (obs[i,j] == 2) and (found is False):\n",
    "                    obstacles_bas.append(i)\n",
    "                    found = True\n",
    "            i += 1\n",
    "    if len(obstacles_bas) == 0:\n",
    "        raise ValueError(\"no obstacle found\")\n",
    "    dist_vert = [bas - line_pnj for bas in obstacles_bas]\n",
    "    gauche = []\n",
    "    droite = []\n",
    "    for i in obstacles_bas:\n",
    "        line = obs[i,:]\n",
    "        found  = False\n",
    "        for j,elem in enumerate(line):\n",
    "            if (elem == 0) and (found is False):\n",
    "                gauche.append(j)\n",
    "                found = True\n",
    "            elif (elem == 2) and (found is True):\n",
    "                droite.append(j - 1)\n",
    "                found = False\n",
    "            elif line[k - 1] == 0:\n",
    "                droite.append(k - 1)\n",
    "                found = False\n",
    "    for a in range(len(obstacles_bas)):\n",
    "        if droite[a] - gauche[a] != g-1:\n",
    "            print(obs)\n",
    "            print('taille erreur',gauche[a],droite[a])\n",
    "            raise ValueError(\"gap mauvaise taille\")\n",
    "    center = [gauche[i] + round(g/2) for i in range(len(droite))]\n",
    "    state = tuple([(new_pos,dist_vert[i],center[i] - new_pos) for i in range(len(dist_vert))])\n",
    "    return state"
   ]
  },
  {
   "cell_type": "markdown",
   "metadata": {},
   "source": [
    "Define the policies"
   ]
  },
  {
   "cell_type": "code",
   "execution_count": 3,
   "metadata": {},
   "outputs": [],
   "source": [
    "class MC:\n",
    "    def __init__(self,eps,alpha,n_max_step,height,width,gap,trained = False, processed = True) -> None:\n",
    "        self.eps = eps\n",
    "        self.alpha = alpha\n",
    "        self.n_max_step = n_max_step\n",
    "        self.nsteps = 0\n",
    "        self.processed = processed\n",
    "        self.height = height\n",
    "        self.width = width\n",
    "        self.gap = gap\n",
    "        if trained is False:\n",
    "            self.q = {}\n",
    "        else:\n",
    "            if self.processed is True:\n",
    "                with open('data/MC.pkl', 'rb') as f:\n",
    "                    self.q = pickle.load(f)\n",
    "            else:\n",
    "                with open('data/MC_non_processed.pkl', 'rb') as f:\n",
    "                    self.q = pickle.load(f)\n",
    "\n",
    "    def reset(self):\n",
    "        self.episode = []\n",
    "        self.nsteps = 0\n",
    "\n",
    "    def chose_action(self,observation, training = True):\n",
    "        if self.processed is True:\n",
    "            state = observation\n",
    "            #print(state)\n",
    "        else:\n",
    "            state = process(observation,n = self.width, k = self.height, g = self.gap)\n",
    "            #print('state',state)\n",
    "            #print(observation)\n",
    "            #time.sleep(0.5)\n",
    "        if (state,0) not in list(self.q.keys()):\n",
    "            self.q[(state,0)] = np.random.uniform(-10,10)\n",
    "        if (state,1) not in list(self.q.keys()):\n",
    "            self.q[(state,1)] = np.random.uniform(-10,10)\n",
    "        if training:\n",
    "            if np.random.uniform(0,1) < self.eps:\n",
    "                action = np.random.choice([0,1])\n",
    "                self.episode.append({'state':state,'action':action})\n",
    "                self.nsteps += 1\n",
    "                return action\n",
    "        action = 0 if self.q[(state,0)] > self.q[(state,1)] else 1\n",
    "        self.episode.append({'state':state,'action':action})\n",
    "        self.nsteps += 1\n",
    "        return action\n",
    "    \n",
    "    def update(self,reward,next_observation,done):\n",
    "        if self.nsteps == self.n_max_step:\n",
    "            reward = 100\n",
    "        if done:\n",
    "            reward = -10\n",
    "        self.episode[-1]['reward'] = reward\n",
    "        if (done is False) and (self.nsteps < self.n_max_step):\n",
    "            pass\n",
    "        else:\n",
    "            G = 0\n",
    "            for j in range(len(self.episode)):\n",
    "                i = len(self.episode) - j - 1\n",
    "                G += self.episode[i]['reward']\n",
    "                self.q[(self.episode[i]['state'],self.episode[i]['action'])] += self.alpha*(G - self.q[(self.episode[i]['state'],self.episode[i]['action'])])\n",
    "    \n",
    "    def save(self):\n",
    "        if self.processed is True:\n",
    "            with open('data/MC.pkl', 'wb') as f:\n",
    "                pickle.dump(self.q, f)\n",
    "        else:\n",
    "            with open('data/MC_non_processed.pkl', 'wb') as f:\n",
    "                pickle.dump(self.q, f)\n",
    "\n",
    "\n"
   ]
  },
  {
   "cell_type": "code",
   "execution_count": 4,
   "metadata": {},
   "outputs": [],
   "source": [
    "class Sarsa:\n",
    "    def __init__(self,eps,alpha,n_max_step,height,width,gap,trained = False, processed = True, lambd = 0.9) -> None:\n",
    "        self.eps = eps\n",
    "        self.alpha = alpha\n",
    "        self.n_max_step = n_max_step\n",
    "        self.nsteps = 0\n",
    "        self.processed = processed\n",
    "        self.height = height\n",
    "        self.width = width\n",
    "        self.gap = gap\n",
    "        self.lambd = lambd\n",
    "        if trained is False:\n",
    "            self.q = {}\n",
    "            self.e = {}\n",
    "        else:\n",
    "            if self.processed is True:\n",
    "                with open('data/Sarsa_q.pkl', 'rb') as f:\n",
    "                    self.q = pickle.load(f)\n",
    "                with open('data/Sarsa_e.pkl', 'rb') as f:\n",
    "                    self.e = pickle.load(f)\n",
    "            else:\n",
    "                with open('data/Sarsa_non_processed_q.pkl', 'rb') as f:\n",
    "                    self.q = pickle.load(f)\n",
    "                with open('data/Sarsa_non_processed_e.pkl', 'rb') as f:\n",
    "                    self.e = pickle.load(f)\n",
    "\n",
    "    def reset(self):\n",
    "        self.nsteps = 0\n",
    "\n",
    "    def chose_action(self,observation, training = True):\n",
    "        if self.processed is True:\n",
    "            state = observation\n",
    "        else:\n",
    "            state = process(observation,n = self.width, k = self.height, g = self.gap)\n",
    "        self.current_state = state\n",
    "        if (state,0) not in list(self.q.keys()):\n",
    "            self.q[(state,0)] = np.random.uniform(-10,10)\n",
    "            self.e[(state,0)] = 0\n",
    "        if (state,1) not in list(self.q.keys()):\n",
    "            self.q[(state,1)] = np.random.uniform(-10,10)\n",
    "            self.e[(state,1)] = 0\n",
    "        if training:\n",
    "            if np.random.uniform(0,1) < self.eps:\n",
    "                action = np.random.choice([0,1])\n",
    "                self.nsteps += 1\n",
    "                return action\n",
    "        action = 0 if self.q[(state,0)] > self.q[(state,1)] else 1\n",
    "        self.nsteps += 1\n",
    "        self.current_action = action   \n",
    "        return action\n",
    "    \n",
    "    def update(self,reward,next_observation,done):\n",
    "        if self.processed is True or done:\n",
    "            pass\n",
    "        else:\n",
    "            next_observation = process(next_observation,n = self.width, k = self.height, g = self.gap)\n",
    "        if (self.nsteps == self.n_max_step) or done:\n",
    "            max_q = 0\n",
    "        else:\n",
    "            if (next_observation,0) not in list(self.q.keys()):\n",
    "                self.q[(next_observation,0)] = np.random.uniform(-10,10)\n",
    "                self.e[(next_observation,0)] = 0\n",
    "            if (next_observation,1) not in list(self.q.keys()):\n",
    "                self.q[(next_observation,1)] = np.random.uniform(-10,10)\n",
    "                self.e[(next_observation,1)] = 0\n",
    "            max_q = max(self.q[(next_observation,0)],self.q[(next_observation,1)])\n",
    "        delta = reward + max_q - self.q[(self.current_state,self.current_action)]\n",
    "        self.e[(self.current_state,self.current_action)] += 1\n",
    "        for key in self.q.keys():\n",
    "            self.q[key] += self.alpha*delta*self.e[key]\n",
    "            self.e[key] *= self.lambd\n",
    "\n",
    "    def save(self):\n",
    "        if self.processed is True:\n",
    "            with open('data/Sarsa_q.pkl', 'wb') as f:\n",
    "                pickle.dump(self.q, f)\n",
    "            with open('data/Sarsa_e.pkl', 'wb') as f:\n",
    "                pickle.dump(self.e, f)\n",
    "        else:\n",
    "            with open('data/Sarsa_non_processed_q.pkl', 'wb') as f:\n",
    "                pickle.dump(self.q, f)\n",
    "            with open('data/Sarsa_non_processed_e.pkl', 'wb') as f:\n",
    "                pickle.dump(self.e, f)\n"
   ]
  },
  {
   "cell_type": "markdown",
   "metadata": {},
   "source": [
    "Run the code:"
   ]
  },
  {
   "cell_type": "code",
   "execution_count": 10,
   "metadata": {},
   "outputs": [
    {
     "data": {
      "text/html": [
       "Finishing last run (ID:wc9vd2kt) before initializing another..."
      ],
      "text/plain": [
       "<IPython.core.display.HTML object>"
      ]
     },
     "metadata": {},
     "output_type": "display_data"
    },
    {
     "data": {
      "application/vnd.jupyter.widget-view+json": {
       "model_id": "77411ffac83b439aa85f1155fa8839fb",
       "version_major": 2,
       "version_minor": 0
      },
      "text/plain": [
       "VBox(children=(Label(value='0.001 MB of 0.001 MB uploaded\\r'), FloatProgress(value=1.0, max=1.0)))"
      ]
     },
     "metadata": {},
     "output_type": "display_data"
    },
    {
     "data": {
      "text/html": [
       "<style>\n",
       "    table.wandb td:nth-child(1) { padding: 0 10px; text-align: left ; width: auto;} td:nth-child(2) {text-align: left ; width: 100%}\n",
       "    .wandb-row { display: flex; flex-direction: row; flex-wrap: wrap; justify-content: flex-start; width: 100% }\n",
       "    .wandb-col { display: flex; flex-direction: column; flex-basis: 100%; flex: 1; padding: 10px; }\n",
       "    </style>\n",
       "<div class=\"wandb-row\"><div class=\"wandb-col\"><h3>Run history:</h3><br/><table class=\"wandb\"><tr><td>score</td><td>▂▆▃▁▃▃▁▁▁▅▃█▅</td></tr></table><br/></div><div class=\"wandb-col\"><h3>Run summary:</h3><br/><table class=\"wandb\"><tr><td>score</td><td>33.0</td></tr></table><br/></div></div>"
      ],
      "text/plain": [
       "<IPython.core.display.HTML object>"
      ]
     },
     "metadata": {},
     "output_type": "display_data"
    },
    {
     "data": {
      "text/html": [
       " View run <strong style=\"color:#cdcd00\">MC processed= False height: 15 width: 20 gap: 4date: 12th04mo_00h47min04s</strong> at: <a href='https://wandb.ai/alexandre-selvestrel-team/FlappyBird-RL/runs/wc9vd2kt' target=\"_blank\">https://wandb.ai/alexandre-selvestrel-team/FlappyBird-RL/runs/wc9vd2kt</a><br/>Synced 5 W&B file(s), 0 media file(s), 0 artifact file(s) and 0 other file(s)"
      ],
      "text/plain": [
       "<IPython.core.display.HTML object>"
      ]
     },
     "metadata": {},
     "output_type": "display_data"
    },
    {
     "data": {
      "text/html": [
       "Find logs at: <code>.\\wandb\\run-20240412_004704-wc9vd2kt\\logs</code>"
      ],
      "text/plain": [
       "<IPython.core.display.HTML object>"
      ]
     },
     "metadata": {},
     "output_type": "display_data"
    },
    {
     "data": {
      "text/html": [
       "Successfully finished last run (ID:wc9vd2kt). Initializing new run:<br/>"
      ],
      "text/plain": [
       "<IPython.core.display.HTML object>"
      ]
     },
     "metadata": {},
     "output_type": "display_data"
    },
    {
     "data": {
      "application/vnd.jupyter.widget-view+json": {
       "model_id": "a3f3f9ac543644b099192abf2dff450d",
       "version_major": 2,
       "version_minor": 0
      },
      "text/plain": [
       "VBox(children=(Label(value='Waiting for wandb.init()...\\r'), FloatProgress(value=0.011111111111111112, max=1.0…"
      ]
     },
     "metadata": {},
     "output_type": "display_data"
    },
    {
     "data": {
      "text/html": [
       "wandb version 0.16.6 is available!  To upgrade, please run:\n",
       " $ pip install wandb --upgrade"
      ],
      "text/plain": [
       "<IPython.core.display.HTML object>"
      ]
     },
     "metadata": {},
     "output_type": "display_data"
    },
    {
     "data": {
      "text/html": [
       "Tracking run with wandb version 0.16.3"
      ],
      "text/plain": [
       "<IPython.core.display.HTML object>"
      ]
     },
     "metadata": {},
     "output_type": "display_data"
    },
    {
     "data": {
      "text/html": [
       "Run data is saved locally in <code>c:\\Users\\33771\\Documents\\RL\\DM\\text-flappy-bird-gym\\Assignment\\wandb\\run-20240412_004730-t325kgwu</code>"
      ],
      "text/plain": [
       "<IPython.core.display.HTML object>"
      ]
     },
     "metadata": {},
     "output_type": "display_data"
    },
    {
     "data": {
      "text/html": [
       "Syncing run <strong><a href='https://wandb.ai/alexandre-selvestrel-team/FlappyBird-RL/runs/t325kgwu' target=\"_blank\">MC processed= False height: 15 width: 20 gap: 4date: 12th04mo_00h47min30s</a></strong> to <a href='https://wandb.ai/alexandre-selvestrel-team/FlappyBird-RL' target=\"_blank\">Weights & Biases</a> (<a href='https://wandb.me/run' target=\"_blank\">docs</a>)<br/>"
      ],
      "text/plain": [
       "<IPython.core.display.HTML object>"
      ]
     },
     "metadata": {},
     "output_type": "display_data"
    },
    {
     "data": {
      "text/html": [
       " View project at <a href='https://wandb.ai/alexandre-selvestrel-team/FlappyBird-RL' target=\"_blank\">https://wandb.ai/alexandre-selvestrel-team/FlappyBird-RL</a>"
      ],
      "text/plain": [
       "<IPython.core.display.HTML object>"
      ]
     },
     "metadata": {},
     "output_type": "display_data"
    },
    {
     "data": {
      "text/html": [
       " View run at <a href='https://wandb.ai/alexandre-selvestrel-team/FlappyBird-RL/runs/t325kgwu' target=\"_blank\">https://wandb.ai/alexandre-selvestrel-team/FlappyBird-RL/runs/t325kgwu</a>"
      ],
      "text/plain": [
       "<IPython.core.display.HTML object>"
      ]
     },
     "metadata": {},
     "output_type": "display_data"
    },
    {
     "name": "stderr",
     "output_type": "stream",
     "text": [
      "  1%|          | 36/5000 [00:00<00:29, 167.67it/s]"
     ]
    },
    {
     "name": "stdout",
     "output_type": "stream",
     "text": [
      "score 5.0\n"
     ]
    },
    {
     "name": "stderr",
     "output_type": "stream",
     "text": [
      "  1%|▏         | 69/5000 [00:00<00:36, 134.22it/s]"
     ]
    },
    {
     "name": "stdout",
     "output_type": "stream",
     "text": [
      "score 6.0\n"
     ]
    },
    {
     "name": "stderr",
     "output_type": "stream",
     "text": [
      "  3%|▎         | 131/5000 [00:00<00:33, 146.25it/s]"
     ]
    },
    {
     "name": "stdout",
     "output_type": "stream",
     "text": [
      "score 23.0\n"
     ]
    },
    {
     "name": "stderr",
     "output_type": "stream",
     "text": [
      "  4%|▎         | 176/5000 [00:01<00:34, 138.10it/s]"
     ]
    },
    {
     "name": "stdout",
     "output_type": "stream",
     "text": [
      "score 13.0\n"
     ]
    },
    {
     "name": "stderr",
     "output_type": "stream",
     "text": [
      "  4%|▍         | 218/5000 [00:01<00:39, 121.52it/s]"
     ]
    },
    {
     "name": "stdout",
     "output_type": "stream",
     "text": [
      "score 36.0\n"
     ]
    },
    {
     "name": "stderr",
     "output_type": "stream",
     "text": [
      "  5%|▌         | 269/5000 [00:02<00:43, 109.71it/s]"
     ]
    },
    {
     "name": "stdout",
     "output_type": "stream",
     "text": [
      "score 23.0\n"
     ]
    },
    {
     "name": "stderr",
     "output_type": "stream",
     "text": [
      "  6%|▋         | 315/5000 [00:02<00:46, 101.60it/s]"
     ]
    },
    {
     "name": "stdout",
     "output_type": "stream",
     "text": [
      "score 13.0\n"
     ]
    },
    {
     "name": "stderr",
     "output_type": "stream",
     "text": [
      "  7%|▋         | 360/5000 [00:03<00:48, 95.71it/s] "
     ]
    },
    {
     "name": "stdout",
     "output_type": "stream",
     "text": [
      "score 33.0\n"
     ]
    },
    {
     "name": "stderr",
     "output_type": "stream",
     "text": [
      "  8%|▊         | 409/5000 [00:03<00:55, 83.01it/s]"
     ]
    },
    {
     "name": "stdout",
     "output_type": "stream",
     "text": [
      "score 33.0\n"
     ]
    },
    {
     "name": "stderr",
     "output_type": "stream",
     "text": [
      "  9%|▉         | 470/5000 [00:04<00:47, 94.59it/s]"
     ]
    },
    {
     "name": "stdout",
     "output_type": "stream",
     "text": [
      "score 18.0\n"
     ]
    },
    {
     "name": "stderr",
     "output_type": "stream",
     "text": [
      " 10%|█         | 522/5000 [00:04<00:46, 96.77it/s]"
     ]
    },
    {
     "name": "stdout",
     "output_type": "stream",
     "text": [
      "score 13.0\n"
     ]
    },
    {
     "name": "stderr",
     "output_type": "stream",
     "text": [
      " 11%|█         | 559/5000 [00:05<00:57, 77.69it/s]"
     ]
    },
    {
     "name": "stdout",
     "output_type": "stream",
     "text": [
      "score 19.0\n"
     ]
    },
    {
     "name": "stderr",
     "output_type": "stream",
     "text": [
      " 12%|█▏        | 612/5000 [00:06<01:04, 68.37it/s]"
     ]
    },
    {
     "name": "stdout",
     "output_type": "stream",
     "text": [
      "score 23.0\n"
     ]
    },
    {
     "name": "stderr",
     "output_type": "stream",
     "text": [
      " 13%|█▎        | 662/5000 [00:06<00:58, 74.58it/s]"
     ]
    },
    {
     "name": "stdout",
     "output_type": "stream",
     "text": [
      "score 22.0\n"
     ]
    },
    {
     "name": "stderr",
     "output_type": "stream",
     "text": [
      " 14%|█▍        | 711/5000 [00:07<00:53, 79.66it/s]"
     ]
    },
    {
     "name": "stdout",
     "output_type": "stream",
     "text": [
      "score 13.0\n"
     ]
    },
    {
     "name": "stderr",
     "output_type": "stream",
     "text": [
      " 15%|█▌        | 761/5000 [00:08<01:08, 62.02it/s]"
     ]
    },
    {
     "name": "stdout",
     "output_type": "stream",
     "text": [
      "score 19.0\n"
     ]
    },
    {
     "name": "stderr",
     "output_type": "stream",
     "text": [
      " 16%|█▌        | 809/5000 [00:08<01:04, 65.47it/s]"
     ]
    },
    {
     "name": "stdout",
     "output_type": "stream",
     "text": [
      "score 13.0\n"
     ]
    },
    {
     "name": "stderr",
     "output_type": "stream",
     "text": [
      " 17%|█▋        | 859/5000 [00:09<01:06, 62.60it/s]"
     ]
    },
    {
     "name": "stdout",
     "output_type": "stream",
     "text": [
      "score 23.0\n"
     ]
    },
    {
     "name": "stderr",
     "output_type": "stream",
     "text": [
      " 18%|█▊        | 908/5000 [00:10<01:09, 59.16it/s]"
     ]
    },
    {
     "name": "stdout",
     "output_type": "stream",
     "text": [
      "score 23.0\n"
     ]
    },
    {
     "name": "stderr",
     "output_type": "stream",
     "text": [
      " 19%|█▉        | 957/5000 [00:11<01:09, 57.83it/s]"
     ]
    },
    {
     "name": "stdout",
     "output_type": "stream",
     "text": [
      "score 21.0\n"
     ]
    },
    {
     "name": "stderr",
     "output_type": "stream",
     "text": [
      " 20%|██        | 1012/5000 [00:12<01:07, 58.71it/s]"
     ]
    },
    {
     "name": "stdout",
     "output_type": "stream",
     "text": [
      "score 33.0\n"
     ]
    },
    {
     "name": "stderr",
     "output_type": "stream",
     "text": [
      " 21%|██        | 1056/5000 [00:13<01:20, 48.71it/s]"
     ]
    },
    {
     "name": "stdout",
     "output_type": "stream",
     "text": [
      "score 53.0\n"
     ]
    },
    {
     "name": "stderr",
     "output_type": "stream",
     "text": [
      " 22%|██▏       | 1113/5000 [00:14<01:16, 50.98it/s]"
     ]
    },
    {
     "name": "stdout",
     "output_type": "stream",
     "text": [
      "score 33.0\n"
     ]
    },
    {
     "name": "stderr",
     "output_type": "stream",
     "text": [
      " 23%|██▎       | 1162/5000 [00:15<01:11, 53.43it/s]"
     ]
    },
    {
     "name": "stdout",
     "output_type": "stream",
     "text": [
      "score 23.0\n"
     ]
    },
    {
     "name": "stderr",
     "output_type": "stream",
     "text": [
      " 24%|██▍       | 1211/5000 [00:16<01:08, 55.29it/s]"
     ]
    },
    {
     "name": "stdout",
     "output_type": "stream",
     "text": [
      "score 33.0\n"
     ]
    },
    {
     "name": "stderr",
     "output_type": "stream",
     "text": [
      " 25%|██▌       | 1260/5000 [00:17<01:13, 50.66it/s]"
     ]
    },
    {
     "name": "stdout",
     "output_type": "stream",
     "text": [
      "score 23.0\n"
     ]
    },
    {
     "name": "stderr",
     "output_type": "stream",
     "text": [
      " 26%|██▌       | 1309/5000 [00:18<01:15, 48.75it/s]"
     ]
    },
    {
     "name": "stdout",
     "output_type": "stream",
     "text": [
      "score 43.0\n"
     ]
    },
    {
     "name": "stderr",
     "output_type": "stream",
     "text": [
      " 27%|██▋       | 1357/5000 [00:19<01:13, 49.28it/s]"
     ]
    },
    {
     "name": "stdout",
     "output_type": "stream",
     "text": [
      "score 23.0\n"
     ]
    },
    {
     "name": "stderr",
     "output_type": "stream",
     "text": [
      " 28%|██▊       | 1408/5000 [00:20<01:38, 36.33it/s]"
     ]
    },
    {
     "name": "stdout",
     "output_type": "stream",
     "text": [
      "score 23.0\n"
     ]
    },
    {
     "name": "stderr",
     "output_type": "stream",
     "text": [
      " 29%|██▉       | 1457/5000 [00:21<01:22, 43.02it/s]"
     ]
    },
    {
     "name": "stdout",
     "output_type": "stream",
     "text": [
      "score 33.0\n"
     ]
    },
    {
     "name": "stderr",
     "output_type": "stream",
     "text": [
      " 30%|███       | 1505/5000 [00:23<01:46, 32.67it/s]"
     ]
    },
    {
     "name": "stdout",
     "output_type": "stream",
     "text": [
      "score 73.0\n"
     ]
    },
    {
     "name": "stderr",
     "output_type": "stream",
     "text": [
      " 31%|███       | 1553/5000 [00:24<02:02, 28.12it/s]"
     ]
    },
    {
     "name": "stdout",
     "output_type": "stream",
     "text": [
      "score 53.0\n"
     ]
    },
    {
     "name": "stderr",
     "output_type": "stream",
     "text": [
      " 32%|███▏      | 1609/5000 [00:26<01:42, 32.99it/s]"
     ]
    },
    {
     "name": "stdout",
     "output_type": "stream",
     "text": [
      "score 43.0\n"
     ]
    },
    {
     "name": "stderr",
     "output_type": "stream",
     "text": [
      " 33%|███▎      | 1657/5000 [00:28<02:10, 25.55it/s]"
     ]
    },
    {
     "name": "stdout",
     "output_type": "stream",
     "text": [
      "score 73.0\n"
     ]
    },
    {
     "name": "stderr",
     "output_type": "stream",
     "text": [
      " 34%|███▍      | 1704/5000 [00:29<01:59, 27.50it/s]"
     ]
    },
    {
     "name": "stdout",
     "output_type": "stream",
     "text": [
      "score 73.0\n"
     ]
    },
    {
     "name": "stderr",
     "output_type": "stream",
     "text": [
      " 35%|███▌      | 1753/5000 [00:31<02:12, 24.48it/s]"
     ]
    },
    {
     "name": "stdout",
     "output_type": "stream",
     "text": [
      "score 85.0\n"
     ]
    },
    {
     "name": "stderr",
     "output_type": "stream",
     "text": [
      " 36%|███▌      | 1805/5000 [00:34<02:47, 19.08it/s]"
     ]
    },
    {
     "name": "stdout",
     "output_type": "stream",
     "text": [
      "score 203.0\n"
     ]
    },
    {
     "name": "stderr",
     "output_type": "stream",
     "text": [
      " 37%|███▋      | 1855/5000 [00:36<02:27, 21.29it/s]"
     ]
    },
    {
     "name": "stdout",
     "output_type": "stream",
     "text": [
      "score 103.0\n"
     ]
    },
    {
     "name": "stderr",
     "output_type": "stream",
     "text": [
      " 38%|███▊      | 1904/5000 [00:38<02:25, 21.27it/s]"
     ]
    },
    {
     "name": "stdout",
     "output_type": "stream",
     "text": [
      "score 53.0\n"
     ]
    },
    {
     "name": "stderr",
     "output_type": "stream",
     "text": [
      " 39%|███▉      | 1954/5000 [00:41<03:07, 16.24it/s]"
     ]
    },
    {
     "name": "stdout",
     "output_type": "stream",
     "text": [
      "score 263.0\n"
     ]
    },
    {
     "name": "stderr",
     "output_type": "stream",
     "text": [
      " 40%|████      | 2003/5000 [00:44<03:13, 15.49it/s]"
     ]
    },
    {
     "name": "stdout",
     "output_type": "stream",
     "text": [
      "score 203.0\n"
     ]
    },
    {
     "name": "stderr",
     "output_type": "stream",
     "text": [
      " 41%|████      | 2053/5000 [00:47<02:26, 20.07it/s]"
     ]
    },
    {
     "name": "stdout",
     "output_type": "stream",
     "text": [
      "score 113.0\n"
     ]
    },
    {
     "name": "stderr",
     "output_type": "stream",
     "text": [
      " 42%|████▏     | 2106/5000 [00:50<03:04, 15.67it/s]"
     ]
    },
    {
     "name": "stdout",
     "output_type": "stream",
     "text": [
      "score 213.0\n"
     ]
    },
    {
     "name": "stderr",
     "output_type": "stream",
     "text": [
      " 43%|████▎     | 2153/5000 [00:53<02:28, 19.20it/s]"
     ]
    },
    {
     "name": "stdout",
     "output_type": "stream",
     "text": [
      "score 53.0\n"
     ]
    },
    {
     "name": "stderr",
     "output_type": "stream",
     "text": [
      " 44%|████▍     | 2204/5000 [00:56<01:58, 23.68it/s]"
     ]
    },
    {
     "name": "stdout",
     "output_type": "stream",
     "text": [
      "score 123.0\n"
     ]
    },
    {
     "name": "stderr",
     "output_type": "stream",
     "text": [
      " 45%|████▌     | 2253/5000 [00:59<03:11, 14.38it/s]"
     ]
    },
    {
     "name": "stdout",
     "output_type": "stream",
     "text": [
      "score 73.0\n"
     ]
    },
    {
     "name": "stderr",
     "output_type": "stream",
     "text": [
      " 46%|████▌     | 2303/5000 [01:02<02:50, 15.78it/s]"
     ]
    },
    {
     "name": "stdout",
     "output_type": "stream",
     "text": [
      "score 293.0\n"
     ]
    },
    {
     "name": "stderr",
     "output_type": "stream",
     "text": [
      " 47%|████▋     | 2351/5000 [01:05<01:54, 23.18it/s]"
     ]
    },
    {
     "name": "stdout",
     "output_type": "stream",
     "text": [
      "score 23.0\n"
     ]
    },
    {
     "name": "stderr",
     "output_type": "stream",
     "text": [
      " 48%|████▊     | 2404/5000 [01:09<02:57, 14.65it/s]"
     ]
    },
    {
     "name": "stdout",
     "output_type": "stream",
     "text": [
      "score 323.0\n"
     ]
    },
    {
     "name": "stderr",
     "output_type": "stream",
     "text": [
      " 49%|████▉     | 2453/5000 [01:13<02:43, 15.59it/s]"
     ]
    },
    {
     "name": "stdout",
     "output_type": "stream",
     "text": [
      "score 213.0\n"
     ]
    },
    {
     "name": "stderr",
     "output_type": "stream",
     "text": [
      " 50%|█████     | 2502/5000 [01:18<04:28,  9.32it/s]"
     ]
    },
    {
     "name": "stdout",
     "output_type": "stream",
     "text": [
      "score 113.0\n"
     ]
    },
    {
     "name": "stderr",
     "output_type": "stream",
     "text": [
      " 51%|█████     | 2550/5000 [01:21<03:10, 12.89it/s]"
     ]
    },
    {
     "name": "stdout",
     "output_type": "stream",
     "text": [
      "score 73.0\n"
     ]
    },
    {
     "name": "stderr",
     "output_type": "stream",
     "text": [
      " 52%|█████▏    | 2603/5000 [01:25<02:19, 17.24it/s]"
     ]
    },
    {
     "name": "stdout",
     "output_type": "stream",
     "text": [
      "score 83.0\n"
     ]
    },
    {
     "name": "stderr",
     "output_type": "stream",
     "text": [
      " 53%|█████▎    | 2652/5000 [01:29<03:50, 10.17it/s]"
     ]
    },
    {
     "name": "stdout",
     "output_type": "stream",
     "text": [
      "score 203.0\n"
     ]
    },
    {
     "name": "stderr",
     "output_type": "stream",
     "text": [
      " 54%|█████▍    | 2703/5000 [01:33<03:07, 12.24it/s]"
     ]
    },
    {
     "name": "stdout",
     "output_type": "stream",
     "text": [
      "score 33.0\n"
     ]
    },
    {
     "name": "stderr",
     "output_type": "stream",
     "text": [
      " 55%|█████▌    | 2754/5000 [01:36<02:46, 13.47it/s]"
     ]
    },
    {
     "name": "stdout",
     "output_type": "stream",
     "text": [
      "score 33.0\n"
     ]
    },
    {
     "name": "stderr",
     "output_type": "stream",
     "text": [
      " 56%|█████▌    | 2802/5000 [01:40<03:12, 11.40it/s]"
     ]
    },
    {
     "name": "stdout",
     "output_type": "stream",
     "text": [
      "score 433.0\n"
     ]
    },
    {
     "name": "stderr",
     "output_type": "stream",
     "text": [
      " 57%|█████▋    | 2852/5000 [01:43<02:08, 16.73it/s]"
     ]
    },
    {
     "name": "stdout",
     "output_type": "stream",
     "text": [
      "score 63.0\n"
     ]
    },
    {
     "name": "stderr",
     "output_type": "stream",
     "text": [
      " 58%|█████▊    | 2903/5000 [01:48<02:58, 11.73it/s]"
     ]
    },
    {
     "name": "stdout",
     "output_type": "stream",
     "text": [
      "score 23.0\n"
     ]
    },
    {
     "name": "stderr",
     "output_type": "stream",
     "text": [
      " 59%|█████▉    | 2955/5000 [01:53<02:44, 12.47it/s]"
     ]
    },
    {
     "name": "stdout",
     "output_type": "stream",
     "text": [
      "score 43.0\n"
     ]
    },
    {
     "name": "stderr",
     "output_type": "stream",
     "text": [
      " 60%|██████    | 3003/5000 [01:56<02:29, 13.36it/s]"
     ]
    },
    {
     "name": "stdout",
     "output_type": "stream",
     "text": [
      "score 63.0\n"
     ]
    },
    {
     "name": "stderr",
     "output_type": "stream",
     "text": [
      " 61%|██████    | 3051/5000 [01:59<02:32, 12.80it/s]"
     ]
    },
    {
     "name": "stdout",
     "output_type": "stream",
     "text": [
      "score 213.0\n"
     ]
    },
    {
     "name": "stderr",
     "output_type": "stream",
     "text": [
      " 62%|██████▏   | 3101/5000 [02:03<01:56, 16.30it/s]"
     ]
    },
    {
     "name": "stdout",
     "output_type": "stream",
     "text": [
      "score 83.0\n"
     ]
    },
    {
     "name": "stderr",
     "output_type": "stream",
     "text": [
      " 63%|██████▎   | 3152/5000 [02:08<02:40, 11.53it/s]"
     ]
    },
    {
     "name": "stdout",
     "output_type": "stream",
     "text": [
      "score 173.0\n"
     ]
    },
    {
     "name": "stderr",
     "output_type": "stream",
     "text": [
      " 64%|██████▍   | 3203/5000 [02:13<03:08,  9.51it/s]"
     ]
    },
    {
     "name": "stdout",
     "output_type": "stream",
     "text": [
      "score 303.0\n"
     ]
    },
    {
     "name": "stderr",
     "output_type": "stream",
     "text": [
      " 65%|██████▌   | 3251/5000 [02:18<04:27,  6.53it/s]"
     ]
    },
    {
     "name": "stdout",
     "output_type": "stream",
     "text": [
      "score 853.0\n"
     ]
    },
    {
     "name": "stderr",
     "output_type": "stream",
     "text": [
      " 66%|██████▌   | 3303/5000 [02:24<02:43, 10.37it/s]"
     ]
    },
    {
     "name": "stdout",
     "output_type": "stream",
     "text": [
      "score 453.0\n"
     ]
    },
    {
     "name": "stderr",
     "output_type": "stream",
     "text": [
      " 67%|██████▋   | 3351/5000 [02:30<04:37,  5.94it/s]"
     ]
    },
    {
     "name": "stdout",
     "output_type": "stream",
     "text": [
      "score 233.0\n"
     ]
    },
    {
     "name": "stderr",
     "output_type": "stream",
     "text": [
      " 68%|██████▊   | 3401/5000 [02:35<04:51,  5.49it/s]"
     ]
    },
    {
     "name": "stdout",
     "output_type": "stream",
     "text": [
      "score 133.0\n"
     ]
    },
    {
     "name": "stderr",
     "output_type": "stream",
     "text": [
      " 69%|██████▉   | 3451/5000 [02:44<04:25,  5.83it/s]"
     ]
    },
    {
     "name": "stdout",
     "output_type": "stream",
     "text": [
      "score 93.0\n"
     ]
    },
    {
     "name": "stderr",
     "output_type": "stream",
     "text": [
      " 70%|███████   | 3501/5000 [02:50<04:43,  5.28it/s]"
     ]
    },
    {
     "name": "stdout",
     "output_type": "stream",
     "text": [
      "score 623.0\n"
     ]
    },
    {
     "name": "stderr",
     "output_type": "stream",
     "text": [
      " 71%|███████   | 3552/5000 [02:58<05:01,  4.80it/s]"
     ]
    },
    {
     "name": "stdout",
     "output_type": "stream",
     "text": [
      "score 1000.0\n"
     ]
    },
    {
     "name": "stderr",
     "output_type": "stream",
     "text": [
      " 72%|███████▏  | 3602/5000 [03:04<03:42,  6.28it/s]"
     ]
    },
    {
     "name": "stdout",
     "output_type": "stream",
     "text": [
      "score 43.0\n"
     ]
    },
    {
     "name": "stderr",
     "output_type": "stream",
     "text": [
      " 73%|███████▎  | 3652/5000 [03:11<03:26,  6.54it/s]"
     ]
    },
    {
     "name": "stdout",
     "output_type": "stream",
     "text": [
      "score 523.0\n"
     ]
    },
    {
     "name": "stderr",
     "output_type": "stream",
     "text": [
      " 74%|███████▍  | 3702/5000 [03:18<03:44,  5.78it/s]"
     ]
    },
    {
     "name": "stdout",
     "output_type": "stream",
     "text": [
      "score 1000.0\n"
     ]
    },
    {
     "name": "stderr",
     "output_type": "stream",
     "text": [
      " 75%|███████▌  | 3753/5000 [03:26<02:50,  7.31it/s]"
     ]
    },
    {
     "name": "stdout",
     "output_type": "stream",
     "text": [
      "score 333.0\n"
     ]
    },
    {
     "name": "stderr",
     "output_type": "stream",
     "text": [
      " 76%|███████▌  | 3801/5000 [03:31<02:30,  7.96it/s]"
     ]
    },
    {
     "name": "stdout",
     "output_type": "stream",
     "text": [
      "score 283.0\n"
     ]
    },
    {
     "name": "stderr",
     "output_type": "stream",
     "text": [
      " 77%|███████▋  | 3853/5000 [03:37<01:35, 12.04it/s]"
     ]
    },
    {
     "name": "stdout",
     "output_type": "stream",
     "text": [
      "score 73.0\n"
     ]
    },
    {
     "name": "stderr",
     "output_type": "stream",
     "text": [
      " 78%|███████▊  | 3900/5000 [03:42<01:06, 16.48it/s]"
     ]
    },
    {
     "name": "stdout",
     "output_type": "stream",
     "text": [
      "score 533.0\n"
     ]
    },
    {
     "name": "stderr",
     "output_type": "stream",
     "text": [
      " 79%|███████▉  | 3954/5000 [03:49<02:08,  8.13it/s]"
     ]
    },
    {
     "name": "stdout",
     "output_type": "stream",
     "text": [
      "score 83.0\n"
     ]
    },
    {
     "name": "stderr",
     "output_type": "stream",
     "text": [
      " 80%|████████  | 4001/5000 [03:53<01:54,  8.75it/s]"
     ]
    },
    {
     "name": "stdout",
     "output_type": "stream",
     "text": [
      "score 243.0\n"
     ]
    },
    {
     "name": "stderr",
     "output_type": "stream",
     "text": [
      " 81%|████████  | 4052/5000 [04:00<02:36,  6.05it/s]"
     ]
    },
    {
     "name": "stdout",
     "output_type": "stream",
     "text": [
      "score 213.0\n"
     ]
    },
    {
     "name": "stderr",
     "output_type": "stream",
     "text": [
      " 82%|████████▏ | 4103/5000 [04:08<01:20, 11.16it/s]"
     ]
    },
    {
     "name": "stdout",
     "output_type": "stream",
     "text": [
      "score 33.0\n"
     ]
    },
    {
     "name": "stderr",
     "output_type": "stream",
     "text": [
      " 83%|████████▎ | 4154/5000 [04:13<01:13, 11.55it/s]"
     ]
    },
    {
     "name": "stdout",
     "output_type": "stream",
     "text": [
      "score 193.0\n"
     ]
    },
    {
     "name": "stderr",
     "output_type": "stream",
     "text": [
      " 84%|████████▍ | 4201/5000 [04:19<01:55,  6.91it/s]"
     ]
    },
    {
     "name": "stdout",
     "output_type": "stream",
     "text": [
      "score 553.0\n"
     ]
    },
    {
     "name": "stderr",
     "output_type": "stream",
     "text": [
      " 85%|████████▌ | 4251/5000 [04:27<03:25,  3.65it/s]"
     ]
    },
    {
     "name": "stdout",
     "output_type": "stream",
     "text": [
      "score 1000.0\n"
     ]
    },
    {
     "name": "stderr",
     "output_type": "stream",
     "text": [
      " 86%|████████▌ | 4301/5000 [04:36<03:34,  3.25it/s]"
     ]
    },
    {
     "name": "stdout",
     "output_type": "stream",
     "text": [
      "score 663.0\n"
     ]
    },
    {
     "name": "stderr",
     "output_type": "stream",
     "text": [
      " 87%|████████▋ | 4353/5000 [04:43<00:55, 11.75it/s]"
     ]
    },
    {
     "name": "stdout",
     "output_type": "stream",
     "text": [
      "score 123.0\n"
     ]
    },
    {
     "name": "stderr",
     "output_type": "stream",
     "text": [
      " 88%|████████▊ | 4405/5000 [04:47<00:33, 17.87it/s]"
     ]
    },
    {
     "name": "stdout",
     "output_type": "stream",
     "text": [
      "score 23.0\n"
     ]
    },
    {
     "name": "stderr",
     "output_type": "stream",
     "text": [
      " 89%|████████▉ | 4452/5000 [04:51<00:47, 11.44it/s]"
     ]
    },
    {
     "name": "stdout",
     "output_type": "stream",
     "text": [
      "score 23.0\n"
     ]
    },
    {
     "name": "stderr",
     "output_type": "stream",
     "text": [
      " 90%|█████████ | 4501/5000 [04:56<00:42, 11.67it/s]"
     ]
    },
    {
     "name": "stdout",
     "output_type": "stream",
     "text": [
      "score 53.0\n"
     ]
    },
    {
     "name": "stderr",
     "output_type": "stream",
     "text": [
      " 91%|█████████ | 4552/5000 [05:01<00:47,  9.51it/s]"
     ]
    },
    {
     "name": "stdout",
     "output_type": "stream",
     "text": [
      "score 173.0\n"
     ]
    },
    {
     "name": "stderr",
     "output_type": "stream",
     "text": [
      " 92%|█████████▏| 4602/5000 [05:06<00:54,  7.27it/s]"
     ]
    },
    {
     "name": "stdout",
     "output_type": "stream",
     "text": [
      "score 13.0\n"
     ]
    },
    {
     "name": "stderr",
     "output_type": "stream",
     "text": [
      " 93%|█████████▎| 4652/5000 [05:13<01:03,  5.50it/s]"
     ]
    },
    {
     "name": "stdout",
     "output_type": "stream",
     "text": [
      "score 723.0\n"
     ]
    },
    {
     "name": "stderr",
     "output_type": "stream",
     "text": [
      " 94%|█████████▍| 4701/5000 [05:19<00:44,  6.72it/s]"
     ]
    },
    {
     "name": "stdout",
     "output_type": "stream",
     "text": [
      "score 113.0\n"
     ]
    },
    {
     "name": "stderr",
     "output_type": "stream",
     "text": [
      " 95%|█████████▌| 4752/5000 [05:26<00:24,  9.95it/s]"
     ]
    },
    {
     "name": "stdout",
     "output_type": "stream",
     "text": [
      "score 96.0\n"
     ]
    },
    {
     "name": "stderr",
     "output_type": "stream",
     "text": [
      " 96%|█████████▌| 4802/5000 [05:31<00:24,  8.20it/s]"
     ]
    },
    {
     "name": "stdout",
     "output_type": "stream",
     "text": [
      "score 383.0\n"
     ]
    },
    {
     "name": "stderr",
     "output_type": "stream",
     "text": [
      " 97%|█████████▋| 4852/5000 [05:37<00:19,  7.61it/s]"
     ]
    },
    {
     "name": "stdout",
     "output_type": "stream",
     "text": [
      "score 53.0\n"
     ]
    },
    {
     "name": "stderr",
     "output_type": "stream",
     "text": [
      " 98%|█████████▊| 4901/5000 [05:45<00:16,  6.18it/s]"
     ]
    },
    {
     "name": "stdout",
     "output_type": "stream",
     "text": [
      "score 213.0\n"
     ]
    },
    {
     "name": "stderr",
     "output_type": "stream",
     "text": [
      " 99%|█████████▉| 4951/5000 [05:52<00:06,  7.88it/s]"
     ]
    },
    {
     "name": "stdout",
     "output_type": "stream",
     "text": [
      "score 383.0\n"
     ]
    },
    {
     "name": "stderr",
     "output_type": "stream",
     "text": [
      "100%|██████████| 5000/5000 [06:00<00:00, 13.89it/s]\n"
     ]
    },
    {
     "name": "stdout",
     "output_type": "stream",
     "text": [
      "score moyen 394.06 nombre reussite totale 0\n"
     ]
    },
    {
     "data": {
      "application/vnd.jupyter.widget-view+json": {
       "model_id": "45befc48d6c54e26b02b51fb4b6cc272",
       "version_major": 2,
       "version_minor": 0
      },
      "text/plain": [
       "VBox(children=(Label(value='0.001 MB of 0.001 MB uploaded\\r'), FloatProgress(value=1.0, max=1.0)))"
      ]
     },
     "metadata": {},
     "output_type": "display_data"
    },
    {
     "data": {
      "text/html": [
       "<style>\n",
       "    table.wandb td:nth-child(1) { padding: 0 10px; text-align: left ; width: auto;} td:nth-child(2) {text-align: left ; width: 100%}\n",
       "    .wandb-row { display: flex; flex-direction: row; flex-wrap: wrap; justify-content: flex-start; width: 100% }\n",
       "    .wandb-col { display: flex; flex-direction: column; flex-basis: 100%; flex: 1; padding: 10px; }\n",
       "    </style>\n",
       "<div class=\"wandb-row\"><div class=\"wandb-col\"><h3>Run history:</h3><br/><table class=\"wandb\"><tr><td>score</td><td>▁▁▁▁▁▁▁▁▁▁▁▁▁▁▂▁▂▁▁▃▂▂▁▁▁▂▄▂█▅▃▅▂▂▆▁▂▆▄▄</td></tr></table><br/></div><div class=\"wandb-col\"><h3>Run summary:</h3><br/><table class=\"wandb\"><tr><td>score</td><td>383.0</td></tr></table><br/></div></div>"
      ],
      "text/plain": [
       "<IPython.core.display.HTML object>"
      ]
     },
     "metadata": {},
     "output_type": "display_data"
    },
    {
     "data": {
      "text/html": [
       " View run <strong style=\"color:#cdcd00\">MC processed= False height: 15 width: 20 gap: 4date: 12th04mo_00h47min30s</strong> at: <a href='https://wandb.ai/alexandre-selvestrel-team/FlappyBird-RL/runs/t325kgwu' target=\"_blank\">https://wandb.ai/alexandre-selvestrel-team/FlappyBird-RL/runs/t325kgwu</a><br/>Synced 5 W&B file(s), 0 media file(s), 0 artifact file(s) and 0 other file(s)"
      ],
      "text/plain": [
       "<IPython.core.display.HTML object>"
      ]
     },
     "metadata": {},
     "output_type": "display_data"
    },
    {
     "data": {
      "text/html": [
       "Find logs at: <code>.\\wandb\\run-20240412_004730-t325kgwu\\logs</code>"
      ],
      "text/plain": [
       "<IPython.core.display.HTML object>"
      ]
     },
     "metadata": {},
     "output_type": "display_data"
    },
    {
     "data": {
      "application/vnd.jupyter.widget-view+json": {
       "model_id": "010a25de369f4f8aa051e1e3f433c2e4",
       "version_major": 2,
       "version_minor": 0
      },
      "text/plain": [
       "VBox(children=(Label(value='Waiting for wandb.init()...\\r'), FloatProgress(value=0.011288888888889738, max=1.0…"
      ]
     },
     "metadata": {},
     "output_type": "display_data"
    },
    {
     "data": {
      "text/html": [
       "wandb version 0.16.6 is available!  To upgrade, please run:\n",
       " $ pip install wandb --upgrade"
      ],
      "text/plain": [
       "<IPython.core.display.HTML object>"
      ]
     },
     "metadata": {},
     "output_type": "display_data"
    },
    {
     "data": {
      "text/html": [
       "Tracking run with wandb version 0.16.3"
      ],
      "text/plain": [
       "<IPython.core.display.HTML object>"
      ]
     },
     "metadata": {},
     "output_type": "display_data"
    },
    {
     "data": {
      "text/html": [
       "Run data is saved locally in <code>c:\\Users\\33771\\Documents\\RL\\DM\\text-flappy-bird-gym\\Assignment\\wandb\\run-20240412_005415-4xyu0pvz</code>"
      ],
      "text/plain": [
       "<IPython.core.display.HTML object>"
      ]
     },
     "metadata": {},
     "output_type": "display_data"
    },
    {
     "data": {
      "text/html": [
       "Syncing run <strong><a href='https://wandb.ai/alexandre-selvestrel-team/FlappyBird-RL/runs/4xyu0pvz' target=\"_blank\">MC processed= False height: 15 width: 20 gap: 4date: 12th04mo_00h54min15s</a></strong> to <a href='https://wandb.ai/alexandre-selvestrel-team/FlappyBird-RL' target=\"_blank\">Weights & Biases</a> (<a href='https://wandb.me/run' target=\"_blank\">docs</a>)<br/>"
      ],
      "text/plain": [
       "<IPython.core.display.HTML object>"
      ]
     },
     "metadata": {},
     "output_type": "display_data"
    },
    {
     "data": {
      "text/html": [
       " View project at <a href='https://wandb.ai/alexandre-selvestrel-team/FlappyBird-RL' target=\"_blank\">https://wandb.ai/alexandre-selvestrel-team/FlappyBird-RL</a>"
      ],
      "text/plain": [
       "<IPython.core.display.HTML object>"
      ]
     },
     "metadata": {},
     "output_type": "display_data"
    },
    {
     "data": {
      "text/html": [
       " View run at <a href='https://wandb.ai/alexandre-selvestrel-team/FlappyBird-RL/runs/4xyu0pvz' target=\"_blank\">https://wandb.ai/alexandre-selvestrel-team/FlappyBird-RL/runs/4xyu0pvz</a>"
      ],
      "text/plain": [
       "<IPython.core.display.HTML object>"
      ]
     },
     "metadata": {},
     "output_type": "display_data"
    },
    {
     "name": "stderr",
     "output_type": "stream",
     "text": [
      "  1%|          | 36/5000 [00:00<00:31, 158.05it/s]"
     ]
    },
    {
     "name": "stdout",
     "output_type": "stream",
     "text": [
      "score 13.0\n"
     ]
    },
    {
     "name": "stderr",
     "output_type": "stream",
     "text": [
      "  1%|▏         | 67/5000 [00:00<00:35, 139.70it/s]"
     ]
    },
    {
     "name": "stdout",
     "output_type": "stream",
     "text": [
      "score 43.0\n"
     ]
    },
    {
     "name": "stderr",
     "output_type": "stream",
     "text": [
      "  3%|▎         | 126/5000 [00:00<00:37, 128.86it/s]"
     ]
    },
    {
     "name": "stdout",
     "output_type": "stream",
     "text": [
      "score 4.0\n"
     ]
    },
    {
     "name": "stderr",
     "output_type": "stream",
     "text": [
      "  3%|▎         | 165/5000 [00:01<00:39, 120.96it/s]"
     ]
    },
    {
     "name": "stdout",
     "output_type": "stream",
     "text": [
      "score 13.0\n"
     ]
    },
    {
     "name": "stderr",
     "output_type": "stream",
     "text": [
      "  4%|▍         | 214/5000 [00:01<00:41, 114.07it/s]"
     ]
    },
    {
     "name": "stdout",
     "output_type": "stream",
     "text": [
      "score 13.0\n"
     ]
    },
    {
     "name": "stderr",
     "output_type": "stream",
     "text": [
      "  5%|▌         | 263/5000 [00:02<00:43, 108.74it/s]"
     ]
    },
    {
     "name": "stdout",
     "output_type": "stream",
     "text": [
      "score 13.0\n"
     ]
    },
    {
     "name": "stderr",
     "output_type": "stream",
     "text": [
      "  6%|▋         | 313/5000 [00:02<00:42, 110.48it/s]"
     ]
    },
    {
     "name": "stdout",
     "output_type": "stream",
     "text": [
      "score 23.0\n"
     ]
    },
    {
     "name": "stderr",
     "output_type": "stream",
     "text": [
      "  7%|▋         | 362/5000 [00:03<00:44, 103.60it/s]"
     ]
    },
    {
     "name": "stdout",
     "output_type": "stream",
     "text": [
      "score 33.0\n"
     ]
    },
    {
     "name": "stderr",
     "output_type": "stream",
     "text": [
      "  8%|▊         | 421/5000 [00:03<00:43, 105.29it/s]"
     ]
    },
    {
     "name": "stdout",
     "output_type": "stream",
     "text": [
      "score 13.0\n"
     ]
    },
    {
     "name": "stderr",
     "output_type": "stream",
     "text": [
      "  9%|▉         | 455/5000 [00:03<00:44, 103.16it/s]"
     ]
    },
    {
     "name": "stdout",
     "output_type": "stream",
     "text": [
      "score 13.0\n"
     ]
    },
    {
     "name": "stderr",
     "output_type": "stream",
     "text": [
      " 10%|█         | 517/5000 [00:04<00:50, 89.11it/s] "
     ]
    },
    {
     "name": "stdout",
     "output_type": "stream",
     "text": [
      "score 23.0\n"
     ]
    },
    {
     "name": "stderr",
     "output_type": "stream",
     "text": [
      " 11%|█         | 561/5000 [00:05<00:49, 90.15it/s]"
     ]
    },
    {
     "name": "stdout",
     "output_type": "stream",
     "text": [
      "score 23.0\n"
     ]
    },
    {
     "name": "stderr",
     "output_type": "stream",
     "text": [
      " 12%|█▏        | 620/5000 [00:05<00:50, 86.66it/s]"
     ]
    },
    {
     "name": "stdout",
     "output_type": "stream",
     "text": [
      "score 43.0\n"
     ]
    },
    {
     "name": "stderr",
     "output_type": "stream",
     "text": [
      " 13%|█▎        | 660/5000 [00:06<00:52, 82.90it/s]"
     ]
    },
    {
     "name": "stdout",
     "output_type": "stream",
     "text": [
      "score 13.0\n"
     ]
    },
    {
     "name": "stderr",
     "output_type": "stream",
     "text": [
      " 14%|█▍        | 713/5000 [00:06<00:54, 78.81it/s]"
     ]
    },
    {
     "name": "stdout",
     "output_type": "stream",
     "text": [
      "score 43.0\n"
     ]
    },
    {
     "name": "stderr",
     "output_type": "stream",
     "text": [
      " 15%|█▌        | 765/5000 [00:07<00:51, 82.24it/s]"
     ]
    },
    {
     "name": "stdout",
     "output_type": "stream",
     "text": [
      "score 13.0\n"
     ]
    },
    {
     "name": "stderr",
     "output_type": "stream",
     "text": [
      " 16%|█▋        | 817/5000 [00:08<00:54, 77.09it/s]"
     ]
    },
    {
     "name": "stdout",
     "output_type": "stream",
     "text": [
      "score 15.0\n"
     ]
    },
    {
     "name": "stderr",
     "output_type": "stream",
     "text": [
      " 17%|█▋        | 860/5000 [00:09<01:05, 63.39it/s]"
     ]
    },
    {
     "name": "stdout",
     "output_type": "stream",
     "text": [
      "score 23.0\n"
     ]
    },
    {
     "name": "stderr",
     "output_type": "stream",
     "text": [
      " 18%|█▊        | 912/5000 [00:09<01:08, 59.98it/s]"
     ]
    },
    {
     "name": "stdout",
     "output_type": "stream",
     "text": [
      "score 43.0\n"
     ]
    },
    {
     "name": "stderr",
     "output_type": "stream",
     "text": [
      " 19%|█▉        | 965/5000 [00:10<01:01, 65.57it/s]"
     ]
    },
    {
     "name": "stdout",
     "output_type": "stream",
     "text": [
      "score 13.0\n"
     ]
    },
    {
     "name": "stderr",
     "output_type": "stream",
     "text": [
      " 20%|██        | 1007/5000 [00:11<01:18, 50.59it/s]"
     ]
    },
    {
     "name": "stdout",
     "output_type": "stream",
     "text": [
      "score 73.0\n"
     ]
    },
    {
     "name": "stderr",
     "output_type": "stream",
     "text": [
      " 21%|██        | 1056/5000 [00:12<01:16, 51.72it/s]"
     ]
    },
    {
     "name": "stdout",
     "output_type": "stream",
     "text": [
      "score 23.0\n"
     ]
    },
    {
     "name": "stderr",
     "output_type": "stream",
     "text": [
      " 22%|██▏       | 1107/5000 [00:13<01:38, 39.42it/s]"
     ]
    },
    {
     "name": "stdout",
     "output_type": "stream",
     "text": [
      "score 33.0\n"
     ]
    },
    {
     "name": "stderr",
     "output_type": "stream",
     "text": [
      " 23%|██▎       | 1162/5000 [00:15<01:20, 47.59it/s]"
     ]
    },
    {
     "name": "stdout",
     "output_type": "stream",
     "text": [
      "score 23.0\n"
     ]
    },
    {
     "name": "stderr",
     "output_type": "stream",
     "text": [
      " 24%|██▍       | 1201/5000 [00:15<01:22, 46.10it/s]"
     ]
    },
    {
     "name": "stdout",
     "output_type": "stream",
     "text": [
      "score 53.0\n"
     ]
    },
    {
     "name": "stderr",
     "output_type": "stream",
     "text": [
      " 25%|██▌       | 1256/5000 [00:17<01:45, 35.42it/s]"
     ]
    },
    {
     "name": "stdout",
     "output_type": "stream",
     "text": [
      "score 73.0\n"
     ]
    },
    {
     "name": "stderr",
     "output_type": "stream",
     "text": [
      " 26%|██▌       | 1307/5000 [00:18<01:53, 32.63it/s]"
     ]
    },
    {
     "name": "stdout",
     "output_type": "stream",
     "text": [
      "score 63.0\n"
     ]
    },
    {
     "name": "stderr",
     "output_type": "stream",
     "text": [
      " 27%|██▋       | 1357/5000 [00:20<01:40, 36.29it/s]"
     ]
    },
    {
     "name": "stdout",
     "output_type": "stream",
     "text": [
      "score 13.0\n"
     ]
    },
    {
     "name": "stderr",
     "output_type": "stream",
     "text": [
      " 28%|██▊       | 1408/5000 [00:21<01:15, 47.49it/s]"
     ]
    },
    {
     "name": "stdout",
     "output_type": "stream",
     "text": [
      "score 45.0\n"
     ]
    },
    {
     "name": "stderr",
     "output_type": "stream",
     "text": [
      " 29%|██▉       | 1451/5000 [00:22<01:44, 33.95it/s]"
     ]
    },
    {
     "name": "stdout",
     "output_type": "stream",
     "text": [
      "score 143.0\n"
     ]
    },
    {
     "name": "stderr",
     "output_type": "stream",
     "text": [
      " 30%|███       | 1504/5000 [00:24<02:17, 25.49it/s]"
     ]
    },
    {
     "name": "stdout",
     "output_type": "stream",
     "text": [
      "score 93.0\n"
     ]
    },
    {
     "name": "stderr",
     "output_type": "stream",
     "text": [
      " 31%|███       | 1557/5000 [00:26<01:25, 40.26it/s]"
     ]
    },
    {
     "name": "stdout",
     "output_type": "stream",
     "text": [
      "score 93.0\n"
     ]
    },
    {
     "name": "stderr",
     "output_type": "stream",
     "text": [
      " 32%|███▏      | 1605/5000 [00:27<01:50, 30.70it/s]"
     ]
    },
    {
     "name": "stdout",
     "output_type": "stream",
     "text": [
      "score 13.0\n"
     ]
    },
    {
     "name": "stderr",
     "output_type": "stream",
     "text": [
      " 33%|███▎      | 1654/5000 [00:29<02:12, 25.26it/s]"
     ]
    },
    {
     "name": "stdout",
     "output_type": "stream",
     "text": [
      "score 23.0\n"
     ]
    },
    {
     "name": "stderr",
     "output_type": "stream",
     "text": [
      " 34%|███▍      | 1702/5000 [00:31<02:15, 24.36it/s]"
     ]
    },
    {
     "name": "stdout",
     "output_type": "stream",
     "text": [
      "score 63.0\n"
     ]
    },
    {
     "name": "stderr",
     "output_type": "stream",
     "text": [
      " 35%|███▌      | 1756/5000 [00:33<02:16, 23.85it/s]"
     ]
    },
    {
     "name": "stdout",
     "output_type": "stream",
     "text": [
      "score 23.0\n"
     ]
    },
    {
     "name": "stderr",
     "output_type": "stream",
     "text": [
      " 36%|███▌      | 1807/5000 [00:35<01:38, 32.50it/s]"
     ]
    },
    {
     "name": "stdout",
     "output_type": "stream",
     "text": [
      "score 33.0\n"
     ]
    },
    {
     "name": "stderr",
     "output_type": "stream",
     "text": [
      " 37%|███▋      | 1853/5000 [00:37<02:30, 20.85it/s]"
     ]
    },
    {
     "name": "stdout",
     "output_type": "stream",
     "text": [
      "score 23.0\n"
     ]
    },
    {
     "name": "stderr",
     "output_type": "stream",
     "text": [
      " 38%|███▊      | 1906/5000 [00:39<02:14, 22.96it/s]"
     ]
    },
    {
     "name": "stdout",
     "output_type": "stream",
     "text": [
      "score 33.0\n"
     ]
    },
    {
     "name": "stderr",
     "output_type": "stream",
     "text": [
      " 39%|███▉      | 1959/5000 [00:41<01:44, 29.15it/s]"
     ]
    },
    {
     "name": "stdout",
     "output_type": "stream",
     "text": [
      "score 36.0\n"
     ]
    },
    {
     "name": "stderr",
     "output_type": "stream",
     "text": [
      " 40%|████      | 2003/5000 [00:44<03:41, 13.53it/s]"
     ]
    },
    {
     "name": "stdout",
     "output_type": "stream",
     "text": [
      "score 84.0\n"
     ]
    },
    {
     "name": "stderr",
     "output_type": "stream",
     "text": [
      " 41%|████      | 2054/5000 [00:47<02:37, 18.75it/s]"
     ]
    },
    {
     "name": "stdout",
     "output_type": "stream",
     "text": [
      "score 73.0\n"
     ]
    },
    {
     "name": "stderr",
     "output_type": "stream",
     "text": [
      " 42%|████▏     | 2104/5000 [00:49<02:41, 17.93it/s]"
     ]
    },
    {
     "name": "stdout",
     "output_type": "stream",
     "text": [
      "score 33.0\n"
     ]
    },
    {
     "name": "stderr",
     "output_type": "stream",
     "text": [
      " 43%|████▎     | 2156/5000 [00:52<02:40, 17.71it/s]"
     ]
    },
    {
     "name": "stdout",
     "output_type": "stream",
     "text": [
      "score 23.0\n"
     ]
    },
    {
     "name": "stderr",
     "output_type": "stream",
     "text": [
      " 44%|████▍     | 2205/5000 [00:55<02:18, 20.12it/s]"
     ]
    },
    {
     "name": "stdout",
     "output_type": "stream",
     "text": [
      "score 14.0\n"
     ]
    },
    {
     "name": "stderr",
     "output_type": "stream",
     "text": [
      " 45%|████▌     | 2254/5000 [00:58<02:59, 15.28it/s]"
     ]
    },
    {
     "name": "stdout",
     "output_type": "stream",
     "text": [
      "score 83.0\n"
     ]
    },
    {
     "name": "stderr",
     "output_type": "stream",
     "text": [
      " 46%|████▌     | 2305/5000 [01:01<02:45, 16.24it/s]"
     ]
    },
    {
     "name": "stdout",
     "output_type": "stream",
     "text": [
      "score 193.0\n"
     ]
    },
    {
     "name": "stderr",
     "output_type": "stream",
     "text": [
      " 47%|████▋     | 2353/5000 [01:04<03:22, 13.06it/s]"
     ]
    },
    {
     "name": "stdout",
     "output_type": "stream",
     "text": [
      "score 193.0\n"
     ]
    },
    {
     "name": "stderr",
     "output_type": "stream",
     "text": [
      " 48%|████▊     | 2406/5000 [01:08<02:30, 17.24it/s]"
     ]
    },
    {
     "name": "stdout",
     "output_type": "stream",
     "text": [
      "score 43.0\n"
     ]
    },
    {
     "name": "stderr",
     "output_type": "stream",
     "text": [
      " 49%|████▉     | 2453/5000 [01:12<03:10, 13.34it/s]"
     ]
    },
    {
     "name": "stdout",
     "output_type": "stream",
     "text": [
      "score 93.0\n"
     ]
    },
    {
     "name": "stderr",
     "output_type": "stream",
     "text": [
      " 50%|█████     | 2502/5000 [01:16<05:38,  7.38it/s]"
     ]
    },
    {
     "name": "stdout",
     "output_type": "stream",
     "text": [
      "score 543.0\n"
     ]
    },
    {
     "name": "stderr",
     "output_type": "stream",
     "text": [
      " 51%|█████     | 2555/5000 [01:21<03:16, 12.46it/s]"
     ]
    },
    {
     "name": "stdout",
     "output_type": "stream",
     "text": [
      "score 393.0\n"
     ]
    },
    {
     "name": "stderr",
     "output_type": "stream",
     "text": [
      " 52%|█████▏    | 2604/5000 [01:25<03:59, 10.01it/s]"
     ]
    },
    {
     "name": "stdout",
     "output_type": "stream",
     "text": [
      "score 83.0\n"
     ]
    },
    {
     "name": "stderr",
     "output_type": "stream",
     "text": [
      " 53%|█████▎    | 2651/5000 [01:30<04:42,  8.32it/s]"
     ]
    },
    {
     "name": "stdout",
     "output_type": "stream",
     "text": [
      "score 193.0\n"
     ]
    },
    {
     "name": "stderr",
     "output_type": "stream",
     "text": [
      " 54%|█████▍    | 2702/5000 [01:35<04:47,  7.99it/s]"
     ]
    },
    {
     "name": "stdout",
     "output_type": "stream",
     "text": [
      "score 14.0\n"
     ]
    },
    {
     "name": "stderr",
     "output_type": "stream",
     "text": [
      " 55%|█████▌    | 2756/5000 [01:42<03:17, 11.36it/s]"
     ]
    },
    {
     "name": "stdout",
     "output_type": "stream",
     "text": [
      "score 133.0\n"
     ]
    },
    {
     "name": "stderr",
     "output_type": "stream",
     "text": [
      " 56%|█████▌    | 2806/5000 [01:48<03:52,  9.43it/s]"
     ]
    },
    {
     "name": "stdout",
     "output_type": "stream",
     "text": [
      "score 243.0\n"
     ]
    },
    {
     "name": "stderr",
     "output_type": "stream",
     "text": [
      " 57%|█████▋    | 2852/5000 [01:54<04:12,  8.51it/s]"
     ]
    },
    {
     "name": "stdout",
     "output_type": "stream",
     "text": [
      "score 93.0\n"
     ]
    },
    {
     "name": "stderr",
     "output_type": "stream",
     "text": [
      " 58%|█████▊    | 2904/5000 [01:59<03:29, 10.01it/s]"
     ]
    },
    {
     "name": "stdout",
     "output_type": "stream",
     "text": [
      "score 63.0\n"
     ]
    },
    {
     "name": "stderr",
     "output_type": "stream",
     "text": [
      " 59%|█████▉    | 2953/5000 [02:04<03:00, 11.32it/s]"
     ]
    },
    {
     "name": "stdout",
     "output_type": "stream",
     "text": [
      "score 153.0\n"
     ]
    },
    {
     "name": "stderr",
     "output_type": "stream",
     "text": [
      " 60%|██████    | 3000/5000 [02:07<02:13, 15.02it/s]"
     ]
    },
    {
     "name": "stdout",
     "output_type": "stream",
     "text": [
      "score 63.0\n"
     ]
    },
    {
     "name": "stderr",
     "output_type": "stream",
     "text": [
      " 61%|██████    | 3054/5000 [02:13<02:46, 11.66it/s]"
     ]
    },
    {
     "name": "stdout",
     "output_type": "stream",
     "text": [
      "score 83.0\n"
     ]
    },
    {
     "name": "stderr",
     "output_type": "stream",
     "text": [
      " 62%|██████▏   | 3104/5000 [02:16<02:34, 12.29it/s]"
     ]
    },
    {
     "name": "stdout",
     "output_type": "stream",
     "text": [
      "score 174.0\n"
     ]
    },
    {
     "name": "stderr",
     "output_type": "stream",
     "text": [
      " 63%|██████▎   | 3152/5000 [02:21<03:36,  8.54it/s]"
     ]
    },
    {
     "name": "stdout",
     "output_type": "stream",
     "text": [
      "score 263.0\n"
     ]
    },
    {
     "name": "stderr",
     "output_type": "stream",
     "text": [
      " 64%|██████▍   | 3202/5000 [02:27<04:19,  6.93it/s]"
     ]
    },
    {
     "name": "stdout",
     "output_type": "stream",
     "text": [
      "score 543.0\n"
     ]
    },
    {
     "name": "stderr",
     "output_type": "stream",
     "text": [
      " 65%|██████▌   | 3251/5000 [02:33<03:29,  8.34it/s]"
     ]
    },
    {
     "name": "stdout",
     "output_type": "stream",
     "text": [
      "score 275.0\n"
     ]
    },
    {
     "name": "stderr",
     "output_type": "stream",
     "text": [
      " 66%|██████▌   | 3304/5000 [02:40<04:12,  6.71it/s]"
     ]
    },
    {
     "name": "stdout",
     "output_type": "stream",
     "text": [
      "score 733.0\n"
     ]
    },
    {
     "name": "stderr",
     "output_type": "stream",
     "text": [
      " 67%|██████▋   | 3351/5000 [02:48<03:32,  7.77it/s]"
     ]
    },
    {
     "name": "stdout",
     "output_type": "stream",
     "text": [
      "score 123.0\n"
     ]
    },
    {
     "name": "stderr",
     "output_type": "stream",
     "text": [
      " 68%|██████▊   | 3401/5000 [02:56<06:31,  4.09it/s]"
     ]
    },
    {
     "name": "stdout",
     "output_type": "stream",
     "text": [
      "score 563.0\n"
     ]
    },
    {
     "name": "stderr",
     "output_type": "stream",
     "text": [
      " 69%|██████▉   | 3452/5000 [03:04<04:39,  5.54it/s]"
     ]
    },
    {
     "name": "stdout",
     "output_type": "stream",
     "text": [
      "score 543.0\n"
     ]
    },
    {
     "name": "stderr",
     "output_type": "stream",
     "text": [
      " 70%|███████   | 3503/5000 [03:10<04:00,  6.23it/s]"
     ]
    },
    {
     "name": "stdout",
     "output_type": "stream",
     "text": [
      "score 900.0\n"
     ]
    },
    {
     "name": "stderr",
     "output_type": "stream",
     "text": [
      " 71%|███████   | 3553/5000 [03:16<03:27,  6.99it/s]"
     ]
    },
    {
     "name": "stdout",
     "output_type": "stream",
     "text": [
      "score 633.0\n"
     ]
    },
    {
     "name": "stderr",
     "output_type": "stream",
     "text": [
      " 72%|███████▏  | 3603/5000 [03:24<04:13,  5.51it/s]"
     ]
    },
    {
     "name": "stdout",
     "output_type": "stream",
     "text": [
      "score 93.0\n"
     ]
    },
    {
     "name": "stderr",
     "output_type": "stream",
     "text": [
      " 73%|███████▎  | 3651/5000 [03:34<04:14,  5.31it/s]"
     ]
    },
    {
     "name": "stdout",
     "output_type": "stream",
     "text": [
      "score 914.0\n"
     ]
    },
    {
     "name": "stderr",
     "output_type": "stream",
     "text": [
      " 74%|███████▍  | 3701/5000 [03:41<03:08,  6.90it/s]"
     ]
    },
    {
     "name": "stdout",
     "output_type": "stream",
     "text": [
      "score 353.0\n"
     ]
    },
    {
     "name": "stderr",
     "output_type": "stream",
     "text": [
      " 75%|███████▌  | 3751/5000 [03:48<05:11,  4.01it/s]"
     ]
    },
    {
     "name": "stdout",
     "output_type": "stream",
     "text": [
      "score 883.0\n"
     ]
    },
    {
     "name": "stderr",
     "output_type": "stream",
     "text": [
      " 76%|███████▌  | 3800/5000 [03:54<02:28,  8.09it/s]"
     ]
    },
    {
     "name": "stdout",
     "output_type": "stream",
     "text": [
      "score 53.0\n"
     ]
    },
    {
     "name": "stderr",
     "output_type": "stream",
     "text": [
      " 77%|███████▋  | 3851/5000 [04:01<04:08,  4.63it/s]"
     ]
    },
    {
     "name": "stdout",
     "output_type": "stream",
     "text": [
      "score 203.0\n"
     ]
    },
    {
     "name": "stderr",
     "output_type": "stream",
     "text": [
      " 78%|███████▊  | 3901/5000 [04:09<03:01,  6.06it/s]"
     ]
    },
    {
     "name": "stdout",
     "output_type": "stream",
     "text": [
      "score 223.0\n"
     ]
    },
    {
     "name": "stderr",
     "output_type": "stream",
     "text": [
      " 79%|███████▉  | 3951/5000 [04:18<03:38,  4.80it/s]"
     ]
    },
    {
     "name": "stdout",
     "output_type": "stream",
     "text": [
      "score 153.0\n"
     ]
    },
    {
     "name": "stderr",
     "output_type": "stream",
     "text": [
      " 80%|████████  | 4001/5000 [04:27<03:46,  4.42it/s]"
     ]
    },
    {
     "name": "stdout",
     "output_type": "stream",
     "text": [
      "score 213.0\n"
     ]
    },
    {
     "name": "stderr",
     "output_type": "stream",
     "text": [
      " 81%|████████  | 4051/5000 [04:37<03:43,  4.24it/s]"
     ]
    },
    {
     "name": "stdout",
     "output_type": "stream",
     "text": [
      "score 185.0\n"
     ]
    },
    {
     "name": "stderr",
     "output_type": "stream",
     "text": [
      " 82%|████████▏ | 4101/5000 [04:45<02:43,  5.50it/s]"
     ]
    },
    {
     "name": "stdout",
     "output_type": "stream",
     "text": [
      "score 163.0\n"
     ]
    },
    {
     "name": "stderr",
     "output_type": "stream",
     "text": [
      " 83%|████████▎ | 4151/5000 [04:54<01:39,  8.51it/s]"
     ]
    },
    {
     "name": "stdout",
     "output_type": "stream",
     "text": [
      "score 373.0\n"
     ]
    },
    {
     "name": "stderr",
     "output_type": "stream",
     "text": [
      " 84%|████████▍ | 4201/5000 [05:01<01:24,  9.43it/s]"
     ]
    },
    {
     "name": "stdout",
     "output_type": "stream",
     "text": [
      "score 264.0\n"
     ]
    },
    {
     "name": "stderr",
     "output_type": "stream",
     "text": [
      " 85%|████████▌ | 4252/5000 [05:09<03:38,  3.42it/s]"
     ]
    },
    {
     "name": "stdout",
     "output_type": "stream",
     "text": [
      "score 1000.0\n"
     ]
    },
    {
     "name": "stderr",
     "output_type": "stream",
     "text": [
      " 86%|████████▌ | 4303/5000 [05:18<02:11,  5.29it/s]"
     ]
    },
    {
     "name": "stdout",
     "output_type": "stream",
     "text": [
      "score 863.0\n"
     ]
    },
    {
     "name": "stderr",
     "output_type": "stream",
     "text": [
      " 87%|████████▋ | 4351/5000 [05:23<01:09,  9.37it/s]"
     ]
    },
    {
     "name": "stdout",
     "output_type": "stream",
     "text": [
      "score 83.0\n"
     ]
    },
    {
     "name": "stderr",
     "output_type": "stream",
     "text": [
      " 88%|████████▊ | 4404/5000 [05:32<02:11,  4.53it/s]"
     ]
    },
    {
     "name": "stdout",
     "output_type": "stream",
     "text": [
      "score 1000.0\n"
     ]
    },
    {
     "name": "stderr",
     "output_type": "stream",
     "text": [
      " 89%|████████▉ | 4451/5000 [05:39<01:33,  5.90it/s]"
     ]
    },
    {
     "name": "stdout",
     "output_type": "stream",
     "text": [
      "score 353.0\n"
     ]
    },
    {
     "name": "stderr",
     "output_type": "stream",
     "text": [
      " 90%|█████████ | 4501/5000 [05:47<01:12,  6.90it/s]"
     ]
    },
    {
     "name": "stdout",
     "output_type": "stream",
     "text": [
      "score 283.0\n"
     ]
    },
    {
     "name": "stderr",
     "output_type": "stream",
     "text": [
      " 91%|█████████ | 4551/5000 [05:54<01:16,  5.86it/s]"
     ]
    },
    {
     "name": "stdout",
     "output_type": "stream",
     "text": [
      "score 273.0\n"
     ]
    },
    {
     "name": "stderr",
     "output_type": "stream",
     "text": [
      " 92%|█████████▏| 4602/5000 [06:01<00:57,  6.89it/s]"
     ]
    },
    {
     "name": "stdout",
     "output_type": "stream",
     "text": [
      "score 595.0\n"
     ]
    },
    {
     "name": "stderr",
     "output_type": "stream",
     "text": [
      " 93%|█████████▎| 4651/5000 [06:09<00:54,  6.43it/s]"
     ]
    },
    {
     "name": "stdout",
     "output_type": "stream",
     "text": [
      "score 453.0\n"
     ]
    },
    {
     "name": "stderr",
     "output_type": "stream",
     "text": [
      " 94%|█████████▍| 4700/5000 [06:17<00:32,  9.12it/s]"
     ]
    },
    {
     "name": "stdout",
     "output_type": "stream",
     "text": [
      "score 143.0\n"
     ]
    },
    {
     "name": "stderr",
     "output_type": "stream",
     "text": [
      " 95%|█████████▌| 4753/5000 [06:23<00:20, 12.09it/s]"
     ]
    },
    {
     "name": "stdout",
     "output_type": "stream",
     "text": [
      "score 94.0\n"
     ]
    },
    {
     "name": "stderr",
     "output_type": "stream",
     "text": [
      " 96%|█████████▌| 4802/5000 [06:27<00:18, 10.43it/s]"
     ]
    },
    {
     "name": "stdout",
     "output_type": "stream",
     "text": [
      "score 114.0\n"
     ]
    },
    {
     "name": "stderr",
     "output_type": "stream",
     "text": [
      " 97%|█████████▋| 4851/5000 [06:33<00:20,  7.10it/s]"
     ]
    },
    {
     "name": "stdout",
     "output_type": "stream",
     "text": [
      "score 325.0\n"
     ]
    },
    {
     "name": "stderr",
     "output_type": "stream",
     "text": [
      " 98%|█████████▊| 4903/5000 [06:40<00:14,  6.59it/s]"
     ]
    },
    {
     "name": "stdout",
     "output_type": "stream",
     "text": [
      "score 483.0\n"
     ]
    },
    {
     "name": "stderr",
     "output_type": "stream",
     "text": [
      " 99%|█████████▉| 4952/5000 [06:47<00:06,  7.84it/s]"
     ]
    },
    {
     "name": "stdout",
     "output_type": "stream",
     "text": [
      "score 32.0\n"
     ]
    },
    {
     "name": "stderr",
     "output_type": "stream",
     "text": [
      "100%|██████████| 5000/5000 [06:55<00:00, 12.02it/s]\n"
     ]
    },
    {
     "name": "stdout",
     "output_type": "stream",
     "text": [
      "score moyen 414.88 nombre reussite totale 0\n"
     ]
    },
    {
     "data": {
      "application/vnd.jupyter.widget-view+json": {
       "model_id": "d9cc1afcdd8a4dfb83f042fbea3f12ad",
       "version_major": 2,
       "version_minor": 0
      },
      "text/plain": [
       "VBox(children=(Label(value='0.001 MB of 0.001 MB uploaded\\r'), FloatProgress(value=1.0, max=1.0)))"
      ]
     },
     "metadata": {},
     "output_type": "display_data"
    },
    {
     "data": {
      "text/html": [
       "<style>\n",
       "    table.wandb td:nth-child(1) { padding: 0 10px; text-align: left ; width: auto;} td:nth-child(2) {text-align: left ; width: 100%}\n",
       "    .wandb-row { display: flex; flex-direction: row; flex-wrap: wrap; justify-content: flex-start; width: 100% }\n",
       "    .wandb-col { display: flex; flex-direction: column; flex-basis: 100%; flex: 1; padding: 10px; }\n",
       "    </style>\n",
       "<div class=\"wandb-row\"><div class=\"wandb-col\"><h3>Run history:</h3><br/><table class=\"wandb\"><tr><td>score</td><td>▁▁▁▁▁▁▁▁▁▁▁▁▂▁▁▁▂▁▂▁▅▂▂▁▁▃▆▅▅▇▁▃▂▄▇█▃▄▂▁</td></tr></table><br/></div><div class=\"wandb-col\"><h3>Run summary:</h3><br/><table class=\"wandb\"><tr><td>score</td><td>32.0</td></tr></table><br/></div></div>"
      ],
      "text/plain": [
       "<IPython.core.display.HTML object>"
      ]
     },
     "metadata": {},
     "output_type": "display_data"
    },
    {
     "data": {
      "text/html": [
       " View run <strong style=\"color:#cdcd00\">MC processed= False height: 15 width: 20 gap: 4date: 12th04mo_00h54min15s</strong> at: <a href='https://wandb.ai/alexandre-selvestrel-team/FlappyBird-RL/runs/4xyu0pvz' target=\"_blank\">https://wandb.ai/alexandre-selvestrel-team/FlappyBird-RL/runs/4xyu0pvz</a><br/>Synced 5 W&B file(s), 0 media file(s), 0 artifact file(s) and 0 other file(s)"
      ],
      "text/plain": [
       "<IPython.core.display.HTML object>"
      ]
     },
     "metadata": {},
     "output_type": "display_data"
    },
    {
     "data": {
      "text/html": [
       "Find logs at: <code>.\\wandb\\run-20240412_005415-4xyu0pvz\\logs</code>"
      ],
      "text/plain": [
       "<IPython.core.display.HTML object>"
      ]
     },
     "metadata": {},
     "output_type": "display_data"
    },
    {
     "data": {
      "application/vnd.jupyter.widget-view+json": {
       "model_id": "5993ad4f234b44978db123af0afed4cb",
       "version_major": 2,
       "version_minor": 0
      },
      "text/plain": [
       "VBox(children=(Label(value='Waiting for wandb.init()...\\r'), FloatProgress(value=0.011111111111111112, max=1.0…"
      ]
     },
     "metadata": {},
     "output_type": "display_data"
    },
    {
     "data": {
      "text/html": [
       "wandb version 0.16.6 is available!  To upgrade, please run:\n",
       " $ pip install wandb --upgrade"
      ],
      "text/plain": [
       "<IPython.core.display.HTML object>"
      ]
     },
     "metadata": {},
     "output_type": "display_data"
    },
    {
     "data": {
      "text/html": [
       "Tracking run with wandb version 0.16.3"
      ],
      "text/plain": [
       "<IPython.core.display.HTML object>"
      ]
     },
     "metadata": {},
     "output_type": "display_data"
    },
    {
     "data": {
      "text/html": [
       "Run data is saved locally in <code>c:\\Users\\33771\\Documents\\RL\\DM\\text-flappy-bird-gym\\Assignment\\wandb\\run-20240412_010148-ld6j9y9k</code>"
      ],
      "text/plain": [
       "<IPython.core.display.HTML object>"
      ]
     },
     "metadata": {},
     "output_type": "display_data"
    },
    {
     "data": {
      "text/html": [
       "Syncing run <strong><a href='https://wandb.ai/alexandre-selvestrel-team/FlappyBird-RL/runs/ld6j9y9k' target=\"_blank\">MC processed= False height: 15 width: 20 gap: 4date: 12th04mo_01h01min48s</a></strong> to <a href='https://wandb.ai/alexandre-selvestrel-team/FlappyBird-RL' target=\"_blank\">Weights & Biases</a> (<a href='https://wandb.me/run' target=\"_blank\">docs</a>)<br/>"
      ],
      "text/plain": [
       "<IPython.core.display.HTML object>"
      ]
     },
     "metadata": {},
     "output_type": "display_data"
    },
    {
     "data": {
      "text/html": [
       " View project at <a href='https://wandb.ai/alexandre-selvestrel-team/FlappyBird-RL' target=\"_blank\">https://wandb.ai/alexandre-selvestrel-team/FlappyBird-RL</a>"
      ],
      "text/plain": [
       "<IPython.core.display.HTML object>"
      ]
     },
     "metadata": {},
     "output_type": "display_data"
    },
    {
     "data": {
      "text/html": [
       " View run at <a href='https://wandb.ai/alexandre-selvestrel-team/FlappyBird-RL/runs/ld6j9y9k' target=\"_blank\">https://wandb.ai/alexandre-selvestrel-team/FlappyBird-RL/runs/ld6j9y9k</a>"
      ],
      "text/plain": [
       "<IPython.core.display.HTML object>"
      ]
     },
     "metadata": {},
     "output_type": "display_data"
    },
    {
     "name": "stderr",
     "output_type": "stream",
     "text": [
      "  1%|          | 37/5000 [00:00<00:27, 182.60it/s]"
     ]
    },
    {
     "name": "stdout",
     "output_type": "stream",
     "text": [
      "score 4.0\n"
     ]
    },
    {
     "name": "stderr",
     "output_type": "stream",
     "text": [
      "  1%|▏         | 74/5000 [00:00<00:32, 151.46it/s]"
     ]
    },
    {
     "name": "stdout",
     "output_type": "stream",
     "text": [
      "score 13.0\n"
     ]
    },
    {
     "name": "stderr",
     "output_type": "stream",
     "text": [
      "  2%|▏         | 118/5000 [00:00<00:37, 129.20it/s]"
     ]
    },
    {
     "name": "stdout",
     "output_type": "stream",
     "text": [
      "score 13.0\n"
     ]
    },
    {
     "name": "stderr",
     "output_type": "stream",
     "text": [
      "  4%|▎         | 176/5000 [00:01<00:37, 128.29it/s]"
     ]
    },
    {
     "name": "stdout",
     "output_type": "stream",
     "text": [
      "score 13.0\n"
     ]
    },
    {
     "name": "stderr",
     "output_type": "stream",
     "text": [
      "  4%|▍         | 216/5000 [00:01<00:38, 125.71it/s]"
     ]
    },
    {
     "name": "stdout",
     "output_type": "stream",
     "text": [
      "score 13.0\n"
     ]
    },
    {
     "name": "stderr",
     "output_type": "stream",
     "text": [
      "  5%|▌         | 268/5000 [00:02<00:42, 112.39it/s]"
     ]
    },
    {
     "name": "stdout",
     "output_type": "stream",
     "text": [
      "score 13.0\n"
     ]
    },
    {
     "name": "stderr",
     "output_type": "stream",
     "text": [
      "  6%|▋         | 314/5000 [00:02<00:44, 105.36it/s]"
     ]
    },
    {
     "name": "stdout",
     "output_type": "stream",
     "text": [
      "score 13.0\n"
     ]
    },
    {
     "name": "stderr",
     "output_type": "stream",
     "text": [
      "  7%|▋         | 367/5000 [00:03<00:54, 85.03it/s] "
     ]
    },
    {
     "name": "stdout",
     "output_type": "stream",
     "text": [
      "score 13.0\n"
     ]
    },
    {
     "name": "stderr",
     "output_type": "stream",
     "text": [
      "  8%|▊         | 411/5000 [00:03<00:47, 96.98it/s]"
     ]
    },
    {
     "name": "stdout",
     "output_type": "stream",
     "text": [
      "score 13.0\n"
     ]
    },
    {
     "name": "stderr",
     "output_type": "stream",
     "text": [
      "  9%|▉         | 464/5000 [00:04<00:52, 85.78it/s] "
     ]
    },
    {
     "name": "stdout",
     "output_type": "stream",
     "text": [
      "score 13.0\n"
     ]
    },
    {
     "name": "stderr",
     "output_type": "stream",
     "text": [
      " 10%|█         | 513/5000 [00:04<01:11, 63.10it/s]"
     ]
    },
    {
     "name": "stdout",
     "output_type": "stream",
     "text": [
      "score 23.0\n"
     ]
    },
    {
     "name": "stderr",
     "output_type": "stream",
     "text": [
      " 11%|█         | 560/5000 [00:05<01:06, 66.65it/s]"
     ]
    },
    {
     "name": "stdout",
     "output_type": "stream",
     "text": [
      "score 23.0\n"
     ]
    },
    {
     "name": "stderr",
     "output_type": "stream",
     "text": [
      " 12%|█▏        | 614/5000 [00:06<01:04, 68.33it/s]"
     ]
    },
    {
     "name": "stdout",
     "output_type": "stream",
     "text": [
      "score 23.0\n"
     ]
    },
    {
     "name": "stderr",
     "output_type": "stream",
     "text": [
      " 13%|█▎        | 662/5000 [00:07<01:16, 56.49it/s]"
     ]
    },
    {
     "name": "stdout",
     "output_type": "stream",
     "text": [
      "score 33.0\n"
     ]
    },
    {
     "name": "stderr",
     "output_type": "stream",
     "text": [
      " 14%|█▍        | 706/5000 [00:08<01:14, 57.83it/s]"
     ]
    },
    {
     "name": "stdout",
     "output_type": "stream",
     "text": [
      "score 23.0\n"
     ]
    },
    {
     "name": "stderr",
     "output_type": "stream",
     "text": [
      " 15%|█▌        | 756/5000 [00:09<01:25, 49.48it/s]"
     ]
    },
    {
     "name": "stdout",
     "output_type": "stream",
     "text": [
      "score 23.0\n"
     ]
    },
    {
     "name": "stderr",
     "output_type": "stream",
     "text": [
      " 16%|█▌        | 806/5000 [00:10<01:52, 37.28it/s]"
     ]
    },
    {
     "name": "stdout",
     "output_type": "stream",
     "text": [
      "score 43.0\n"
     ]
    },
    {
     "name": "stderr",
     "output_type": "stream",
     "text": [
      " 17%|█▋        | 853/5000 [00:11<01:34, 44.11it/s]"
     ]
    },
    {
     "name": "stdout",
     "output_type": "stream",
     "text": [
      "score 13.0\n"
     ]
    },
    {
     "name": "stderr",
     "output_type": "stream",
     "text": [
      " 18%|█▊        | 908/5000 [00:12<01:45, 38.89it/s]"
     ]
    },
    {
     "name": "stdout",
     "output_type": "stream",
     "text": [
      "score 33.0\n"
     ]
    },
    {
     "name": "stderr",
     "output_type": "stream",
     "text": [
      " 19%|█▉        | 961/5000 [00:13<01:31, 44.14it/s]"
     ]
    },
    {
     "name": "stdout",
     "output_type": "stream",
     "text": [
      "score 33.0\n"
     ]
    },
    {
     "name": "stderr",
     "output_type": "stream",
     "text": [
      " 20%|██        | 1007/5000 [00:15<01:46, 37.32it/s]"
     ]
    },
    {
     "name": "stdout",
     "output_type": "stream",
     "text": [
      "score 33.0\n"
     ]
    },
    {
     "name": "stderr",
     "output_type": "stream",
     "text": [
      " 21%|██        | 1056/5000 [00:16<01:39, 39.68it/s]"
     ]
    },
    {
     "name": "stdout",
     "output_type": "stream",
     "text": [
      "score 43.0\n"
     ]
    },
    {
     "name": "stderr",
     "output_type": "stream",
     "text": [
      " 22%|██▏       | 1106/5000 [00:17<01:49, 35.64it/s]"
     ]
    },
    {
     "name": "stdout",
     "output_type": "stream",
     "text": [
      "score 43.0\n"
     ]
    },
    {
     "name": "stderr",
     "output_type": "stream",
     "text": [
      " 23%|██▎       | 1155/5000 [00:19<02:02, 31.26it/s]"
     ]
    },
    {
     "name": "stdout",
     "output_type": "stream",
     "text": [
      "score 33.0\n"
     ]
    },
    {
     "name": "stderr",
     "output_type": "stream",
     "text": [
      " 24%|██▍       | 1207/5000 [00:20<01:51, 33.89it/s]"
     ]
    },
    {
     "name": "stdout",
     "output_type": "stream",
     "text": [
      "score 33.0\n"
     ]
    },
    {
     "name": "stderr",
     "output_type": "stream",
     "text": [
      " 25%|██▌       | 1252/5000 [00:22<02:20, 26.77it/s]"
     ]
    },
    {
     "name": "stdout",
     "output_type": "stream",
     "text": [
      "score 33.0\n"
     ]
    },
    {
     "name": "stderr",
     "output_type": "stream",
     "text": [
      " 26%|██▌       | 1304/5000 [00:24<02:33, 24.06it/s]"
     ]
    },
    {
     "name": "stdout",
     "output_type": "stream",
     "text": [
      "score 133.0\n"
     ]
    },
    {
     "name": "stderr",
     "output_type": "stream",
     "text": [
      " 27%|██▋       | 1357/5000 [00:26<01:55, 31.44it/s]"
     ]
    },
    {
     "name": "stdout",
     "output_type": "stream",
     "text": [
      "score 33.0\n"
     ]
    },
    {
     "name": "stderr",
     "output_type": "stream",
     "text": [
      " 28%|██▊       | 1405/5000 [00:28<02:15, 26.61it/s]"
     ]
    },
    {
     "name": "stdout",
     "output_type": "stream",
     "text": [
      "score 203.0\n"
     ]
    },
    {
     "name": "stderr",
     "output_type": "stream",
     "text": [
      " 29%|██▉       | 1457/5000 [00:31<02:26, 24.15it/s]"
     ]
    },
    {
     "name": "stdout",
     "output_type": "stream",
     "text": [
      "score 83.0\n"
     ]
    },
    {
     "name": "stderr",
     "output_type": "stream",
     "text": [
      " 30%|███       | 1503/5000 [00:33<05:08, 11.35it/s]"
     ]
    },
    {
     "name": "stdout",
     "output_type": "stream",
     "text": [
      "score 425.0\n"
     ]
    },
    {
     "name": "stderr",
     "output_type": "stream",
     "text": [
      " 31%|███       | 1552/5000 [00:36<03:37, 15.83it/s]"
     ]
    },
    {
     "name": "stdout",
     "output_type": "stream",
     "text": [
      "score 213.0\n"
     ]
    },
    {
     "name": "stderr",
     "output_type": "stream",
     "text": [
      " 32%|███▏      | 1606/5000 [00:38<01:57, 28.86it/s]"
     ]
    },
    {
     "name": "stdout",
     "output_type": "stream",
     "text": [
      "score 43.0\n"
     ]
    },
    {
     "name": "stderr",
     "output_type": "stream",
     "text": [
      " 33%|███▎      | 1651/5000 [00:41<03:05, 18.03it/s]"
     ]
    },
    {
     "name": "stdout",
     "output_type": "stream",
     "text": [
      "score 245.0\n"
     ]
    },
    {
     "name": "stderr",
     "output_type": "stream",
     "text": [
      " 34%|███▍      | 1706/5000 [00:43<02:32, 21.67it/s]"
     ]
    },
    {
     "name": "stdout",
     "output_type": "stream",
     "text": [
      "score 383.0\n"
     ]
    },
    {
     "name": "stderr",
     "output_type": "stream",
     "text": [
      " 35%|███▌      | 1754/5000 [00:46<03:13, 16.79it/s]"
     ]
    },
    {
     "name": "stdout",
     "output_type": "stream",
     "text": [
      "score 64.0\n"
     ]
    },
    {
     "name": "stderr",
     "output_type": "stream",
     "text": [
      " 36%|███▌      | 1802/5000 [00:48<02:08, 24.98it/s]"
     ]
    },
    {
     "name": "stdout",
     "output_type": "stream",
     "text": [
      "score 25.0\n"
     ]
    },
    {
     "name": "stderr",
     "output_type": "stream",
     "text": [
      " 37%|███▋      | 1856/5000 [00:50<02:41, 19.42it/s]"
     ]
    },
    {
     "name": "stdout",
     "output_type": "stream",
     "text": [
      "score 143.0\n"
     ]
    },
    {
     "name": "stderr",
     "output_type": "stream",
     "text": [
      " 38%|███▊      | 1904/5000 [00:54<03:03, 16.85it/s]"
     ]
    },
    {
     "name": "stdout",
     "output_type": "stream",
     "text": [
      "score 33.0\n"
     ]
    },
    {
     "name": "stderr",
     "output_type": "stream",
     "text": [
      " 39%|███▉      | 1955/5000 [00:57<03:12, 15.78it/s]"
     ]
    },
    {
     "name": "stdout",
     "output_type": "stream",
     "text": [
      "score 293.0\n"
     ]
    },
    {
     "name": "stderr",
     "output_type": "stream",
     "text": [
      " 40%|████      | 2002/5000 [01:01<05:16,  9.47it/s]"
     ]
    },
    {
     "name": "stdout",
     "output_type": "stream",
     "text": [
      "score 513.0\n"
     ]
    },
    {
     "name": "stderr",
     "output_type": "stream",
     "text": [
      " 41%|████      | 2052/5000 [01:03<03:15, 15.09it/s]"
     ]
    },
    {
     "name": "stdout",
     "output_type": "stream",
     "text": [
      "score 133.0\n"
     ]
    },
    {
     "name": "stderr",
     "output_type": "stream",
     "text": [
      " 42%|████▏     | 2105/5000 [01:07<02:57, 16.30it/s]"
     ]
    },
    {
     "name": "stdout",
     "output_type": "stream",
     "text": [
      "score 113.0\n"
     ]
    },
    {
     "name": "stderr",
     "output_type": "stream",
     "text": [
      " 43%|████▎     | 2155/5000 [01:11<04:56,  9.60it/s]"
     ]
    },
    {
     "name": "stdout",
     "output_type": "stream",
     "text": [
      "score 233.0\n"
     ]
    },
    {
     "name": "stderr",
     "output_type": "stream",
     "text": [
      " 44%|████▍     | 2204/5000 [01:15<04:34, 10.19it/s]"
     ]
    },
    {
     "name": "stdout",
     "output_type": "stream",
     "text": [
      "score 313.0\n"
     ]
    },
    {
     "name": "stderr",
     "output_type": "stream",
     "text": [
      " 45%|████▌     | 2253/5000 [01:20<05:14,  8.74it/s]"
     ]
    },
    {
     "name": "stdout",
     "output_type": "stream",
     "text": [
      "score 533.0\n"
     ]
    },
    {
     "name": "stderr",
     "output_type": "stream",
     "text": [
      " 46%|████▌     | 2305/5000 [01:24<03:10, 14.15it/s]"
     ]
    },
    {
     "name": "stdout",
     "output_type": "stream",
     "text": [
      "score 233.0\n"
     ]
    },
    {
     "name": "stderr",
     "output_type": "stream",
     "text": [
      " 47%|████▋     | 2354/5000 [01:28<04:12, 10.47it/s]"
     ]
    },
    {
     "name": "stdout",
     "output_type": "stream",
     "text": [
      "score 543.0\n"
     ]
    },
    {
     "name": "stderr",
     "output_type": "stream",
     "text": [
      " 48%|████▊     | 2401/5000 [01:34<05:04,  8.53it/s]"
     ]
    },
    {
     "name": "stdout",
     "output_type": "stream",
     "text": [
      "score 123.0\n"
     ]
    },
    {
     "name": "stderr",
     "output_type": "stream",
     "text": [
      " 49%|████▉     | 2451/5000 [01:40<03:34, 11.89it/s]"
     ]
    },
    {
     "name": "stdout",
     "output_type": "stream",
     "text": [
      "score 63.0\n"
     ]
    },
    {
     "name": "stderr",
     "output_type": "stream",
     "text": [
      " 50%|█████     | 2502/5000 [01:46<07:50,  5.31it/s]"
     ]
    },
    {
     "name": "stdout",
     "output_type": "stream",
     "text": [
      "score 1000.0\n"
     ]
    },
    {
     "name": "stderr",
     "output_type": "stream",
     "text": [
      " 51%|█████     | 2554/5000 [01:52<04:10,  9.78it/s]"
     ]
    },
    {
     "name": "stdout",
     "output_type": "stream",
     "text": [
      "score 110.0\n"
     ]
    },
    {
     "name": "stderr",
     "output_type": "stream",
     "text": [
      " 52%|█████▏    | 2603/5000 [01:58<06:18,  6.33it/s]"
     ]
    },
    {
     "name": "stdout",
     "output_type": "stream",
     "text": [
      "score 1000.0\n"
     ]
    },
    {
     "name": "stderr",
     "output_type": "stream",
     "text": [
      " 53%|█████▎    | 2652/5000 [02:03<04:07,  9.47it/s]"
     ]
    },
    {
     "name": "stdout",
     "output_type": "stream",
     "text": [
      "score 253.0\n"
     ]
    },
    {
     "name": "stderr",
     "output_type": "stream",
     "text": [
      " 54%|█████▍    | 2703/5000 [02:10<05:48,  6.59it/s]"
     ]
    },
    {
     "name": "stdout",
     "output_type": "stream",
     "text": [
      "score 933.0\n"
     ]
    },
    {
     "name": "stderr",
     "output_type": "stream",
     "text": [
      " 55%|█████▌    | 2751/5000 [02:16<09:30,  3.95it/s]"
     ]
    },
    {
     "name": "stdout",
     "output_type": "stream",
     "text": [
      "score 1000.0\n"
     ]
    },
    {
     "name": "stderr",
     "output_type": "stream",
     "text": [
      " 56%|█████▌    | 2805/5000 [02:22<03:27, 10.58it/s]"
     ]
    },
    {
     "name": "stdout",
     "output_type": "stream",
     "text": [
      "score 513.0\n"
     ]
    },
    {
     "name": "stderr",
     "output_type": "stream",
     "text": [
      " 57%|█████▋    | 2855/5000 [02:29<04:05,  8.74it/s]"
     ]
    },
    {
     "name": "stdout",
     "output_type": "stream",
     "text": [
      "score 953.0\n"
     ]
    },
    {
     "name": "stderr",
     "output_type": "stream",
     "text": [
      " 58%|█████▊    | 2903/5000 [02:33<01:55, 18.17it/s]"
     ]
    },
    {
     "name": "stdout",
     "output_type": "stream",
     "text": [
      "score 32.0\n"
     ]
    },
    {
     "name": "stderr",
     "output_type": "stream",
     "text": [
      " 59%|█████▉    | 2953/5000 [02:38<02:57, 11.55it/s]"
     ]
    },
    {
     "name": "stdout",
     "output_type": "stream",
     "text": [
      "score 83.0\n"
     ]
    },
    {
     "name": "stderr",
     "output_type": "stream",
     "text": [
      " 60%|██████    | 3003/5000 [02:44<02:07, 15.70it/s]"
     ]
    },
    {
     "name": "stdout",
     "output_type": "stream",
     "text": [
      "score 164.0\n"
     ]
    },
    {
     "name": "stderr",
     "output_type": "stream",
     "text": [
      " 61%|██████    | 3054/5000 [02:50<03:57,  8.20it/s]"
     ]
    },
    {
     "name": "stdout",
     "output_type": "stream",
     "text": [
      "score 633.0\n"
     ]
    },
    {
     "name": "stderr",
     "output_type": "stream",
     "text": [
      " 62%|██████▏   | 3099/5000 [02:55<03:28,  9.10it/s]"
     ]
    },
    {
     "name": "stdout",
     "output_type": "stream",
     "text": [
      "score 94.0\n"
     ]
    },
    {
     "name": "stderr",
     "output_type": "stream",
     "text": [
      " 63%|██████▎   | 3151/5000 [03:02<06:54,  4.47it/s]"
     ]
    },
    {
     "name": "stdout",
     "output_type": "stream",
     "text": [
      "score 843.0\n"
     ]
    },
    {
     "name": "stderr",
     "output_type": "stream",
     "text": [
      " 64%|██████▍   | 3204/5000 [03:08<02:31, 11.84it/s]"
     ]
    },
    {
     "name": "stdout",
     "output_type": "stream",
     "text": [
      "score 183.0\n"
     ]
    },
    {
     "name": "stderr",
     "output_type": "stream",
     "text": [
      " 65%|██████▌   | 3253/5000 [03:13<04:49,  6.04it/s]"
     ]
    },
    {
     "name": "stdout",
     "output_type": "stream",
     "text": [
      "score 1000.0\n"
     ]
    },
    {
     "name": "stderr",
     "output_type": "stream",
     "text": [
      " 66%|██████▌   | 3301/5000 [03:20<04:39,  6.07it/s]"
     ]
    },
    {
     "name": "stdout",
     "output_type": "stream",
     "text": [
      "score 273.0\n"
     ]
    },
    {
     "name": "stderr",
     "output_type": "stream",
     "text": [
      " 67%|██████▋   | 3351/5000 [03:27<06:07,  4.49it/s]"
     ]
    },
    {
     "name": "stdout",
     "output_type": "stream",
     "text": [
      "score 63.0\n"
     ]
    },
    {
     "name": "stderr",
     "output_type": "stream",
     "text": [
      " 68%|██████▊   | 3402/5000 [03:37<05:56,  4.48it/s]"
     ]
    },
    {
     "name": "stdout",
     "output_type": "stream",
     "text": [
      "score 813.0\n"
     ]
    },
    {
     "name": "stderr",
     "output_type": "stream",
     "text": [
      " 69%|██████▉   | 3452/5000 [03:43<02:55,  8.81it/s]"
     ]
    },
    {
     "name": "stdout",
     "output_type": "stream",
     "text": [
      "score 23.0\n"
     ]
    },
    {
     "name": "stderr",
     "output_type": "stream",
     "text": [
      " 70%|███████   | 3501/5000 [03:49<05:08,  4.85it/s]"
     ]
    },
    {
     "name": "stdout",
     "output_type": "stream",
     "text": [
      "score 1000.0\n"
     ]
    },
    {
     "name": "stderr",
     "output_type": "stream",
     "text": [
      " 71%|███████   | 3553/5000 [03:57<03:47,  6.37it/s]"
     ]
    },
    {
     "name": "stdout",
     "output_type": "stream",
     "text": [
      "score 150.0\n"
     ]
    },
    {
     "name": "stderr",
     "output_type": "stream",
     "text": [
      " 72%|███████▏  | 3604/5000 [04:05<01:58, 11.76it/s]"
     ]
    },
    {
     "name": "stdout",
     "output_type": "stream",
     "text": [
      "score 83.0\n"
     ]
    },
    {
     "name": "stderr",
     "output_type": "stream",
     "text": [
      " 73%|███████▎  | 3655/5000 [04:08<01:04, 20.82it/s]"
     ]
    },
    {
     "name": "stdout",
     "output_type": "stream",
     "text": [
      "score 183.0\n"
     ]
    },
    {
     "name": "stderr",
     "output_type": "stream",
     "text": [
      " 74%|███████▍  | 3702/5000 [04:11<01:39, 13.02it/s]"
     ]
    },
    {
     "name": "stdout",
     "output_type": "stream",
     "text": [
      "score 73.0\n"
     ]
    },
    {
     "name": "stderr",
     "output_type": "stream",
     "text": [
      " 75%|███████▌  | 3752/5000 [04:15<01:39, 12.53it/s]"
     ]
    },
    {
     "name": "stdout",
     "output_type": "stream",
     "text": [
      "score 253.0\n"
     ]
    },
    {
     "name": "stderr",
     "output_type": "stream",
     "text": [
      " 76%|███████▌  | 3801/5000 [04:20<03:21,  5.94it/s]"
     ]
    },
    {
     "name": "stdout",
     "output_type": "stream",
     "text": [
      "score 163.0\n"
     ]
    },
    {
     "name": "stderr",
     "output_type": "stream",
     "text": [
      " 77%|███████▋  | 3852/5000 [04:26<02:03,  9.27it/s]"
     ]
    },
    {
     "name": "stdout",
     "output_type": "stream",
     "text": [
      "score 24.0\n"
     ]
    },
    {
     "name": "stderr",
     "output_type": "stream",
     "text": [
      " 78%|███████▊  | 3901/5000 [04:32<01:36, 11.34it/s]"
     ]
    },
    {
     "name": "stdout",
     "output_type": "stream",
     "text": [
      "score 143.0\n"
     ]
    },
    {
     "name": "stderr",
     "output_type": "stream",
     "text": [
      " 79%|███████▉  | 3951/5000 [04:40<04:33,  3.83it/s]"
     ]
    },
    {
     "name": "stdout",
     "output_type": "stream",
     "text": [
      "score 713.0\n"
     ]
    },
    {
     "name": "stderr",
     "output_type": "stream",
     "text": [
      " 80%|████████  | 4003/5000 [04:50<02:17,  7.28it/s]"
     ]
    },
    {
     "name": "stdout",
     "output_type": "stream",
     "text": [
      "score 443.0\n"
     ]
    },
    {
     "name": "stderr",
     "output_type": "stream",
     "text": [
      " 81%|████████  | 4051/5000 [05:01<04:58,  3.18it/s]"
     ]
    },
    {
     "name": "stdout",
     "output_type": "stream",
     "text": [
      "score 1000.0\n"
     ]
    },
    {
     "name": "stderr",
     "output_type": "stream",
     "text": [
      " 82%|████████▏ | 4101/5000 [05:13<06:19,  2.37it/s]"
     ]
    },
    {
     "name": "stdout",
     "output_type": "stream",
     "text": [
      "score 1000.0\n"
     ]
    },
    {
     "name": "stderr",
     "output_type": "stream",
     "text": [
      " 83%|████████▎ | 4151/5000 [05:24<04:37,  3.06it/s]"
     ]
    },
    {
     "name": "stdout",
     "output_type": "stream",
     "text": [
      "score 153.0\n"
     ]
    },
    {
     "name": "stderr",
     "output_type": "stream",
     "text": [
      " 84%|████████▍ | 4204/5000 [05:31<01:48,  7.34it/s]"
     ]
    },
    {
     "name": "stdout",
     "output_type": "stream",
     "text": [
      "score 374.0\n"
     ]
    },
    {
     "name": "stderr",
     "output_type": "stream",
     "text": [
      " 85%|████████▌ | 4251/5000 [05:38<03:02,  4.11it/s]"
     ]
    },
    {
     "name": "stdout",
     "output_type": "stream",
     "text": [
      "score 1000.0\n"
     ]
    },
    {
     "name": "stderr",
     "output_type": "stream",
     "text": [
      " 86%|████████▌ | 4301/5000 [05:48<02:42,  4.31it/s]"
     ]
    },
    {
     "name": "stdout",
     "output_type": "stream",
     "text": [
      "score 153.0\n"
     ]
    },
    {
     "name": "stderr",
     "output_type": "stream",
     "text": [
      " 87%|████████▋ | 4351/5000 [05:56<02:49,  3.84it/s]"
     ]
    },
    {
     "name": "stdout",
     "output_type": "stream",
     "text": [
      "score 1000.0\n"
     ]
    },
    {
     "name": "stderr",
     "output_type": "stream",
     "text": [
      " 88%|████████▊ | 4401/5000 [06:02<02:14,  4.44it/s]"
     ]
    },
    {
     "name": "stdout",
     "output_type": "stream",
     "text": [
      "score 1000.0\n"
     ]
    },
    {
     "name": "stderr",
     "output_type": "stream",
     "text": [
      " 89%|████████▉ | 4451/5000 [06:11<01:19,  6.91it/s]"
     ]
    },
    {
     "name": "stdout",
     "output_type": "stream",
     "text": [
      "score 163.0\n"
     ]
    },
    {
     "name": "stderr",
     "output_type": "stream",
     "text": [
      " 90%|█████████ | 4501/5000 [06:18<00:48, 10.21it/s]"
     ]
    },
    {
     "name": "stdout",
     "output_type": "stream",
     "text": [
      "score 283.0\n"
     ]
    },
    {
     "name": "stderr",
     "output_type": "stream",
     "text": [
      " 91%|█████████ | 4551/5000 [06:25<01:24,  5.30it/s]"
     ]
    },
    {
     "name": "stdout",
     "output_type": "stream",
     "text": [
      "score 533.0\n"
     ]
    },
    {
     "name": "stderr",
     "output_type": "stream",
     "text": [
      " 92%|█████████▏| 4601/5000 [06:36<02:05,  3.17it/s]"
     ]
    },
    {
     "name": "stdout",
     "output_type": "stream",
     "text": [
      "score 403.0\n"
     ]
    },
    {
     "name": "stderr",
     "output_type": "stream",
     "text": [
      " 93%|█████████▎| 4652/5000 [06:44<01:00,  5.78it/s]"
     ]
    },
    {
     "name": "stdout",
     "output_type": "stream",
     "text": [
      "score 533.0\n"
     ]
    },
    {
     "name": "stderr",
     "output_type": "stream",
     "text": [
      " 94%|█████████▍| 4702/5000 [06:55<01:02,  4.75it/s]"
     ]
    },
    {
     "name": "stdout",
     "output_type": "stream",
     "text": [
      "score 923.0\n"
     ]
    },
    {
     "name": "stderr",
     "output_type": "stream",
     "text": [
      " 95%|█████████▌| 4751/5000 [07:05<00:58,  4.27it/s]"
     ]
    },
    {
     "name": "stdout",
     "output_type": "stream",
     "text": [
      "score 263.0\n"
     ]
    },
    {
     "name": "stderr",
     "output_type": "stream",
     "text": [
      " 96%|█████████▌| 4801/5000 [07:15<00:33,  5.99it/s]"
     ]
    },
    {
     "name": "stdout",
     "output_type": "stream",
     "text": [
      "score 163.0\n"
     ]
    },
    {
     "name": "stderr",
     "output_type": "stream",
     "text": [
      " 97%|█████████▋| 4854/5000 [07:19<00:08, 16.56it/s]"
     ]
    },
    {
     "name": "stdout",
     "output_type": "stream",
     "text": [
      "score 133.0\n"
     ]
    },
    {
     "name": "stderr",
     "output_type": "stream",
     "text": [
      " 98%|█████████▊| 4901/5000 [07:24<00:12,  7.86it/s]"
     ]
    },
    {
     "name": "stdout",
     "output_type": "stream",
     "text": [
      "score 123.0\n"
     ]
    },
    {
     "name": "stderr",
     "output_type": "stream",
     "text": [
      " 99%|█████████▉| 4951/5000 [07:31<00:14,  3.43it/s]"
     ]
    },
    {
     "name": "stdout",
     "output_type": "stream",
     "text": [
      "score 883.0\n"
     ]
    },
    {
     "name": "stderr",
     "output_type": "stream",
     "text": [
      "100%|██████████| 5000/5000 [07:37<00:00, 10.92it/s]\n"
     ]
    },
    {
     "name": "stdout",
     "output_type": "stream",
     "text": [
      "score moyen 227.07 nombre reussite totale 0\n"
     ]
    },
    {
     "data": {
      "application/vnd.jupyter.widget-view+json": {
       "model_id": "c17d7ce8b1e341f697e72493eee72a2f",
       "version_major": 2,
       "version_minor": 0
      },
      "text/plain": [
       "VBox(children=(Label(value='0.001 MB of 0.001 MB uploaded\\r'), FloatProgress(value=1.0, max=1.0)))"
      ]
     },
     "metadata": {},
     "output_type": "display_data"
    },
    {
     "data": {
      "text/html": [
       "<style>\n",
       "    table.wandb td:nth-child(1) { padding: 0 10px; text-align: left ; width: auto;} td:nth-child(2) {text-align: left ; width: 100%}\n",
       "    .wandb-row { display: flex; flex-direction: row; flex-wrap: wrap; justify-content: flex-start; width: 100% }\n",
       "    .wandb-col { display: flex; flex-direction: column; flex-basis: 100%; flex: 1; padding: 10px; }\n",
       "    </style>\n",
       "<div class=\"wandb-row\"><div class=\"wandb-col\"><h3>Run history:</h3><br/><table class=\"wandb\"><tr><td>score</td><td>▁▁▁▁▁▁▁▁▁▁▁▁▄▃▁▁▅▃▅▂█▃█▁▂▇▃▇▂▂▂▂█▂▂█▅▅▂▇</td></tr></table><br/></div><div class=\"wandb-col\"><h3>Run summary:</h3><br/><table class=\"wandb\"><tr><td>score</td><td>883.0</td></tr></table><br/></div></div>"
      ],
      "text/plain": [
       "<IPython.core.display.HTML object>"
      ]
     },
     "metadata": {},
     "output_type": "display_data"
    },
    {
     "data": {
      "text/html": [
       " View run <strong style=\"color:#cdcd00\">MC processed= False height: 15 width: 20 gap: 4date: 12th04mo_01h01min48s</strong> at: <a href='https://wandb.ai/alexandre-selvestrel-team/FlappyBird-RL/runs/ld6j9y9k' target=\"_blank\">https://wandb.ai/alexandre-selvestrel-team/FlappyBird-RL/runs/ld6j9y9k</a><br/>Synced 5 W&B file(s), 0 media file(s), 0 artifact file(s) and 0 other file(s)"
      ],
      "text/plain": [
       "<IPython.core.display.HTML object>"
      ]
     },
     "metadata": {},
     "output_type": "display_data"
    },
    {
     "data": {
      "text/html": [
       "Find logs at: <code>.\\wandb\\run-20240412_010148-ld6j9y9k\\logs</code>"
      ],
      "text/plain": [
       "<IPython.core.display.HTML object>"
      ]
     },
     "metadata": {},
     "output_type": "display_data"
    },
    {
     "data": {
      "application/vnd.jupyter.widget-view+json": {
       "model_id": "597d2e2ff53d4dc0a1c37a8506c5dbff",
       "version_major": 2,
       "version_minor": 0
      },
      "text/plain": [
       "VBox(children=(Label(value='Waiting for wandb.init()...\\r'), FloatProgress(value=0.011277777777776363, max=1.0…"
      ]
     },
     "metadata": {},
     "output_type": "display_data"
    },
    {
     "data": {
      "text/html": [
       "wandb version 0.16.6 is available!  To upgrade, please run:\n",
       " $ pip install wandb --upgrade"
      ],
      "text/plain": [
       "<IPython.core.display.HTML object>"
      ]
     },
     "metadata": {},
     "output_type": "display_data"
    },
    {
     "data": {
      "text/html": [
       "Tracking run with wandb version 0.16.3"
      ],
      "text/plain": [
       "<IPython.core.display.HTML object>"
      ]
     },
     "metadata": {},
     "output_type": "display_data"
    },
    {
     "data": {
      "text/html": [
       "Run data is saved locally in <code>c:\\Users\\33771\\Documents\\RL\\DM\\text-flappy-bird-gym\\Assignment\\wandb\\run-20240412_010951-yd2vo1fc</code>"
      ],
      "text/plain": [
       "<IPython.core.display.HTML object>"
      ]
     },
     "metadata": {},
     "output_type": "display_data"
    },
    {
     "data": {
      "text/html": [
       "Syncing run <strong><a href='https://wandb.ai/alexandre-selvestrel-team/FlappyBird-RL/runs/yd2vo1fc' target=\"_blank\">MC processed= False height: 15 width: 20 gap: 4date: 12th04mo_01h09min51s</a></strong> to <a href='https://wandb.ai/alexandre-selvestrel-team/FlappyBird-RL' target=\"_blank\">Weights & Biases</a> (<a href='https://wandb.me/run' target=\"_blank\">docs</a>)<br/>"
      ],
      "text/plain": [
       "<IPython.core.display.HTML object>"
      ]
     },
     "metadata": {},
     "output_type": "display_data"
    },
    {
     "data": {
      "text/html": [
       " View project at <a href='https://wandb.ai/alexandre-selvestrel-team/FlappyBird-RL' target=\"_blank\">https://wandb.ai/alexandre-selvestrel-team/FlappyBird-RL</a>"
      ],
      "text/plain": [
       "<IPython.core.display.HTML object>"
      ]
     },
     "metadata": {},
     "output_type": "display_data"
    },
    {
     "data": {
      "text/html": [
       " View run at <a href='https://wandb.ai/alexandre-selvestrel-team/FlappyBird-RL/runs/yd2vo1fc' target=\"_blank\">https://wandb.ai/alexandre-selvestrel-team/FlappyBird-RL/runs/yd2vo1fc</a>"
      ],
      "text/plain": [
       "<IPython.core.display.HTML object>"
      ]
     },
     "metadata": {},
     "output_type": "display_data"
    },
    {
     "name": "stderr",
     "output_type": "stream",
     "text": [
      "  1%|          | 36/5000 [00:00<00:29, 167.42it/s]"
     ]
    },
    {
     "name": "stdout",
     "output_type": "stream",
     "text": [
      "score 6.0\n"
     ]
    },
    {
     "name": "stderr",
     "output_type": "stream",
     "text": [
      "  1%|▏         | 70/5000 [00:00<00:34, 144.53it/s]"
     ]
    },
    {
     "name": "stdout",
     "output_type": "stream",
     "text": [
      "score 17.0\n"
     ]
    },
    {
     "name": "stderr",
     "output_type": "stream",
     "text": [
      "  3%|▎         | 128/5000 [00:00<00:37, 130.83it/s]"
     ]
    },
    {
     "name": "stdout",
     "output_type": "stream",
     "text": [
      "score 6.0\n"
     ]
    },
    {
     "name": "stderr",
     "output_type": "stream",
     "text": [
      "  3%|▎         | 172/5000 [00:01<00:35, 137.18it/s]"
     ]
    },
    {
     "name": "stdout",
     "output_type": "stream",
     "text": [
      "score 23.0\n"
     ]
    },
    {
     "name": "stderr",
     "output_type": "stream",
     "text": [
      "  4%|▍         | 214/5000 [00:01<00:36, 130.68it/s]"
     ]
    },
    {
     "name": "stdout",
     "output_type": "stream",
     "text": [
      "score 13.0\n"
     ]
    },
    {
     "name": "stderr",
     "output_type": "stream",
     "text": [
      "  5%|▌         | 270/5000 [00:02<00:40, 116.51it/s]"
     ]
    },
    {
     "name": "stdout",
     "output_type": "stream",
     "text": [
      "score 32.0\n"
     ]
    },
    {
     "name": "stderr",
     "output_type": "stream",
     "text": [
      "  6%|▋         | 320/5000 [00:02<00:40, 116.45it/s]"
     ]
    },
    {
     "name": "stdout",
     "output_type": "stream",
     "text": [
      "score 13.0\n"
     ]
    },
    {
     "name": "stderr",
     "output_type": "stream",
     "text": [
      "  7%|▋         | 365/5000 [00:02<00:48, 95.14it/s] "
     ]
    },
    {
     "name": "stdout",
     "output_type": "stream",
     "text": [
      "score 13.0\n"
     ]
    },
    {
     "name": "stderr",
     "output_type": "stream",
     "text": [
      "  8%|▊         | 415/5000 [00:03<00:52, 86.53it/s]"
     ]
    },
    {
     "name": "stdout",
     "output_type": "stream",
     "text": [
      "score 23.0\n"
     ]
    },
    {
     "name": "stderr",
     "output_type": "stream",
     "text": [
      "  9%|▉         | 465/5000 [00:04<00:49, 92.09it/s]"
     ]
    },
    {
     "name": "stdout",
     "output_type": "stream",
     "text": [
      "score 16.0\n"
     ]
    },
    {
     "name": "stderr",
     "output_type": "stream",
     "text": [
      " 10%|█         | 511/5000 [00:04<00:45, 97.75it/s] "
     ]
    },
    {
     "name": "stdout",
     "output_type": "stream",
     "text": [
      "score 23.0\n"
     ]
    },
    {
     "name": "stderr",
     "output_type": "stream",
     "text": [
      " 11%|█▏        | 563/5000 [00:05<00:53, 83.18it/s]"
     ]
    },
    {
     "name": "stdout",
     "output_type": "stream",
     "text": [
      "score 23.0\n"
     ]
    },
    {
     "name": "stderr",
     "output_type": "stream",
     "text": [
      " 12%|█▏        | 617/5000 [00:05<01:00, 72.54it/s]"
     ]
    },
    {
     "name": "stdout",
     "output_type": "stream",
     "text": [
      "score 23.0\n"
     ]
    },
    {
     "name": "stderr",
     "output_type": "stream",
     "text": [
      " 13%|█▎        | 664/5000 [00:06<01:00, 71.25it/s]"
     ]
    },
    {
     "name": "stdout",
     "output_type": "stream",
     "text": [
      "score 47.0\n"
     ]
    },
    {
     "name": "stderr",
     "output_type": "stream",
     "text": [
      " 14%|█▍        | 711/5000 [00:07<00:58, 73.68it/s]"
     ]
    },
    {
     "name": "stdout",
     "output_type": "stream",
     "text": [
      "score 23.0\n"
     ]
    },
    {
     "name": "stderr",
     "output_type": "stream",
     "text": [
      " 15%|█▌        | 759/5000 [00:07<01:00, 69.60it/s]"
     ]
    },
    {
     "name": "stdout",
     "output_type": "stream",
     "text": [
      "score 13.0\n"
     ]
    },
    {
     "name": "stderr",
     "output_type": "stream",
     "text": [
      " 16%|█▌        | 812/5000 [00:08<01:09, 60.50it/s]"
     ]
    },
    {
     "name": "stdout",
     "output_type": "stream",
     "text": [
      "score 23.0\n"
     ]
    },
    {
     "name": "stderr",
     "output_type": "stream",
     "text": [
      " 17%|█▋        | 861/5000 [00:09<01:05, 63.01it/s]"
     ]
    },
    {
     "name": "stdout",
     "output_type": "stream",
     "text": [
      "score 23.0\n"
     ]
    },
    {
     "name": "stderr",
     "output_type": "stream",
     "text": [
      " 18%|█▊        | 909/5000 [00:10<01:13, 55.71it/s]"
     ]
    },
    {
     "name": "stdout",
     "output_type": "stream",
     "text": [
      "score 23.0\n"
     ]
    },
    {
     "name": "stderr",
     "output_type": "stream",
     "text": [
      " 19%|█▉        | 962/5000 [00:11<01:03, 63.28it/s]"
     ]
    },
    {
     "name": "stdout",
     "output_type": "stream",
     "text": [
      "score 43.0\n"
     ]
    },
    {
     "name": "stderr",
     "output_type": "stream",
     "text": [
      " 20%|██        | 1009/5000 [00:12<01:14, 53.63it/s]"
     ]
    },
    {
     "name": "stdout",
     "output_type": "stream",
     "text": [
      "score 73.0\n"
     ]
    },
    {
     "name": "stderr",
     "output_type": "stream",
     "text": [
      " 21%|██        | 1059/5000 [00:13<01:11, 54.97it/s]"
     ]
    },
    {
     "name": "stdout",
     "output_type": "stream",
     "text": [
      "score 23.0\n"
     ]
    },
    {
     "name": "stderr",
     "output_type": "stream",
     "text": [
      " 22%|██▏       | 1107/5000 [00:14<01:28, 44.09it/s]"
     ]
    },
    {
     "name": "stdout",
     "output_type": "stream",
     "text": [
      "score 27.0\n"
     ]
    },
    {
     "name": "stderr",
     "output_type": "stream",
     "text": [
      " 23%|██▎       | 1157/5000 [00:15<01:22, 46.61it/s]"
     ]
    },
    {
     "name": "stdout",
     "output_type": "stream",
     "text": [
      "score 33.0\n"
     ]
    },
    {
     "name": "stderr",
     "output_type": "stream",
     "text": [
      " 24%|██▍       | 1210/5000 [00:16<01:13, 51.69it/s]"
     ]
    },
    {
     "name": "stdout",
     "output_type": "stream",
     "text": [
      "score 23.0\n"
     ]
    },
    {
     "name": "stderr",
     "output_type": "stream",
     "text": [
      " 25%|██▌       | 1262/5000 [00:17<01:14, 50.40it/s]"
     ]
    },
    {
     "name": "stdout",
     "output_type": "stream",
     "text": [
      "score 33.0\n"
     ]
    },
    {
     "name": "stderr",
     "output_type": "stream",
     "text": [
      " 26%|██▌       | 1308/5000 [00:18<01:23, 44.04it/s]"
     ]
    },
    {
     "name": "stdout",
     "output_type": "stream",
     "text": [
      "score 83.0\n"
     ]
    },
    {
     "name": "stderr",
     "output_type": "stream",
     "text": [
      " 27%|██▋       | 1356/5000 [00:19<01:43, 35.23it/s]"
     ]
    },
    {
     "name": "stdout",
     "output_type": "stream",
     "text": [
      "score 23.0\n"
     ]
    },
    {
     "name": "stderr",
     "output_type": "stream",
     "text": [
      " 28%|██▊       | 1405/5000 [00:20<01:28, 40.78it/s]"
     ]
    },
    {
     "name": "stdout",
     "output_type": "stream",
     "text": [
      "score 43.0\n"
     ]
    },
    {
     "name": "stderr",
     "output_type": "stream",
     "text": [
      " 29%|██▉       | 1456/5000 [00:21<01:22, 42.98it/s]"
     ]
    },
    {
     "name": "stdout",
     "output_type": "stream",
     "text": [
      "score 23.0\n"
     ]
    },
    {
     "name": "stderr",
     "output_type": "stream",
     "text": [
      " 30%|███       | 1506/5000 [00:22<01:24, 41.54it/s]"
     ]
    },
    {
     "name": "stdout",
     "output_type": "stream",
     "text": [
      "score 33.0\n"
     ]
    },
    {
     "name": "stderr",
     "output_type": "stream",
     "text": [
      " 31%|███       | 1561/5000 [00:24<01:20, 42.94it/s]"
     ]
    },
    {
     "name": "stdout",
     "output_type": "stream",
     "text": [
      "score 63.0\n"
     ]
    },
    {
     "name": "stderr",
     "output_type": "stream",
     "text": [
      " 32%|███▏      | 1606/5000 [00:25<01:18, 43.09it/s]"
     ]
    },
    {
     "name": "stdout",
     "output_type": "stream",
     "text": [
      "score 33.0\n"
     ]
    },
    {
     "name": "stderr",
     "output_type": "stream",
     "text": [
      " 33%|███▎      | 1658/5000 [00:26<01:30, 37.10it/s]"
     ]
    },
    {
     "name": "stdout",
     "output_type": "stream",
     "text": [
      "score 23.0\n"
     ]
    },
    {
     "name": "stderr",
     "output_type": "stream",
     "text": [
      " 34%|███▍      | 1705/5000 [00:28<01:46, 30.86it/s]"
     ]
    },
    {
     "name": "stdout",
     "output_type": "stream",
     "text": [
      "score 23.0\n"
     ]
    },
    {
     "name": "stderr",
     "output_type": "stream",
     "text": [
      " 35%|███▌      | 1759/5000 [00:29<01:37, 33.24it/s]"
     ]
    },
    {
     "name": "stdout",
     "output_type": "stream",
     "text": [
      "score 73.0\n"
     ]
    },
    {
     "name": "stderr",
     "output_type": "stream",
     "text": [
      " 36%|███▌      | 1810/5000 [00:30<01:11, 44.49it/s]"
     ]
    },
    {
     "name": "stdout",
     "output_type": "stream",
     "text": [
      "score 83.0\n"
     ]
    },
    {
     "name": "stderr",
     "output_type": "stream",
     "text": [
      " 37%|███▋      | 1851/5000 [00:31<01:17, 40.58it/s]"
     ]
    },
    {
     "name": "stdout",
     "output_type": "stream",
     "text": [
      "score 83.0\n"
     ]
    },
    {
     "name": "stderr",
     "output_type": "stream",
     "text": [
      " 38%|███▊      | 1904/5000 [00:33<01:25, 36.17it/s]"
     ]
    },
    {
     "name": "stdout",
     "output_type": "stream",
     "text": [
      "score 33.0\n"
     ]
    },
    {
     "name": "stderr",
     "output_type": "stream",
     "text": [
      " 39%|███▉      | 1959/5000 [00:35<01:27, 34.69it/s]"
     ]
    },
    {
     "name": "stdout",
     "output_type": "stream",
     "text": [
      "score 83.0\n"
     ]
    },
    {
     "name": "stderr",
     "output_type": "stream",
     "text": [
      " 40%|████      | 2006/5000 [00:36<01:57, 25.50it/s]"
     ]
    },
    {
     "name": "stdout",
     "output_type": "stream",
     "text": [
      "score 173.0\n"
     ]
    },
    {
     "name": "stderr",
     "output_type": "stream",
     "text": [
      " 41%|████      | 2058/5000 [00:38<01:17, 38.20it/s]"
     ]
    },
    {
     "name": "stdout",
     "output_type": "stream",
     "text": [
      "score 56.0\n"
     ]
    },
    {
     "name": "stderr",
     "output_type": "stream",
     "text": [
      " 42%|████▏     | 2104/5000 [00:39<02:07, 22.75it/s]"
     ]
    },
    {
     "name": "stdout",
     "output_type": "stream",
     "text": [
      "score 23.0\n"
     ]
    },
    {
     "name": "stderr",
     "output_type": "stream",
     "text": [
      " 43%|████▎     | 2155/5000 [00:41<01:57, 24.15it/s]"
     ]
    },
    {
     "name": "stdout",
     "output_type": "stream",
     "text": [
      "score 33.0\n"
     ]
    },
    {
     "name": "stderr",
     "output_type": "stream",
     "text": [
      " 44%|████▍     | 2210/5000 [00:43<01:53, 24.54it/s]"
     ]
    },
    {
     "name": "stdout",
     "output_type": "stream",
     "text": [
      "score 33.0\n"
     ]
    },
    {
     "name": "stderr",
     "output_type": "stream",
     "text": [
      " 45%|████▌     | 2256/5000 [00:45<01:51, 24.71it/s]"
     ]
    },
    {
     "name": "stdout",
     "output_type": "stream",
     "text": [
      "score 123.0\n"
     ]
    },
    {
     "name": "stderr",
     "output_type": "stream",
     "text": [
      " 46%|████▌     | 2305/5000 [00:47<01:47, 25.02it/s]"
     ]
    },
    {
     "name": "stdout",
     "output_type": "stream",
     "text": [
      "score 183.0\n"
     ]
    },
    {
     "name": "stderr",
     "output_type": "stream",
     "text": [
      " 47%|████▋     | 2353/5000 [00:50<02:53, 15.22it/s]"
     ]
    },
    {
     "name": "stdout",
     "output_type": "stream",
     "text": [
      "score 83.0\n"
     ]
    },
    {
     "name": "stderr",
     "output_type": "stream",
     "text": [
      " 48%|████▊     | 2404/5000 [00:52<02:44, 15.79it/s]"
     ]
    },
    {
     "name": "stdout",
     "output_type": "stream",
     "text": [
      "score 153.0\n"
     ]
    },
    {
     "name": "stderr",
     "output_type": "stream",
     "text": [
      " 49%|████▉     | 2453/5000 [00:55<02:35, 16.34it/s]"
     ]
    },
    {
     "name": "stdout",
     "output_type": "stream",
     "text": [
      "score 13.0\n"
     ]
    },
    {
     "name": "stderr",
     "output_type": "stream",
     "text": [
      " 50%|█████     | 2502/5000 [00:58<02:03, 20.24it/s]"
     ]
    },
    {
     "name": "stdout",
     "output_type": "stream",
     "text": [
      "score 173.0\n"
     ]
    },
    {
     "name": "stderr",
     "output_type": "stream",
     "text": [
      " 51%|█████     | 2556/5000 [01:01<01:59, 20.44it/s]"
     ]
    },
    {
     "name": "stdout",
     "output_type": "stream",
     "text": [
      "score 103.0\n"
     ]
    },
    {
     "name": "stderr",
     "output_type": "stream",
     "text": [
      " 52%|█████▏    | 2603/5000 [01:04<03:06, 12.88it/s]"
     ]
    },
    {
     "name": "stdout",
     "output_type": "stream",
     "text": [
      "score 93.0\n"
     ]
    },
    {
     "name": "stderr",
     "output_type": "stream",
     "text": [
      " 53%|█████▎    | 2656/5000 [01:06<01:30, 25.84it/s]"
     ]
    },
    {
     "name": "stdout",
     "output_type": "stream",
     "text": [
      "score 53.0\n"
     ]
    },
    {
     "name": "stderr",
     "output_type": "stream",
     "text": [
      " 54%|█████▍    | 2702/5000 [01:09<02:24, 15.88it/s]"
     ]
    },
    {
     "name": "stdout",
     "output_type": "stream",
     "text": [
      "score 193.0\n"
     ]
    },
    {
     "name": "stderr",
     "output_type": "stream",
     "text": [
      " 55%|█████▌    | 2752/5000 [01:11<01:55, 19.40it/s]"
     ]
    },
    {
     "name": "stdout",
     "output_type": "stream",
     "text": [
      "score 43.0\n"
     ]
    },
    {
     "name": "stderr",
     "output_type": "stream",
     "text": [
      " 56%|█████▌    | 2803/5000 [01:15<03:34, 10.23it/s]"
     ]
    },
    {
     "name": "stdout",
     "output_type": "stream",
     "text": [
      "score 23.0\n"
     ]
    },
    {
     "name": "stderr",
     "output_type": "stream",
     "text": [
      " 57%|█████▋    | 2855/5000 [01:18<02:02, 17.53it/s]"
     ]
    },
    {
     "name": "stdout",
     "output_type": "stream",
     "text": [
      "score 233.0\n"
     ]
    },
    {
     "name": "stderr",
     "output_type": "stream",
     "text": [
      " 58%|█████▊    | 2903/5000 [01:21<02:14, 15.61it/s]"
     ]
    },
    {
     "name": "stdout",
     "output_type": "stream",
     "text": [
      "score 133.0\n"
     ]
    },
    {
     "name": "stderr",
     "output_type": "stream",
     "text": [
      " 59%|█████▉    | 2953/5000 [01:24<02:02, 16.73it/s]"
     ]
    },
    {
     "name": "stdout",
     "output_type": "stream",
     "text": [
      "score 113.0\n"
     ]
    },
    {
     "name": "stderr",
     "output_type": "stream",
     "text": [
      " 60%|██████    | 3003/5000 [01:27<01:57, 16.97it/s]"
     ]
    },
    {
     "name": "stdout",
     "output_type": "stream",
     "text": [
      "score 334.0\n"
     ]
    },
    {
     "name": "stderr",
     "output_type": "stream",
     "text": [
      " 61%|██████    | 3051/5000 [01:29<01:53, 17.16it/s]"
     ]
    },
    {
     "name": "stdout",
     "output_type": "stream",
     "text": [
      "score 83.0\n"
     ]
    },
    {
     "name": "stderr",
     "output_type": "stream",
     "text": [
      " 62%|██████▏   | 3105/5000 [01:35<02:28, 12.78it/s]"
     ]
    },
    {
     "name": "stdout",
     "output_type": "stream",
     "text": [
      "score 373.0\n"
     ]
    },
    {
     "name": "stderr",
     "output_type": "stream",
     "text": [
      " 63%|██████▎   | 3154/5000 [01:39<02:31, 12.20it/s]"
     ]
    },
    {
     "name": "stdout",
     "output_type": "stream",
     "text": [
      "score 23.0\n"
     ]
    },
    {
     "name": "stderr",
     "output_type": "stream",
     "text": [
      " 64%|██████▍   | 3201/5000 [01:42<01:31, 19.57it/s]"
     ]
    },
    {
     "name": "stdout",
     "output_type": "stream",
     "text": [
      "score 202.0\n"
     ]
    },
    {
     "name": "stderr",
     "output_type": "stream",
     "text": [
      " 65%|██████▌   | 3252/5000 [01:46<02:41, 10.81it/s]"
     ]
    },
    {
     "name": "stdout",
     "output_type": "stream",
     "text": [
      "score 303.0\n"
     ]
    },
    {
     "name": "stderr",
     "output_type": "stream",
     "text": [
      " 66%|██████▌   | 3303/5000 [01:50<02:26, 11.56it/s]"
     ]
    },
    {
     "name": "stdout",
     "output_type": "stream",
     "text": [
      "score 44.0\n"
     ]
    },
    {
     "name": "stderr",
     "output_type": "stream",
     "text": [
      " 67%|██████▋   | 3352/5000 [01:54<02:03, 13.35it/s]"
     ]
    },
    {
     "name": "stdout",
     "output_type": "stream",
     "text": [
      "score 106.0\n"
     ]
    },
    {
     "name": "stderr",
     "output_type": "stream",
     "text": [
      " 68%|██████▊   | 3402/5000 [01:58<02:06, 12.65it/s]"
     ]
    },
    {
     "name": "stdout",
     "output_type": "stream",
     "text": [
      "score 213.0\n"
     ]
    },
    {
     "name": "stderr",
     "output_type": "stream",
     "text": [
      " 69%|██████▉   | 3454/5000 [02:03<01:53, 13.67it/s]"
     ]
    },
    {
     "name": "stdout",
     "output_type": "stream",
     "text": [
      "score 197.0\n"
     ]
    },
    {
     "name": "stderr",
     "output_type": "stream",
     "text": [
      " 70%|███████   | 3504/5000 [02:07<01:55, 12.98it/s]"
     ]
    },
    {
     "name": "stdout",
     "output_type": "stream",
     "text": [
      "score 123.0\n"
     ]
    },
    {
     "name": "stderr",
     "output_type": "stream",
     "text": [
      " 71%|███████   | 3551/5000 [02:11<01:55, 12.49it/s]"
     ]
    },
    {
     "name": "stdout",
     "output_type": "stream",
     "text": [
      "score 213.0\n"
     ]
    },
    {
     "name": "stderr",
     "output_type": "stream",
     "text": [
      " 72%|███████▏  | 3603/5000 [02:17<01:53, 12.32it/s]"
     ]
    },
    {
     "name": "stdout",
     "output_type": "stream",
     "text": [
      "score 63.0\n"
     ]
    },
    {
     "name": "stderr",
     "output_type": "stream",
     "text": [
      " 73%|███████▎  | 3653/5000 [02:22<02:27,  9.14it/s]"
     ]
    },
    {
     "name": "stdout",
     "output_type": "stream",
     "text": [
      "score 583.0\n"
     ]
    },
    {
     "name": "stderr",
     "output_type": "stream",
     "text": [
      " 74%|███████▍  | 3703/5000 [02:26<01:45, 12.31it/s]"
     ]
    },
    {
     "name": "stdout",
     "output_type": "stream",
     "text": [
      "score 33.0\n"
     ]
    },
    {
     "name": "stderr",
     "output_type": "stream",
     "text": [
      " 75%|███████▌  | 3752/5000 [02:34<02:48,  7.39it/s]"
     ]
    },
    {
     "name": "stdout",
     "output_type": "stream",
     "text": [
      "score 33.0\n"
     ]
    },
    {
     "name": "stderr",
     "output_type": "stream",
     "text": [
      " 76%|███████▌  | 3800/5000 [02:39<02:17,  8.72it/s]"
     ]
    },
    {
     "name": "stdout",
     "output_type": "stream",
     "text": [
      "score 403.0\n"
     ]
    },
    {
     "name": "stderr",
     "output_type": "stream",
     "text": [
      " 77%|███████▋  | 3852/5000 [02:44<02:11,  8.75it/s]"
     ]
    },
    {
     "name": "stdout",
     "output_type": "stream",
     "text": [
      "score 163.0\n"
     ]
    },
    {
     "name": "stderr",
     "output_type": "stream",
     "text": [
      " 78%|███████▊  | 3902/5000 [02:49<01:33, 11.73it/s]"
     ]
    },
    {
     "name": "stdout",
     "output_type": "stream",
     "text": [
      "score 63.0\n"
     ]
    },
    {
     "name": "stderr",
     "output_type": "stream",
     "text": [
      " 79%|███████▉  | 3951/5000 [02:55<02:00,  8.69it/s]"
     ]
    },
    {
     "name": "stdout",
     "output_type": "stream",
     "text": [
      "score 393.0\n"
     ]
    },
    {
     "name": "stderr",
     "output_type": "stream",
     "text": [
      " 80%|████████  | 4003/5000 [03:02<02:00,  8.28it/s]"
     ]
    },
    {
     "name": "stdout",
     "output_type": "stream",
     "text": [
      "score 253.0\n"
     ]
    },
    {
     "name": "stderr",
     "output_type": "stream",
     "text": [
      " 81%|████████  | 4053/5000 [03:06<01:47,  8.84it/s]"
     ]
    },
    {
     "name": "stdout",
     "output_type": "stream",
     "text": [
      "score 23.0\n"
     ]
    },
    {
     "name": "stderr",
     "output_type": "stream",
     "text": [
      " 82%|████████▏ | 4101/5000 [03:12<01:13, 12.31it/s]"
     ]
    },
    {
     "name": "stdout",
     "output_type": "stream",
     "text": [
      "score 93.0\n"
     ]
    },
    {
     "name": "stderr",
     "output_type": "stream",
     "text": [
      " 83%|████████▎ | 4151/5000 [03:18<01:53,  7.47it/s]"
     ]
    },
    {
     "name": "stdout",
     "output_type": "stream",
     "text": [
      "score 283.0\n"
     ]
    },
    {
     "name": "stderr",
     "output_type": "stream",
     "text": [
      " 84%|████████▍ | 4203/5000 [03:26<02:44,  4.86it/s]"
     ]
    },
    {
     "name": "stdout",
     "output_type": "stream",
     "text": [
      "score 1000.0\n"
     ]
    },
    {
     "name": "stderr",
     "output_type": "stream",
     "text": [
      " 85%|████████▌ | 4251/5000 [03:32<02:08,  5.82it/s]"
     ]
    },
    {
     "name": "stdout",
     "output_type": "stream",
     "text": [
      "score 1000.0\n"
     ]
    },
    {
     "name": "stderr",
     "output_type": "stream",
     "text": [
      " 86%|████████▌ | 4303/5000 [03:39<01:39,  6.99it/s]"
     ]
    },
    {
     "name": "stdout",
     "output_type": "stream",
     "text": [
      "score 553.0\n"
     ]
    },
    {
     "name": "stderr",
     "output_type": "stream",
     "text": [
      " 87%|████████▋ | 4352/5000 [03:46<02:01,  5.32it/s]"
     ]
    },
    {
     "name": "stdout",
     "output_type": "stream",
     "text": [
      "score 1000.0\n"
     ]
    },
    {
     "name": "stderr",
     "output_type": "stream",
     "text": [
      " 88%|████████▊ | 4401/5000 [03:49<00:28, 20.86it/s]"
     ]
    },
    {
     "name": "stdout",
     "output_type": "stream",
     "text": [
      "score 82.0\n"
     ]
    },
    {
     "name": "stderr",
     "output_type": "stream",
     "text": [
      " 89%|████████▉ | 4456/5000 [03:52<00:30, 18.03it/s]"
     ]
    },
    {
     "name": "stdout",
     "output_type": "stream",
     "text": [
      "score 53.0\n"
     ]
    },
    {
     "name": "stderr",
     "output_type": "stream",
     "text": [
      " 90%|█████████ | 4504/5000 [03:55<00:39, 12.65it/s]"
     ]
    },
    {
     "name": "stdout",
     "output_type": "stream",
     "text": [
      "score 163.0\n"
     ]
    },
    {
     "name": "stderr",
     "output_type": "stream",
     "text": [
      " 91%|█████████ | 4551/5000 [04:00<00:47,  9.37it/s]"
     ]
    },
    {
     "name": "stdout",
     "output_type": "stream",
     "text": [
      "score 492.0\n"
     ]
    },
    {
     "name": "stderr",
     "output_type": "stream",
     "text": [
      " 92%|█████████▏| 4600/5000 [04:06<00:41,  9.63it/s]"
     ]
    },
    {
     "name": "stdout",
     "output_type": "stream",
     "text": [
      "score 113.0\n"
     ]
    },
    {
     "name": "stderr",
     "output_type": "stream",
     "text": [
      " 93%|█████████▎| 4652/5000 [04:12<00:32, 10.74it/s]"
     ]
    },
    {
     "name": "stdout",
     "output_type": "stream",
     "text": [
      "score 23.0\n"
     ]
    },
    {
     "name": "stderr",
     "output_type": "stream",
     "text": [
      " 94%|█████████▍| 4704/5000 [04:16<00:36,  8.14it/s]"
     ]
    },
    {
     "name": "stdout",
     "output_type": "stream",
     "text": [
      "score 23.0\n"
     ]
    },
    {
     "name": "stderr",
     "output_type": "stream",
     "text": [
      " 95%|█████████▌| 4751/5000 [04:21<00:28,  8.67it/s]"
     ]
    },
    {
     "name": "stdout",
     "output_type": "stream",
     "text": [
      "score 361.0\n"
     ]
    },
    {
     "name": "stderr",
     "output_type": "stream",
     "text": [
      " 96%|█████████▌| 4804/5000 [04:24<00:10, 19.42it/s]"
     ]
    },
    {
     "name": "stdout",
     "output_type": "stream",
     "text": [
      "score 43.0\n"
     ]
    },
    {
     "name": "stderr",
     "output_type": "stream",
     "text": [
      " 97%|█████████▋| 4854/5000 [04:27<00:08, 16.51it/s]"
     ]
    },
    {
     "name": "stdout",
     "output_type": "stream",
     "text": [
      "score 213.0\n"
     ]
    },
    {
     "name": "stderr",
     "output_type": "stream",
     "text": [
      " 98%|█████████▊| 4903/5000 [04:31<00:09,  9.73it/s]"
     ]
    },
    {
     "name": "stdout",
     "output_type": "stream",
     "text": [
      "score 66.0\n"
     ]
    },
    {
     "name": "stderr",
     "output_type": "stream",
     "text": [
      " 99%|█████████▉| 4951/5000 [04:36<00:04,  9.92it/s]"
     ]
    },
    {
     "name": "stdout",
     "output_type": "stream",
     "text": [
      "score 413.0\n"
     ]
    },
    {
     "name": "stderr",
     "output_type": "stream",
     "text": [
      "100%|██████████| 5000/5000 [04:41<00:00, 17.76it/s]\n"
     ]
    },
    {
     "name": "stdout",
     "output_type": "stream",
     "text": [
      "score moyen 196.2 nombre reussite totale 0\n"
     ]
    },
    {
     "data": {
      "application/vnd.jupyter.widget-view+json": {
       "model_id": "0461d309c89b4bebbddc5a868ee1b75e",
       "version_major": 2,
       "version_minor": 0
      },
      "text/plain": [
       "VBox(children=(Label(value='0.001 MB of 0.001 MB uploaded\\r'), FloatProgress(value=1.0, max=1.0)))"
      ]
     },
     "metadata": {},
     "output_type": "display_data"
    },
    {
     "data": {
      "text/html": [
       "<style>\n",
       "    table.wandb td:nth-child(1) { padding: 0 10px; text-align: left ; width: auto;} td:nth-child(2) {text-align: left ; width: 100%}\n",
       "    .wandb-row { display: flex; flex-direction: row; flex-wrap: wrap; justify-content: flex-start; width: 100% }\n",
       "    .wandb-col { display: flex; flex-direction: column; flex-basis: 100%; flex: 1; padding: 10px; }\n",
       "    </style>\n",
       "<div class=\"wandb-row\"><div class=\"wandb-col\"><h3>Run history:</h3><br/><table class=\"wandb\"><tr><td>score</td><td>▁▁▁▁▁▁▁▁▂▁▁▁▁▁▂▁▃▁▂▃▃▂▁▃▅▁▁▄▄█▆▂▁▄█▂▇▁▁▆</td></tr></table><br/></div><div class=\"wandb-col\"><h3>Run summary:</h3><br/><table class=\"wandb\"><tr><td>score</td><td>413.0</td></tr></table><br/></div></div>"
      ],
      "text/plain": [
       "<IPython.core.display.HTML object>"
      ]
     },
     "metadata": {},
     "output_type": "display_data"
    },
    {
     "data": {
      "text/html": [
       " View run <strong style=\"color:#cdcd00\">MC processed= False height: 15 width: 20 gap: 4date: 12th04mo_01h09min51s</strong> at: <a href='https://wandb.ai/alexandre-selvestrel-team/FlappyBird-RL/runs/yd2vo1fc' target=\"_blank\">https://wandb.ai/alexandre-selvestrel-team/FlappyBird-RL/runs/yd2vo1fc</a><br/>Synced 5 W&B file(s), 0 media file(s), 0 artifact file(s) and 0 other file(s)"
      ],
      "text/plain": [
       "<IPython.core.display.HTML object>"
      ]
     },
     "metadata": {},
     "output_type": "display_data"
    },
    {
     "data": {
      "text/html": [
       "Find logs at: <code>.\\wandb\\run-20240412_010951-yd2vo1fc\\logs</code>"
      ],
      "text/plain": [
       "<IPython.core.display.HTML object>"
      ]
     },
     "metadata": {},
     "output_type": "display_data"
    },
    {
     "data": {
      "application/vnd.jupyter.widget-view+json": {
       "model_id": "f692ad868e1541669933889d94fc06f6",
       "version_major": 2,
       "version_minor": 0
      },
      "text/plain": [
       "VBox(children=(Label(value='Waiting for wandb.init()...\\r'), FloatProgress(value=0.011111111111111112, max=1.0…"
      ]
     },
     "metadata": {},
     "output_type": "display_data"
    },
    {
     "data": {
      "text/html": [
       "wandb version 0.16.6 is available!  To upgrade, please run:\n",
       " $ pip install wandb --upgrade"
      ],
      "text/plain": [
       "<IPython.core.display.HTML object>"
      ]
     },
     "metadata": {},
     "output_type": "display_data"
    },
    {
     "data": {
      "text/html": [
       "Tracking run with wandb version 0.16.3"
      ],
      "text/plain": [
       "<IPython.core.display.HTML object>"
      ]
     },
     "metadata": {},
     "output_type": "display_data"
    },
    {
     "data": {
      "text/html": [
       "Run data is saved locally in <code>c:\\Users\\33771\\Documents\\RL\\DM\\text-flappy-bird-gym\\Assignment\\wandb\\run-20240412_011455-i6bowgyq</code>"
      ],
      "text/plain": [
       "<IPython.core.display.HTML object>"
      ]
     },
     "metadata": {},
     "output_type": "display_data"
    },
    {
     "data": {
      "text/html": [
       "Syncing run <strong><a href='https://wandb.ai/alexandre-selvestrel-team/FlappyBird-RL/runs/i6bowgyq' target=\"_blank\">MC processed= False height: 15 width: 20 gap: 4date: 12th04mo_01h14min55s</a></strong> to <a href='https://wandb.ai/alexandre-selvestrel-team/FlappyBird-RL' target=\"_blank\">Weights & Biases</a> (<a href='https://wandb.me/run' target=\"_blank\">docs</a>)<br/>"
      ],
      "text/plain": [
       "<IPython.core.display.HTML object>"
      ]
     },
     "metadata": {},
     "output_type": "display_data"
    },
    {
     "data": {
      "text/html": [
       " View project at <a href='https://wandb.ai/alexandre-selvestrel-team/FlappyBird-RL' target=\"_blank\">https://wandb.ai/alexandre-selvestrel-team/FlappyBird-RL</a>"
      ],
      "text/plain": [
       "<IPython.core.display.HTML object>"
      ]
     },
     "metadata": {},
     "output_type": "display_data"
    },
    {
     "data": {
      "text/html": [
       " View run at <a href='https://wandb.ai/alexandre-selvestrel-team/FlappyBird-RL/runs/i6bowgyq' target=\"_blank\">https://wandb.ai/alexandre-selvestrel-team/FlappyBird-RL/runs/i6bowgyq</a>"
      ],
      "text/plain": [
       "<IPython.core.display.HTML object>"
      ]
     },
     "metadata": {},
     "output_type": "display_data"
    },
    {
     "name": "stderr",
     "output_type": "stream",
     "text": [
      "  1%|          | 38/5000 [00:00<00:34, 145.48it/s]"
     ]
    },
    {
     "name": "stdout",
     "output_type": "stream",
     "text": [
      "score 10.0\n"
     ]
    },
    {
     "name": "stderr",
     "output_type": "stream",
     "text": [
      "  1%|▏         | 66/5000 [00:00<00:42, 117.22it/s]"
     ]
    },
    {
     "name": "stdout",
     "output_type": "stream",
     "text": [
      "score 23.0\n"
     ]
    },
    {
     "name": "stderr",
     "output_type": "stream",
     "text": [
      "  2%|▏         | 118/5000 [00:00<00:40, 121.28it/s]"
     ]
    },
    {
     "name": "stdout",
     "output_type": "stream",
     "text": [
      "score 13.0\n"
     ]
    },
    {
     "name": "stderr",
     "output_type": "stream",
     "text": [
      "  3%|▎         | 169/5000 [00:01<00:41, 115.76it/s]"
     ]
    },
    {
     "name": "stdout",
     "output_type": "stream",
     "text": [
      "score 13.0\n"
     ]
    },
    {
     "name": "stderr",
     "output_type": "stream",
     "text": [
      "  4%|▍         | 218/5000 [00:01<00:43, 111.19it/s]"
     ]
    },
    {
     "name": "stdout",
     "output_type": "stream",
     "text": [
      "score 13.0\n"
     ]
    },
    {
     "name": "stderr",
     "output_type": "stream",
     "text": [
      "  5%|▌         | 265/5000 [00:02<00:45, 103.55it/s]"
     ]
    },
    {
     "name": "stdout",
     "output_type": "stream",
     "text": [
      "score 13.0\n"
     ]
    },
    {
     "name": "stderr",
     "output_type": "stream",
     "text": [
      "  6%|▋         | 322/5000 [00:02<00:48, 96.25it/s] "
     ]
    },
    {
     "name": "stdout",
     "output_type": "stream",
     "text": [
      "score 22.0\n"
     ]
    },
    {
     "name": "stderr",
     "output_type": "stream",
     "text": [
      "  7%|▋         | 360/5000 [00:03<00:59, 78.40it/s]"
     ]
    },
    {
     "name": "stdout",
     "output_type": "stream",
     "text": [
      "score 68.0\n"
     ]
    },
    {
     "name": "stderr",
     "output_type": "stream",
     "text": [
      "  8%|▊         | 417/5000 [00:04<00:59, 76.87it/s]"
     ]
    },
    {
     "name": "stdout",
     "output_type": "stream",
     "text": [
      "score 43.0\n"
     ]
    },
    {
     "name": "stderr",
     "output_type": "stream",
     "text": [
      "  9%|▉         | 463/5000 [00:04<00:57, 79.16it/s]"
     ]
    },
    {
     "name": "stdout",
     "output_type": "stream",
     "text": [
      "score 22.0\n"
     ]
    },
    {
     "name": "stderr",
     "output_type": "stream",
     "text": [
      " 10%|█         | 517/5000 [00:05<01:03, 70.32it/s]"
     ]
    },
    {
     "name": "stdout",
     "output_type": "stream",
     "text": [
      "score 26.0\n"
     ]
    },
    {
     "name": "stderr",
     "output_type": "stream",
     "text": [
      " 11%|█         | 561/5000 [00:05<00:55, 79.51it/s]"
     ]
    },
    {
     "name": "stdout",
     "output_type": "stream",
     "text": [
      "score 13.0\n"
     ]
    },
    {
     "name": "stderr",
     "output_type": "stream",
     "text": [
      " 12%|█▏        | 612/5000 [00:06<01:06, 66.21it/s]"
     ]
    },
    {
     "name": "stdout",
     "output_type": "stream",
     "text": [
      "score 13.0\n"
     ]
    },
    {
     "name": "stderr",
     "output_type": "stream",
     "text": [
      " 13%|█▎        | 664/5000 [00:07<01:06, 64.81it/s]"
     ]
    },
    {
     "name": "stdout",
     "output_type": "stream",
     "text": [
      "score 17.0\n"
     ]
    },
    {
     "name": "stderr",
     "output_type": "stream",
     "text": [
      " 14%|█▍        | 707/5000 [00:08<01:14, 57.35it/s]"
     ]
    },
    {
     "name": "stdout",
     "output_type": "stream",
     "text": [
      "score 22.0\n"
     ]
    },
    {
     "name": "stderr",
     "output_type": "stream",
     "text": [
      " 15%|█▌        | 757/5000 [00:09<01:20, 52.41it/s]"
     ]
    },
    {
     "name": "stdout",
     "output_type": "stream",
     "text": [
      "score 25.0\n"
     ]
    },
    {
     "name": "stderr",
     "output_type": "stream",
     "text": [
      " 16%|█▌        | 810/5000 [00:10<01:16, 54.46it/s]"
     ]
    },
    {
     "name": "stdout",
     "output_type": "stream",
     "text": [
      "score 39.0\n"
     ]
    },
    {
     "name": "stderr",
     "output_type": "stream",
     "text": [
      " 17%|█▋        | 859/5000 [00:11<01:20, 51.56it/s]"
     ]
    },
    {
     "name": "stdout",
     "output_type": "stream",
     "text": [
      "score 42.0\n"
     ]
    },
    {
     "name": "stderr",
     "output_type": "stream",
     "text": [
      " 18%|█▊        | 909/5000 [00:12<01:17, 52.51it/s]"
     ]
    },
    {
     "name": "stdout",
     "output_type": "stream",
     "text": [
      "score 13.0\n"
     ]
    },
    {
     "name": "stderr",
     "output_type": "stream",
     "text": [
      " 19%|█▉        | 954/5000 [00:13<01:59, 33.84it/s]"
     ]
    },
    {
     "name": "stdout",
     "output_type": "stream",
     "text": [
      "score 53.0\n"
     ]
    },
    {
     "name": "stderr",
     "output_type": "stream",
     "text": [
      " 20%|██        | 1006/5000 [00:14<01:49, 36.58it/s]"
     ]
    },
    {
     "name": "stdout",
     "output_type": "stream",
     "text": [
      "score 100.0\n"
     ]
    },
    {
     "name": "stderr",
     "output_type": "stream",
     "text": [
      " 21%|██        | 1062/5000 [00:15<01:22, 47.87it/s]"
     ]
    },
    {
     "name": "stdout",
     "output_type": "stream",
     "text": [
      "score 53.0\n"
     ]
    },
    {
     "name": "stderr",
     "output_type": "stream",
     "text": [
      " 22%|██▏       | 1109/5000 [00:16<01:21, 47.55it/s]"
     ]
    },
    {
     "name": "stdout",
     "output_type": "stream",
     "text": [
      "score 93.0\n"
     ]
    },
    {
     "name": "stderr",
     "output_type": "stream",
     "text": [
      " 23%|██▎       | 1155/5000 [00:18<02:00, 31.90it/s]"
     ]
    },
    {
     "name": "stdout",
     "output_type": "stream",
     "text": [
      "score 23.0\n"
     ]
    },
    {
     "name": "stderr",
     "output_type": "stream",
     "text": [
      " 24%|██▍       | 1209/5000 [00:19<01:37, 38.73it/s]"
     ]
    },
    {
     "name": "stdout",
     "output_type": "stream",
     "text": [
      "score 26.0\n"
     ]
    },
    {
     "name": "stderr",
     "output_type": "stream",
     "text": [
      " 25%|██▌       | 1253/5000 [00:21<01:55, 32.57it/s]"
     ]
    },
    {
     "name": "stdout",
     "output_type": "stream",
     "text": [
      "score 23.0\n"
     ]
    },
    {
     "name": "stderr",
     "output_type": "stream",
     "text": [
      " 26%|██▌       | 1306/5000 [00:22<01:58, 31.09it/s]"
     ]
    },
    {
     "name": "stdout",
     "output_type": "stream",
     "text": [
      "score 33.0\n"
     ]
    },
    {
     "name": "stderr",
     "output_type": "stream",
     "text": [
      " 27%|██▋       | 1354/5000 [00:24<02:19, 26.16it/s]"
     ]
    },
    {
     "name": "stdout",
     "output_type": "stream",
     "text": [
      "score 23.0\n"
     ]
    },
    {
     "name": "stderr",
     "output_type": "stream",
     "text": [
      " 28%|██▊       | 1406/5000 [00:26<02:18, 25.86it/s]"
     ]
    },
    {
     "name": "stdout",
     "output_type": "stream",
     "text": [
      "score 53.0\n"
     ]
    },
    {
     "name": "stderr",
     "output_type": "stream",
     "text": [
      " 29%|██▉       | 1454/5000 [00:28<02:57, 19.93it/s]"
     ]
    },
    {
     "name": "stdout",
     "output_type": "stream",
     "text": [
      "score 62.0\n"
     ]
    },
    {
     "name": "stderr",
     "output_type": "stream",
     "text": [
      " 30%|███       | 1504/5000 [00:30<02:38, 22.08it/s]"
     ]
    },
    {
     "name": "stdout",
     "output_type": "stream",
     "text": [
      "score 23.0\n"
     ]
    },
    {
     "name": "stderr",
     "output_type": "stream",
     "text": [
      " 31%|███       | 1555/5000 [00:32<02:10, 26.31it/s]"
     ]
    },
    {
     "name": "stdout",
     "output_type": "stream",
     "text": [
      "score 33.0\n"
     ]
    },
    {
     "name": "stderr",
     "output_type": "stream",
     "text": [
      " 32%|███▏      | 1606/5000 [00:34<02:22, 23.80it/s]"
     ]
    },
    {
     "name": "stdout",
     "output_type": "stream",
     "text": [
      "score 93.0\n"
     ]
    },
    {
     "name": "stderr",
     "output_type": "stream",
     "text": [
      " 33%|███▎      | 1656/5000 [00:36<02:50, 19.60it/s]"
     ]
    },
    {
     "name": "stdout",
     "output_type": "stream",
     "text": [
      "score 163.0\n"
     ]
    },
    {
     "name": "stderr",
     "output_type": "stream",
     "text": [
      " 34%|███▍      | 1706/5000 [00:39<02:09, 25.49it/s]"
     ]
    },
    {
     "name": "stdout",
     "output_type": "stream",
     "text": [
      "score 23.0\n"
     ]
    },
    {
     "name": "stderr",
     "output_type": "stream",
     "text": [
      " 35%|███▌      | 1752/5000 [00:42<04:10, 12.95it/s]"
     ]
    },
    {
     "name": "stdout",
     "output_type": "stream",
     "text": [
      "score 173.0\n"
     ]
    },
    {
     "name": "stderr",
     "output_type": "stream",
     "text": [
      " 36%|███▌      | 1803/5000 [00:45<03:40, 14.52it/s]"
     ]
    },
    {
     "name": "stdout",
     "output_type": "stream",
     "text": [
      "score 32.0\n"
     ]
    },
    {
     "name": "stderr",
     "output_type": "stream",
     "text": [
      " 37%|███▋      | 1850/5000 [00:47<02:39, 19.75it/s]"
     ]
    },
    {
     "name": "stdout",
     "output_type": "stream",
     "text": [
      "score 173.0\n"
     ]
    },
    {
     "name": "stderr",
     "output_type": "stream",
     "text": [
      " 38%|███▊      | 1904/5000 [00:51<03:19, 15.54it/s]"
     ]
    },
    {
     "name": "stdout",
     "output_type": "stream",
     "text": [
      "score 343.0\n"
     ]
    },
    {
     "name": "stderr",
     "output_type": "stream",
     "text": [
      " 39%|███▉      | 1954/5000 [00:54<03:59, 12.73it/s]"
     ]
    },
    {
     "name": "stdout",
     "output_type": "stream",
     "text": [
      "score 103.0\n"
     ]
    },
    {
     "name": "stderr",
     "output_type": "stream",
     "text": [
      " 40%|████      | 2004/5000 [00:58<03:01, 16.51it/s]"
     ]
    },
    {
     "name": "stdout",
     "output_type": "stream",
     "text": [
      "score 173.0\n"
     ]
    },
    {
     "name": "stderr",
     "output_type": "stream",
     "text": [
      " 41%|████      | 2057/5000 [01:01<02:52, 17.05it/s]"
     ]
    },
    {
     "name": "stdout",
     "output_type": "stream",
     "text": [
      "score 444.0\n"
     ]
    },
    {
     "name": "stderr",
     "output_type": "stream",
     "text": [
      " 42%|████▏     | 2100/5000 [01:05<06:49,  7.07it/s]"
     ]
    },
    {
     "name": "stdout",
     "output_type": "stream",
     "text": [
      "score 53.0\n"
     ]
    },
    {
     "name": "stderr",
     "output_type": "stream",
     "text": [
      " 43%|████▎     | 2152/5000 [01:09<03:37, 13.09it/s]"
     ]
    },
    {
     "name": "stdout",
     "output_type": "stream",
     "text": [
      "score 33.0\n"
     ]
    },
    {
     "name": "stderr",
     "output_type": "stream",
     "text": [
      " 44%|████▍     | 2203/5000 [01:14<03:18, 14.06it/s]"
     ]
    },
    {
     "name": "stdout",
     "output_type": "stream",
     "text": [
      "score 23.0\n"
     ]
    },
    {
     "name": "stderr",
     "output_type": "stream",
     "text": [
      " 45%|████▌     | 2256/5000 [01:19<02:43, 16.79it/s]"
     ]
    },
    {
     "name": "stdout",
     "output_type": "stream",
     "text": [
      "score 33.0\n"
     ]
    },
    {
     "name": "stderr",
     "output_type": "stream",
     "text": [
      " 46%|████▌     | 2302/5000 [01:23<04:19, 10.39it/s]"
     ]
    },
    {
     "name": "stdout",
     "output_type": "stream",
     "text": [
      "score 183.0\n"
     ]
    },
    {
     "name": "stderr",
     "output_type": "stream",
     "text": [
      " 47%|████▋     | 2351/5000 [01:27<04:04, 10.82it/s]"
     ]
    },
    {
     "name": "stdout",
     "output_type": "stream",
     "text": [
      "score 153.0\n"
     ]
    },
    {
     "name": "stderr",
     "output_type": "stream",
     "text": [
      " 48%|████▊     | 2401/5000 [01:32<05:07,  8.44it/s]"
     ]
    },
    {
     "name": "stdout",
     "output_type": "stream",
     "text": [
      "score 123.0\n"
     ]
    },
    {
     "name": "stderr",
     "output_type": "stream",
     "text": [
      " 49%|████▉     | 2453/5000 [01:37<03:54, 10.85it/s]"
     ]
    },
    {
     "name": "stdout",
     "output_type": "stream",
     "text": [
      "score 233.0\n"
     ]
    },
    {
     "name": "stderr",
     "output_type": "stream",
     "text": [
      " 50%|█████     | 2504/5000 [01:41<02:29, 16.75it/s]"
     ]
    },
    {
     "name": "stdout",
     "output_type": "stream",
     "text": [
      "score 23.0\n"
     ]
    },
    {
     "name": "stderr",
     "output_type": "stream",
     "text": [
      " 51%|█████     | 2553/5000 [01:48<07:44,  5.27it/s]"
     ]
    },
    {
     "name": "stdout",
     "output_type": "stream",
     "text": [
      "score 483.0\n"
     ]
    },
    {
     "name": "stderr",
     "output_type": "stream",
     "text": [
      " 52%|█████▏    | 2601/5000 [01:53<06:11,  6.46it/s]"
     ]
    },
    {
     "name": "stdout",
     "output_type": "stream",
     "text": [
      "score 63.0\n"
     ]
    },
    {
     "name": "stderr",
     "output_type": "stream",
     "text": [
      " 53%|█████▎    | 2652/5000 [01:59<08:01,  4.88it/s]"
     ]
    },
    {
     "name": "stdout",
     "output_type": "stream",
     "text": [
      "score 1000.0\n"
     ]
    },
    {
     "name": "stderr",
     "output_type": "stream",
     "text": [
      " 54%|█████▍    | 2703/5000 [02:06<07:08,  5.37it/s]"
     ]
    },
    {
     "name": "stdout",
     "output_type": "stream",
     "text": [
      "score 343.0\n"
     ]
    },
    {
     "name": "stderr",
     "output_type": "stream",
     "text": [
      " 55%|█████▌    | 2751/5000 [02:11<03:54,  9.60it/s]"
     ]
    },
    {
     "name": "stdout",
     "output_type": "stream",
     "text": [
      "score 143.0\n"
     ]
    },
    {
     "name": "stderr",
     "output_type": "stream",
     "text": [
      " 56%|█████▌    | 2803/5000 [02:16<05:21,  6.84it/s]"
     ]
    },
    {
     "name": "stdout",
     "output_type": "stream",
     "text": [
      "score 193.0\n"
     ]
    },
    {
     "name": "stderr",
     "output_type": "stream",
     "text": [
      " 57%|█████▋    | 2851/5000 [02:21<02:14, 15.95it/s]"
     ]
    },
    {
     "name": "stdout",
     "output_type": "stream",
     "text": [
      "score 123.0\n"
     ]
    },
    {
     "name": "stderr",
     "output_type": "stream",
     "text": [
      " 58%|█████▊    | 2902/5000 [02:28<04:15,  8.20it/s]"
     ]
    },
    {
     "name": "stdout",
     "output_type": "stream",
     "text": [
      "score 484.0\n"
     ]
    },
    {
     "name": "stderr",
     "output_type": "stream",
     "text": [
      " 59%|█████▉    | 2954/5000 [02:34<02:59, 11.41it/s]"
     ]
    },
    {
     "name": "stdout",
     "output_type": "stream",
     "text": [
      "score 93.0\n"
     ]
    },
    {
     "name": "stderr",
     "output_type": "stream",
     "text": [
      " 60%|██████    | 3004/5000 [02:40<03:02, 10.93it/s]"
     ]
    },
    {
     "name": "stdout",
     "output_type": "stream",
     "text": [
      "score 253.0\n"
     ]
    },
    {
     "name": "stderr",
     "output_type": "stream",
     "text": [
      " 61%|██████    | 3050/5000 [02:47<02:53, 11.24it/s]"
     ]
    },
    {
     "name": "stdout",
     "output_type": "stream",
     "text": [
      "score 83.0\n"
     ]
    },
    {
     "name": "stderr",
     "output_type": "stream",
     "text": [
      " 62%|██████▏   | 3101/5000 [02:55<07:40,  4.12it/s]"
     ]
    },
    {
     "name": "stdout",
     "output_type": "stream",
     "text": [
      "score 743.0\n"
     ]
    },
    {
     "name": "stderr",
     "output_type": "stream",
     "text": [
      " 63%|██████▎   | 3151/5000 [03:01<05:07,  6.01it/s]"
     ]
    },
    {
     "name": "stdout",
     "output_type": "stream",
     "text": [
      "score 1000.0\n"
     ]
    },
    {
     "name": "stderr",
     "output_type": "stream",
     "text": [
      " 64%|██████▍   | 3201/5000 [03:07<03:48,  7.87it/s]"
     ]
    },
    {
     "name": "stdout",
     "output_type": "stream",
     "text": [
      "score 283.0\n"
     ]
    },
    {
     "name": "stderr",
     "output_type": "stream",
     "text": [
      " 65%|██████▌   | 3257/5000 [03:13<01:44, 16.61it/s]"
     ]
    },
    {
     "name": "stdout",
     "output_type": "stream",
     "text": [
      "score 223.0\n"
     ]
    },
    {
     "name": "stderr",
     "output_type": "stream",
     "text": [
      " 66%|██████▌   | 3305/5000 [03:17<02:11, 12.89it/s]"
     ]
    },
    {
     "name": "stdout",
     "output_type": "stream",
     "text": [
      "score 473.0\n"
     ]
    },
    {
     "name": "stderr",
     "output_type": "stream",
     "text": [
      " 67%|██████▋   | 3356/5000 [03:21<02:35, 10.59it/s]"
     ]
    },
    {
     "name": "stdout",
     "output_type": "stream",
     "text": [
      "score 23.0\n"
     ]
    },
    {
     "name": "stderr",
     "output_type": "stream",
     "text": [
      " 68%|██████▊   | 3402/5000 [03:26<04:31,  5.88it/s]"
     ]
    },
    {
     "name": "stdout",
     "output_type": "stream",
     "text": [
      "score 253.0\n"
     ]
    },
    {
     "name": "stderr",
     "output_type": "stream",
     "text": [
      " 69%|██████▉   | 3452/5000 [03:30<04:00,  6.44it/s]"
     ]
    },
    {
     "name": "stdout",
     "output_type": "stream",
     "text": [
      "score 703.0\n"
     ]
    },
    {
     "name": "stderr",
     "output_type": "stream",
     "text": [
      " 70%|███████   | 3501/5000 [03:34<03:04,  8.10it/s]"
     ]
    },
    {
     "name": "stdout",
     "output_type": "stream",
     "text": [
      "score 313.0\n"
     ]
    },
    {
     "name": "stderr",
     "output_type": "stream",
     "text": [
      " 71%|███████   | 3553/5000 [03:40<02:26,  9.86it/s]"
     ]
    },
    {
     "name": "stdout",
     "output_type": "stream",
     "text": [
      "score 233.0\n"
     ]
    },
    {
     "name": "stderr",
     "output_type": "stream",
     "text": [
      " 72%|███████▏  | 3603/5000 [03:47<03:08,  7.42it/s]"
     ]
    },
    {
     "name": "stdout",
     "output_type": "stream",
     "text": [
      "score 23.0\n"
     ]
    },
    {
     "name": "stderr",
     "output_type": "stream",
     "text": [
      " 73%|███████▎  | 3652/5000 [03:52<03:39,  6.14it/s]"
     ]
    },
    {
     "name": "stdout",
     "output_type": "stream",
     "text": [
      "score 313.0\n"
     ]
    },
    {
     "name": "stderr",
     "output_type": "stream",
     "text": [
      " 74%|███████▍  | 3701/5000 [03:57<03:05,  7.00it/s]"
     ]
    },
    {
     "name": "stdout",
     "output_type": "stream",
     "text": [
      "score 463.0\n"
     ]
    },
    {
     "name": "stderr",
     "output_type": "stream",
     "text": [
      " 75%|███████▌  | 3753/5000 [04:04<02:05,  9.90it/s]"
     ]
    },
    {
     "name": "stdout",
     "output_type": "stream",
     "text": [
      "score 23.0\n"
     ]
    },
    {
     "name": "stderr",
     "output_type": "stream",
     "text": [
      " 76%|███████▌  | 3801/5000 [04:11<04:54,  4.08it/s]"
     ]
    },
    {
     "name": "stdout",
     "output_type": "stream",
     "text": [
      "score 1000.0\n"
     ]
    },
    {
     "name": "stderr",
     "output_type": "stream",
     "text": [
      " 77%|███████▋  | 3852/5000 [04:20<02:51,  6.70it/s]"
     ]
    },
    {
     "name": "stdout",
     "output_type": "stream",
     "text": [
      "score 23.0\n"
     ]
    },
    {
     "name": "stderr",
     "output_type": "stream",
     "text": [
      " 78%|███████▊  | 3901/5000 [04:25<02:11,  8.38it/s]"
     ]
    },
    {
     "name": "stdout",
     "output_type": "stream",
     "text": [
      "score 443.0\n"
     ]
    },
    {
     "name": "stderr",
     "output_type": "stream",
     "text": [
      " 79%|███████▉  | 3951/5000 [04:33<05:04,  3.45it/s]"
     ]
    },
    {
     "name": "stdout",
     "output_type": "stream",
     "text": [
      "score 1000.0\n"
     ]
    },
    {
     "name": "stderr",
     "output_type": "stream",
     "text": [
      " 80%|████████  | 4002/5000 [04:39<02:38,  6.31it/s]"
     ]
    },
    {
     "name": "stdout",
     "output_type": "stream",
     "text": [
      "score 283.0\n"
     ]
    },
    {
     "name": "stderr",
     "output_type": "stream",
     "text": [
      " 81%|████████  | 4052/5000 [04:48<02:53,  5.47it/s]"
     ]
    },
    {
     "name": "stdout",
     "output_type": "stream",
     "text": [
      "score 39.0\n"
     ]
    },
    {
     "name": "stderr",
     "output_type": "stream",
     "text": [
      " 82%|████████▏ | 4101/5000 [04:56<03:10,  4.73it/s]"
     ]
    },
    {
     "name": "stdout",
     "output_type": "stream",
     "text": [
      "score 1000.0\n"
     ]
    },
    {
     "name": "stderr",
     "output_type": "stream",
     "text": [
      " 83%|████████▎ | 4152/5000 [05:02<02:29,  5.66it/s]"
     ]
    },
    {
     "name": "stdout",
     "output_type": "stream",
     "text": [
      "score 663.0\n"
     ]
    },
    {
     "name": "stderr",
     "output_type": "stream",
     "text": [
      " 84%|████████▍ | 4202/5000 [05:10<01:10, 11.24it/s]"
     ]
    },
    {
     "name": "stdout",
     "output_type": "stream",
     "text": [
      "score 53.0\n"
     ]
    },
    {
     "name": "stderr",
     "output_type": "stream",
     "text": [
      " 85%|████████▌ | 4252/5000 [05:19<01:25,  8.76it/s]"
     ]
    },
    {
     "name": "stdout",
     "output_type": "stream",
     "text": [
      "score 42.0\n"
     ]
    },
    {
     "name": "stderr",
     "output_type": "stream",
     "text": [
      " 86%|████████▌ | 4303/5000 [05:23<00:51, 13.58it/s]"
     ]
    },
    {
     "name": "stdout",
     "output_type": "stream",
     "text": [
      "score 73.0\n"
     ]
    },
    {
     "name": "stderr",
     "output_type": "stream",
     "text": [
      " 87%|████████▋ | 4352/5000 [05:30<01:12,  8.99it/s]"
     ]
    },
    {
     "name": "stdout",
     "output_type": "stream",
     "text": [
      "score 363.0\n"
     ]
    },
    {
     "name": "stderr",
     "output_type": "stream",
     "text": [
      " 88%|████████▊ | 4402/5000 [05:38<01:54,  5.23it/s]"
     ]
    },
    {
     "name": "stdout",
     "output_type": "stream",
     "text": [
      "score 43.0\n"
     ]
    },
    {
     "name": "stderr",
     "output_type": "stream",
     "text": [
      " 89%|████████▉ | 4451/5000 [05:46<01:45,  5.23it/s]"
     ]
    },
    {
     "name": "stdout",
     "output_type": "stream",
     "text": [
      "score 43.0\n"
     ]
    },
    {
     "name": "stderr",
     "output_type": "stream",
     "text": [
      " 90%|█████████ | 4501/5000 [05:53<01:30,  5.49it/s]"
     ]
    },
    {
     "name": "stdout",
     "output_type": "stream",
     "text": [
      "score 313.0\n"
     ]
    },
    {
     "name": "stderr",
     "output_type": "stream",
     "text": [
      " 91%|█████████ | 4551/5000 [06:02<01:50,  4.06it/s]"
     ]
    },
    {
     "name": "stdout",
     "output_type": "stream",
     "text": [
      "score 693.0\n"
     ]
    },
    {
     "name": "stderr",
     "output_type": "stream",
     "text": [
      " 92%|█████████▏| 4602/5000 [06:10<01:13,  5.43it/s]"
     ]
    },
    {
     "name": "stdout",
     "output_type": "stream",
     "text": [
      "score 213.0\n"
     ]
    },
    {
     "name": "stderr",
     "output_type": "stream",
     "text": [
      " 93%|█████████▎| 4651/5000 [06:18<01:40,  3.48it/s]"
     ]
    },
    {
     "name": "stdout",
     "output_type": "stream",
     "text": [
      "score 193.0\n"
     ]
    },
    {
     "name": "stderr",
     "output_type": "stream",
     "text": [
      " 94%|█████████▍| 4704/5000 [06:29<00:46,  6.43it/s]"
     ]
    },
    {
     "name": "stdout",
     "output_type": "stream",
     "text": [
      "score 113.0\n"
     ]
    },
    {
     "name": "stderr",
     "output_type": "stream",
     "text": [
      " 95%|█████████▌| 4753/5000 [06:40<00:50,  4.86it/s]"
     ]
    },
    {
     "name": "stdout",
     "output_type": "stream",
     "text": [
      "score 1000.0\n"
     ]
    },
    {
     "name": "stderr",
     "output_type": "stream",
     "text": [
      " 96%|█████████▌| 4801/5000 [06:49<01:11,  2.79it/s]"
     ]
    },
    {
     "name": "stdout",
     "output_type": "stream",
     "text": [
      "score 853.0\n"
     ]
    },
    {
     "name": "stderr",
     "output_type": "stream",
     "text": [
      " 97%|█████████▋| 4853/5000 [06:58<00:19,  7.67it/s]"
     ]
    },
    {
     "name": "stdout",
     "output_type": "stream",
     "text": [
      "score 94.0\n"
     ]
    },
    {
     "name": "stderr",
     "output_type": "stream",
     "text": [
      " 98%|█████████▊| 4904/5000 [07:05<00:08, 11.61it/s]"
     ]
    },
    {
     "name": "stdout",
     "output_type": "stream",
     "text": [
      "score 53.0\n"
     ]
    },
    {
     "name": "stderr",
     "output_type": "stream",
     "text": [
      " 99%|█████████▉| 4952/5000 [07:09<00:05,  9.28it/s]"
     ]
    },
    {
     "name": "stdout",
     "output_type": "stream",
     "text": [
      "score 15.0\n"
     ]
    },
    {
     "name": "stderr",
     "output_type": "stream",
     "text": [
      "100%|██████████| 5000/5000 [07:14<00:00, 11.49it/s]\n"
     ]
    },
    {
     "name": "stdout",
     "output_type": "stream",
     "text": [
      "score moyen 221.39 nombre reussite totale 0\n"
     ]
    },
    {
     "data": {
      "application/vnd.jupyter.widget-view+json": {
       "model_id": "499da4acbdfe402d865a18e2973ceb13",
       "version_major": 2,
       "version_minor": 0
      },
      "text/plain": [
       "VBox(children=(Label(value='0.001 MB of 0.001 MB uploaded\\r'), FloatProgress(value=1.0, max=1.0)))"
      ]
     },
     "metadata": {},
     "output_type": "display_data"
    },
    {
     "data": {
      "text/html": [
       "<style>\n",
       "    table.wandb td:nth-child(1) { padding: 0 10px; text-align: left ; width: auto;} td:nth-child(2) {text-align: left ; width: 100%}\n",
       "    .wandb-row { display: flex; flex-direction: row; flex-wrap: wrap; justify-content: flex-start; width: 100% }\n",
       "    .wandb-col { display: flex; flex-direction: column; flex-basis: 100%; flex: 1; padding: 10px; }\n",
       "    </style>\n",
       "<div class=\"wandb-row\"><div class=\"wandb-col\"><h3>Run history:</h3><br/><table class=\"wandb\"><tr><td>score</td><td>▁▁▁▁▁▁▁▁▂▂▁▁▁▂▂▃▂▁▁▂▁█▂▄▃█▄▃▃▃█▄▁▆▁▁▆▂▇▁</td></tr></table><br/></div><div class=\"wandb-col\"><h3>Run summary:</h3><br/><table class=\"wandb\"><tr><td>score</td><td>15.0</td></tr></table><br/></div></div>"
      ],
      "text/plain": [
       "<IPython.core.display.HTML object>"
      ]
     },
     "metadata": {},
     "output_type": "display_data"
    },
    {
     "data": {
      "text/html": [
       " View run <strong style=\"color:#cdcd00\">MC processed= False height: 15 width: 20 gap: 4date: 12th04mo_01h14min55s</strong> at: <a href='https://wandb.ai/alexandre-selvestrel-team/FlappyBird-RL/runs/i6bowgyq' target=\"_blank\">https://wandb.ai/alexandre-selvestrel-team/FlappyBird-RL/runs/i6bowgyq</a><br/>Synced 5 W&B file(s), 0 media file(s), 0 artifact file(s) and 0 other file(s)"
      ],
      "text/plain": [
       "<IPython.core.display.HTML object>"
      ]
     },
     "metadata": {},
     "output_type": "display_data"
    },
    {
     "data": {
      "text/html": [
       "Find logs at: <code>.\\wandb\\run-20240412_011455-i6bowgyq\\logs</code>"
      ],
      "text/plain": [
       "<IPython.core.display.HTML object>"
      ]
     },
     "metadata": {},
     "output_type": "display_data"
    }
   ],
   "source": [
    "def training(env, policy,n_episodes, n_max_step,n_testing_moments = 100):\n",
    "    li_scores = []\n",
    "    for num_ep in tqdm(range(n_episodes)):\n",
    "        done = False\n",
    "        obs, info = env.reset()\n",
    "        policy.reset()\n",
    "        sep_test = n_episodes // n_testing_moments\n",
    "        n_step = 0\n",
    "        # iterate\n",
    "        while (done is False) and (n_step < n_max_step):\n",
    "            n_step += 1\n",
    "            # Select next action\n",
    "            action = policy.chose_action(obs,training = True)\n",
    "            # Appy action and return new observation of the environment\n",
    "            obs, reward, done, _, info = env.step(action)\n",
    "            policy.update(reward,obs,done)\n",
    "        if num_ep % sep_test == 0:\n",
    "            score_moyen, n_terminated = testing(env,policy,n_episodes=1,n_max_step= n_max_step)\n",
    "            li_scores.append(score_moyen)\n",
    "            print('score',score_moyen)\n",
    "            if do_wandb:\n",
    "                wandb.log({\"score\": score_moyen}, step=num_ep)\n",
    "    return li_scores\n",
    "                \n",
    "\n",
    "def testing(env, policy,n_episodes, n_max_step):\n",
    "    score_moyen = 0\n",
    "    policy.reset()\n",
    "    for _ in range(n_episodes):\n",
    "        done = False\n",
    "        obs,info = env.reset()\n",
    "        n_step = 0\n",
    "        # iterate\n",
    "        n_terminated = 0 \n",
    "\n",
    "        while (done is False) and (n_step < n_max_step):\n",
    "            n_step += 1\n",
    "            # Select next action\n",
    "            action = policy.chose_action(obs,training = False)\n",
    "            # Appy action and return new observation of the environment\n",
    "            obs, reward, done, _, info = env.step(action)\n",
    "            if n_step == n_max_step:\n",
    "                n_terminated += 1\n",
    "        score_moyen += n_step\n",
    "    score_moyen = score_moyen/n_episodes\n",
    "    return score_moyen, n_terminated\n",
    "\n",
    "def show(env, policy,n_episodes):\n",
    "    policy.reset()\n",
    "    for _ in range(n_episodes):\n",
    "        done = False\n",
    "        obs, info = env.reset()\n",
    "        n_step = 0\n",
    "        # iterate\n",
    "        while (done is False):\n",
    "            n_step += 1\n",
    "            # Select next action\n",
    "            action = policy.chose_action(obs,training = False)\n",
    "            # Appy action and return new observation of the environment\n",
    "            obs, reward, done, _, info = env.step(action)\n",
    "            os.system(\"clear\")\n",
    "            sys.stdout.write(env.render())\n",
    "            time.sleep(0.1) # FPS\n",
    "            print(obs)\n",
    "            print(n_step)\n",
    "\n",
    "\n",
    "if __name__ == '__main__':\n",
    "    trained = False\n",
    "    continue_training = False\n",
    "    n_max_step = 1000\n",
    "    n_training = 5000\n",
    "    n_testing = 100\n",
    "    eps = 0.01\n",
    "    alpha = 0.2\n",
    "    #name_env = 'TextFlappyBird-v0' #ne dépend pas de la qualité de l'environnement\n",
    "    name_env = 'TextFlappyBird-screen-v0' #dépendant de la qualité de l'environnement\n",
    "    name_policy = 'MC'\n",
    "    #name_policy = 'Sarsa'\n",
    "    height = 15\n",
    "    width = 20\n",
    "    gap = 4\n",
    "    do_wandb = True\n",
    "    \n",
    "    if name_env == 'TextFlappyBird-v0':\n",
    "        processed = True\n",
    "    elif name_env == 'TextFlappyBird-screen-v0':\n",
    "        processed = False\n",
    "    else:\n",
    "        raise ValueError(\"This environment doesn't exist!\")\n",
    "    for run in range(5):\n",
    "        date = datetime.datetime.now().strftime('%dth%mmo_%Hh%Mmin%Ss')\n",
    "        #print(date)\n",
    "        name = name_policy + ' processed= ' + str(processed) +' height: '+ str(height) + ' width: '+ str(width) + ' gap: ' +str(gap) +'date: '+ str(date)\n",
    "        #print(name)\n",
    "        if do_wandb:\n",
    "            wandb.init(\n",
    "            # set the wandb project where this run will be logged\n",
    "            project=\"FlappyBird-RL\",\n",
    "            name=name,\n",
    "            # track hyperparameters and run metadata\n",
    "            config={\n",
    "            \"processed\": processed ,\n",
    "            \"name_policy\": name_policy,\n",
    "            \"height\": height,\n",
    "            \"width\": width,\n",
    "            \"gap\": gap,\n",
    "            \"True_flappy\": False,\n",
    "            \"eps\": eps,\n",
    "            \"alpha\": alpha,\n",
    "            })\n",
    "        env = gym.make(name_env, height = height, width = width, pipe_gap = gap)\n",
    "        if name_policy == 'MC':\n",
    "            policy = MC(eps = eps,alpha = alpha, n_max_step = n_max_step,height = height,width = width,gap = gap ,trained = trained, processed = processed)\n",
    "        elif name_policy:\n",
    "            policy = Sarsa(eps = eps,alpha = alpha, n_max_step = n_max_step,height = height,width = width,gap = gap ,trained = trained, processed = processed, lambd = 0.9)\n",
    "        if continue_training or not trained:\n",
    "            li_scores = training(env,policy,n_episodes= n_training,n_max_step= n_max_step)\n",
    "            file_name = 'data/scores' + name + '.pkl'\n",
    "            #with open(file_name, 'wb') as f:\n",
    "            #    pickle.dump(li_scores, f)\n",
    "        for _ in range(1):\n",
    "            score_moyen, n_terminated = testing(env,policy,n_episodes= n_testing,n_max_step= n_max_step)\n",
    "            print(\"score moyen\",score_moyen,\"nombre reussite totale\", n_terminated)\n",
    "        # Render the game\n",
    "        #show(env,policy,1)\n",
    "        policy.save()\n",
    "        env.close()\n",
    "        if do_wandb:\n",
    "            wandb.finish()\n"
   ]
  },
  {
   "cell_type": "markdown",
   "metadata": {},
   "source": [
    "## True Flappy Bird"
   ]
  },
  {
   "cell_type": "markdown",
   "metadata": {},
   "source": [
    "Define a new way to process the data"
   ]
  },
  {
   "cell_type": "code",
   "execution_count": 5,
   "metadata": {},
   "outputs": [],
   "source": [
    "def process_true(array,bin_width, bin_height):\n",
    "    width, height = array\n",
    "    width = round(width*(bin_width//2))\n",
    "    height = round(height*(bin_height//2))\n",
    "    return (width, height)"
   ]
  },
  {
   "cell_type": "code",
   "execution_count": 6,
   "metadata": {},
   "outputs": [],
   "source": [
    "class MC_True:\n",
    "    def __init__(self,eps,alpha,n_max_step,height,width,gap,trained = False) -> None:\n",
    "        self.eps = eps\n",
    "        self.alpha = alpha\n",
    "        self.n_max_step = n_max_step\n",
    "        self.nsteps = 0\n",
    "        self.height = height\n",
    "        self.width = width\n",
    "        self.gap = gap\n",
    "        if trained is False:\n",
    "            self.q = {}\n",
    "        else:\n",
    "            with open('data/MC_true.pkl', 'rb') as f:\n",
    "                self.q = pickle.load(f)\n",
    "\n",
    "    def reset(self):\n",
    "        self.episode = []\n",
    "        self.nsteps = 0\n",
    "\n",
    "    def chose_action(self,observation, training = True):\n",
    "        #print(observation)\n",
    "        state = process_true(observation,self.width,self.height)\n",
    "        #print(state)\n",
    "        if (state,0) not in list(self.q.keys()):\n",
    "            self.q[(state,0)] = np.random.uniform(-10,10)\n",
    "        if (state,1) not in list(self.q.keys()):\n",
    "            self.q[(state,1)] = np.random.uniform(-10,10)\n",
    "        if training:\n",
    "            if np.random.uniform(0,1) < self.eps:\n",
    "                action = np.random.choice([0,1])\n",
    "                self.episode.append({'state':state,'action':action})\n",
    "                self.nsteps += 1\n",
    "                return action\n",
    "        action = 0 if self.q[(state,0)] > self.q[(state,1)] else 1\n",
    "        self.episode.append({'state':state,'action':action})\n",
    "        self.nsteps += 1\n",
    "        return action\n",
    "    \n",
    "    def update(self,reward,next_observation,done):\n",
    "        #print(3*abs(self.episode[-1]['state'][1])/self.width)\n",
    "        reward = reward - 5*abs(self.episode[-1]['state'][1])/self.width\n",
    "        if self.nsteps == self.n_max_step:\n",
    "            reward = 10000\n",
    "        if done:\n",
    "            reward = -30\n",
    "            #print('boum')\n",
    "        self.episode[-1]['reward'] = reward\n",
    "        if (done is False) and (self.nsteps < self.n_max_step):\n",
    "            pass\n",
    "        else:\n",
    "            G = 0\n",
    "            for j in range(len(self.episode)):\n",
    "                i = len(self.episode) - j - 1\n",
    "                G += self.episode[i]['reward']\n",
    "                self.q[(self.episode[i]['state'],self.episode[i]['action'])] += self.alpha*(G - self.q[(self.episode[i]['state'],self.episode[i]['action'])])\n",
    "        \n",
    "    \n",
    "    def save(self):\n",
    "        #print(self.q)\n",
    "        with open('data/MC_true.pkl', 'wb') as f:\n",
    "            pickle.dump(self.q, f)"
   ]
  },
  {
   "cell_type": "code",
   "execution_count": 8,
   "metadata": {},
   "outputs": [
    {
     "name": "stdout",
     "output_type": "stream",
     "text": [
      "score moyen 470.38 nombre reussite totale 0\n"
     ]
    },
    {
     "name": "stderr",
     "output_type": "stream",
     "text": [
      "c:\\Users\\33771\\.conda\\envs\\transform\\lib\\site-packages\\gym\\utils\\passive_env_checker.py:272: UserWarning: \u001b[33mWARN: No render modes was declared in the environment (env.metadata['render_modes'] is None or not defined), you may have trouble when calling `.render()`.\u001b[0m\n",
      "  logger.warn(\n"
     ]
    },
    {
     "name": "stdout",
     "output_type": "stream",
     "text": [
      "[1.64236111 0.02734375]\n",
      "1\n",
      "[1.62847222 0.04296875]\n",
      "2\n",
      "[1.61458333 0.05664062]\n",
      "3\n",
      "[1.60069444 0.06835938]\n",
      "4\n",
      "[1.58680556 0.078125  ]\n",
      "5\n",
      "[1.57291667 0.0859375 ]\n",
      "6\n",
      "[1.55902778 0.09179688]\n",
      "7\n",
      "[1.54513889 0.09570312]\n",
      "8\n",
      "[1.53125    0.09765625]\n",
      "9\n",
      "[1.51736111 0.11523438]\n",
      "10\n",
      "[1.50347222 0.1328125 ]\n",
      "11\n",
      "[1.48958333 0.1484375 ]\n",
      "12\n",
      "[1.47569444 0.16210938]\n",
      "13\n",
      "[1.46180556 0.17382812]\n",
      "14\n",
      "[1.44791667 0.18359375]\n",
      "15\n",
      "[1.43402778 0.19140625]\n",
      "16\n",
      "[1.42013889 0.19726562]\n",
      "17\n",
      "[1.40625    0.20117188]\n",
      "18\n",
      "[1.39236111 0.203125  ]\n",
      "19\n",
      "[1.37847222 0.203125  ]\n",
      "20\n",
      "[1.36458333 0.20117188]\n",
      "21\n",
      "[1.35069444 0.19726562]\n",
      "22\n",
      "[1.33680556 0.19140625]\n",
      "23\n",
      "[1.32291667 0.18359375]\n",
      "24\n",
      "[1.30902778 0.17382812]\n",
      "25\n",
      "[1.29513889 0.16210938]\n",
      "26\n",
      "[1.28125   0.1484375]\n",
      "27\n",
      "[1.26736111 0.1328125 ]\n",
      "28\n",
      "[1.25347222 0.11523438]\n",
      "29\n",
      "[1.23958333 0.09570312]\n",
      "30\n",
      "[1.22569444 0.07617188]\n",
      "31\n",
      "[1.21180556 0.05664062]\n",
      "32\n",
      "[1.19791667 0.03710938]\n",
      "33\n",
      "[1.18402778 0.01757812]\n",
      "34\n",
      "[ 1.17013889 -0.00195312]\n",
      "35\n",
      "[ 1.15625    -0.02148438]\n",
      "36\n",
      "[ 1.14236111 -0.04101562]\n",
      "37\n",
      "[ 1.12847222 -0.06054688]\n",
      "38\n",
      "[ 1.11458333 -0.04296875]\n",
      "39\n",
      "[ 1.10069444 -0.02539062]\n",
      "40\n",
      "[ 1.08680556 -0.0078125 ]\n",
      "41\n",
      "[1.07291667 0.00976562]\n",
      "42\n",
      "[1.05902778 0.02734375]\n",
      "43\n",
      "[1.04513889 0.04296875]\n",
      "44\n",
      "[1.03125    0.05664062]\n",
      "45\n",
      "[1.01736111 0.06835938]\n",
      "46\n",
      "[1.00347222 0.078125  ]\n",
      "47\n",
      "[0.98958333 0.0859375 ]\n",
      "48\n",
      "[0.97569444 0.09179688]\n",
      "49\n",
      "[0.96180556 0.09570312]\n",
      "50\n",
      "[0.94791667 0.09765625]\n",
      "51\n",
      "[0.93402778 0.09765625]\n",
      "52\n",
      "[0.92013889 0.09570312]\n",
      "53\n",
      "[0.90625    0.09179688]\n",
      "54\n",
      "[0.89236111 0.0859375 ]\n",
      "55\n",
      "[0.87847222 0.078125  ]\n",
      "56\n",
      "[0.86458333 0.06835938]\n",
      "57\n",
      "[0.85069444 0.05664062]\n",
      "58\n",
      "[0.83680556 0.07421875]\n",
      "59\n",
      "[0.82291667 0.09179688]\n",
      "60\n",
      "[0.80902778 0.10742188]\n",
      "61\n",
      "[0.79513889 0.125     ]\n",
      "62\n",
      "[0.78125    0.14257812]\n",
      "63\n",
      "[0.76736111 0.15820312]\n",
      "64\n",
      "[0.75347222 0.17578125]\n",
      "65\n",
      "[0.73958333 0.19140625]\n",
      "66\n",
      "[0.72569444 0.20507812]\n",
      "67\n",
      "[0.71180556 0.21679688]\n",
      "68\n",
      "[0.69791667 0.2265625 ]\n",
      "69\n",
      "[0.68402778 0.234375  ]\n",
      "70\n",
      "[0.67013889 0.24023438]\n",
      "71\n",
      "[0.65625    0.24414062]\n",
      "72\n",
      "[0.64236111 0.24609375]\n",
      "73\n",
      "[0.62847222 0.24609375]\n",
      "74\n",
      "[0.61458333 0.24414062]\n",
      "75\n",
      "[0.60069444 0.24023438]\n",
      "76\n",
      "[0.58680556 0.234375  ]\n",
      "77\n",
      "[0.57291667 0.2265625 ]\n",
      "78\n",
      "[0.55902778 0.21679688]\n",
      "79\n",
      "[0.54513889 0.20507812]\n",
      "80\n",
      "[0.53125    0.19140625]\n",
      "81\n",
      "[0.51736111 0.17578125]\n",
      "82\n",
      "[0.50347222 0.15820312]\n",
      "83\n",
      "[0.48958333 0.13867188]\n",
      "84\n",
      "[0.47569444 0.11914062]\n",
      "85\n",
      "[0.46180556 0.09960938]\n",
      "86\n",
      "[0.44791667 0.08007812]\n",
      "87\n",
      "[0.43402778 0.06054688]\n",
      "88\n",
      "[0.42013889 0.04101562]\n",
      "89\n",
      "[0.40625    0.02148438]\n",
      "90\n",
      "[0.39236111 0.00195312]\n",
      "91\n",
      "[ 0.37847222 -0.01757812]\n",
      "92\n",
      "[ 0.36458333 -0.03710938]\n",
      "93\n",
      "[ 0.35069444 -0.05664062]\n",
      "94\n",
      "[ 0.33680556 -0.07617188]\n",
      "95\n",
      "[ 0.32291667 -0.05859375]\n",
      "96\n",
      "[ 0.30902778 -0.04101562]\n",
      "97\n",
      "[ 0.29513889 -0.0234375 ]\n",
      "98\n",
      "[ 0.28125   -0.0078125]\n",
      "99\n",
      "[0.26736111 0.00585938]\n",
      "100\n",
      "[0.25347222 0.01757812]\n",
      "101\n",
      "[0.23958333 0.02734375]\n",
      "102\n",
      "[0.22569444 0.03515625]\n",
      "103\n",
      "[0.21180556 0.04101562]\n",
      "104\n",
      "[0.19791667 0.04492188]\n",
      "105\n",
      "[0.18402778 0.046875  ]\n",
      "106\n",
      "[0.17013889 0.046875  ]\n",
      "107\n",
      "[0.15625    0.04492188]\n",
      "108\n",
      "[0.14236111 0.04101562]\n",
      "109\n",
      "[0.12847222 0.03515625]\n",
      "110\n",
      "[0.11458333 0.02734375]\n",
      "111\n",
      "[0.10069444 0.01757812]\n",
      "112\n",
      "[0.08680556 0.00585938]\n",
      "113\n",
      "[ 0.07291667 -0.0078125 ]\n",
      "114\n",
      "[ 0.05902778 -0.0234375 ]\n",
      "115\n",
      "[ 0.04513889 -0.04101562]\n",
      "116\n",
      "[ 0.03125   -0.0234375]\n",
      "117\n",
      "[ 0.01736111 -0.0078125 ]\n",
      "118\n",
      "[0.00347222 0.00585938]\n",
      "119\n",
      "[ 0.48958333 -0.234375  ]\n",
      "120\n",
      "[ 0.47569444 -0.21679688]\n",
      "121\n",
      "[ 0.46180556 -0.19921875]\n",
      "122\n",
      "[ 0.44791667 -0.18164062]\n",
      "123\n",
      "[ 0.43402778 -0.1640625 ]\n",
      "124\n",
      "[ 0.42013889 -0.14648438]\n",
      "125\n",
      "[ 0.40625    -0.12890625]\n",
      "126\n",
      "[ 0.39236111 -0.11328125]\n",
      "127\n",
      "[ 0.37847222 -0.09960938]\n",
      "128\n",
      "[ 0.36458333 -0.08203125]\n",
      "129\n",
      "[ 0.35069444 -0.06445312]\n",
      "130\n",
      "[ 0.33680556 -0.04882812]\n",
      "131\n",
      "[ 0.32291667 -0.03125   ]\n",
      "132\n",
      "[ 0.30902778 -0.01367188]\n",
      "133\n",
      "[0.29513889 0.00195312]\n",
      "134\n",
      "[0.28125  0.015625]\n",
      "135\n",
      "[0.26736111 0.02734375]\n",
      "136\n",
      "[0.25347222 0.03710938]\n",
      "137\n",
      "[0.23958333 0.04492188]\n",
      "138\n",
      "[0.22569444 0.05078125]\n",
      "139\n",
      "[0.21180556 0.0546875 ]\n",
      "140\n",
      "[0.19791667 0.05664062]\n",
      "141\n",
      "[0.18402778 0.05664062]\n",
      "142\n",
      "[0.17013889 0.0546875 ]\n",
      "143\n",
      "[0.15625    0.05078125]\n",
      "144\n",
      "[0.14236111 0.04492188]\n",
      "145\n",
      "[0.12847222 0.03710938]\n",
      "146\n",
      "[0.11458333 0.02734375]\n",
      "147\n",
      "[0.10069444 0.015625  ]\n",
      "148\n",
      "[0.08680556 0.00195312]\n",
      "149\n",
      "[ 0.07291667 -0.01367188]\n",
      "150\n",
      "[ 0.05902778 -0.03125   ]\n",
      "151\n",
      "[ 0.04513889 -0.01367188]\n",
      "152\n",
      "[0.03125    0.00195312]\n",
      "153\n",
      "[0.01736111 0.015625  ]\n",
      "154\n",
      "[0.00347222 0.02734375]\n",
      "155\n",
      "[0.51041667 0.17382812]\n",
      "156\n",
      "[0.49652778 0.18164062]\n",
      "157\n",
      "[0.48263889 0.1875    ]\n",
      "158\n",
      "[0.46875    0.19140625]\n",
      "159\n",
      "[0.45486111 0.19335938]\n",
      "160\n",
      "[0.44097222 0.19335938]\n",
      "161\n",
      "[0.42708333 0.19140625]\n",
      "162\n",
      "[0.41319444 0.1875    ]\n",
      "163\n",
      "[0.39930556 0.18164062]\n",
      "164\n",
      "[0.38541667 0.17382812]\n",
      "165\n",
      "[0.37152778 0.1640625 ]\n",
      "166\n",
      "[0.35763889 0.15234375]\n",
      "167\n",
      "[0.34375    0.13867188]\n",
      "168\n",
      "[0.32986111 0.12304688]\n",
      "169\n",
      "[0.31597222 0.10546875]\n",
      "170\n",
      "[0.30208333 0.0859375 ]\n",
      "171\n",
      "[0.28819444 0.06640625]\n",
      "172\n",
      "[0.27430556 0.046875  ]\n",
      "173\n",
      "[0.26041667 0.02734375]\n",
      "174\n",
      "[0.24652778 0.0078125 ]\n",
      "175\n",
      "[ 0.23263889 -0.01171875]\n",
      "176\n",
      "[ 0.21875 -0.03125]\n",
      "177\n",
      "[ 0.20486111 -0.01367188]\n",
      "178\n",
      "[0.19097222 0.00195312]\n",
      "179\n",
      "[0.17708333 0.015625  ]\n",
      "180\n",
      "[0.16319444 0.02734375]\n",
      "181\n",
      "[0.14930556 0.03710938]\n",
      "182\n",
      "[0.13541667 0.04492188]\n",
      "183\n",
      "[0.12152778 0.05078125]\n",
      "184\n",
      "[0.10763889 0.0546875 ]\n",
      "185\n",
      "[0.09375    0.05664062]\n",
      "186\n",
      "[0.07986111 0.05664062]\n",
      "187\n",
      "[0.06597222 0.0546875 ]\n",
      "188\n",
      "[0.05208333 0.05078125]\n",
      "189\n",
      "[0.03819444 0.04492188]\n",
      "190\n",
      "[0.02430556 0.03710938]\n",
      "191\n",
      "[0.01041667 0.02734375]\n",
      "192\n",
      "[0.49652778 0.0390625 ]\n",
      "193\n",
      "[0.48263889 0.02539062]\n",
      "194\n",
      "[0.46875    0.00976562]\n",
      "195\n",
      "[ 0.45486111 -0.0078125 ]\n",
      "196\n",
      "[ 0.44097222 -0.02734375]\n",
      "197\n",
      "[ 0.42708333 -0.046875  ]\n",
      "198\n",
      "[ 0.41319444 -0.06640625]\n",
      "199\n",
      "[ 0.39930556 -0.04882812]\n",
      "200\n",
      "[ 0.38541667 -0.03125   ]\n",
      "201\n",
      "[ 0.37152778 -0.01367188]\n",
      "202\n",
      "[0.35763889 0.00195312]\n",
      "203\n",
      "[0.34375  0.015625]\n",
      "204\n",
      "[0.32986111 0.02734375]\n",
      "205\n",
      "[0.31597222 0.03710938]\n",
      "206\n",
      "[0.30208333 0.04492188]\n",
      "207\n",
      "[0.28819444 0.05078125]\n",
      "208\n",
      "[0.27430556 0.0546875 ]\n",
      "209\n",
      "[0.26041667 0.05664062]\n",
      "210\n",
      "[0.24652778 0.05664062]\n",
      "211\n",
      "[0.23263889 0.0546875 ]\n",
      "212\n",
      "[0.21875    0.05078125]\n",
      "213\n",
      "[0.20486111 0.04492188]\n",
      "214\n",
      "[0.19097222 0.03710938]\n",
      "215\n",
      "[0.17708333 0.02734375]\n",
      "216\n",
      "[0.16319444 0.015625  ]\n",
      "217\n",
      "[0.14930556 0.00195312]\n",
      "218\n",
      "[ 0.13541667 -0.01367188]\n",
      "219\n",
      "[ 0.12152778 -0.03125   ]\n",
      "220\n",
      "[ 0.10763889 -0.01367188]\n",
      "221\n",
      "[0.09375    0.00195312]\n",
      "222\n",
      "[0.07986111 0.015625  ]\n",
      "223\n",
      "[0.06597222 0.02734375]\n",
      "224\n",
      "[0.05208333 0.03710938]\n",
      "225\n",
      "[0.03819444 0.04492188]\n",
      "226\n",
      "[0.02430556 0.05078125]\n",
      "227\n",
      "[0.01041667 0.0546875 ]\n",
      "228\n",
      "[ 0.52430556 -0.0234375 ]\n",
      "229\n",
      "[ 0.51041667 -0.00585938]\n",
      "230\n",
      "[0.49652778 0.01171875]\n",
      "231\n",
      "[0.48263889 0.02734375]\n",
      "232\n",
      "[0.46875    0.04101562]\n",
      "233\n",
      "[0.45486111 0.05273438]\n",
      "234\n",
      "[0.44097222 0.0625    ]\n",
      "235\n",
      "[0.42708333 0.0703125 ]\n",
      "236\n",
      "[0.41319444 0.07617188]\n",
      "237\n",
      "[0.39930556 0.08007812]\n",
      "238\n",
      "[0.38541667 0.08203125]\n",
      "239\n",
      "[0.37152778 0.08203125]\n",
      "240\n",
      "[0.35763889 0.08007812]\n",
      "241\n",
      "[0.34375    0.07617188]\n",
      "242\n",
      "[0.32986111 0.0703125 ]\n",
      "243\n",
      "[0.31597222 0.0625    ]\n",
      "244\n",
      "[0.30208333 0.05273438]\n",
      "245\n",
      "[0.28819444 0.04101562]\n",
      "246\n",
      "[0.27430556 0.02734375]\n",
      "247\n",
      "[0.26041667 0.01171875]\n",
      "248\n",
      "[ 0.24652778 -0.00585938]\n",
      "249\n",
      "[ 0.23263889 -0.02539062]\n",
      "250\n",
      "[ 0.21875   -0.0078125]\n",
      "251\n",
      "[0.20486111 0.0078125 ]\n",
      "252\n",
      "[0.19097222 0.02148438]\n",
      "253\n",
      "[0.17708333 0.03320312]\n",
      "254\n",
      "[0.16319444 0.04296875]\n",
      "255\n",
      "[0.14930556 0.05078125]\n",
      "256\n",
      "[0.13541667 0.05664062]\n",
      "257\n",
      "[0.12152778 0.06054688]\n",
      "258\n",
      "[0.10763889 0.0625    ]\n",
      "259\n",
      "[0.09375 0.0625 ]\n",
      "260\n",
      "[0.07986111 0.06054688]\n",
      "261\n",
      "[0.06597222 0.05664062]\n",
      "262\n",
      "[0.05208333 0.05078125]\n",
      "263\n",
      "[0.03819444 0.04296875]\n",
      "264\n",
      "[0.02430556 0.03320312]\n",
      "265\n",
      "[0.01041667 0.02148438]\n",
      "266\n",
      "[ 0.49652778 -0.04296875]\n",
      "267\n",
      "[ 0.48263889 -0.05859375]\n",
      "268\n",
      "[ 0.46875    -0.07617188]\n",
      "269\n",
      "[ 0.45486111 -0.09570312]\n",
      "270\n",
      "[ 0.44097222 -0.078125  ]\n",
      "271\n",
      "[ 0.42708333 -0.06054688]\n",
      "272\n",
      "[ 0.41319444 -0.04492188]\n",
      "273\n",
      "[ 0.39930556 -0.02734375]\n",
      "274\n",
      "[ 0.38541667 -0.00976562]\n",
      "275\n",
      "[0.37152778 0.00585938]\n",
      "276\n",
      "[0.35763889 0.01953125]\n",
      "277\n",
      "[0.34375 0.03125]\n",
      "278\n",
      "[0.32986111 0.04101562]\n",
      "279\n",
      "[0.31597222 0.04882812]\n",
      "280\n",
      "[0.30208333 0.0546875 ]\n",
      "281\n",
      "[0.28819444 0.05859375]\n",
      "282\n",
      "[0.27430556 0.06054688]\n",
      "283\n",
      "[0.26041667 0.06054688]\n",
      "284\n",
      "[0.24652778 0.05859375]\n",
      "285\n",
      "[0.23263889 0.0546875 ]\n",
      "286\n",
      "[0.21875    0.04882812]\n",
      "287\n",
      "[0.20486111 0.04101562]\n",
      "288\n",
      "[0.19097222 0.03125   ]\n",
      "289\n",
      "[0.17708333 0.01953125]\n",
      "290\n",
      "[0.16319444 0.00585938]\n",
      "291\n",
      "[ 0.14930556 -0.00976562]\n",
      "292\n",
      "[ 0.13541667 -0.02734375]\n",
      "293\n",
      "[ 0.12152778 -0.00976562]\n",
      "294\n",
      "[0.10763889 0.00585938]\n",
      "295\n",
      "[0.09375    0.01953125]\n",
      "296\n",
      "[0.07986111 0.03125   ]\n",
      "297\n",
      "[0.06597222 0.04101562]\n",
      "298\n",
      "[0.05208333 0.04882812]\n",
      "299\n",
      "[0.03819444 0.0546875 ]\n",
      "300\n",
      "[0.02430556 0.05859375]\n",
      "301\n",
      "[0.01041667 0.06054688]\n",
      "302\n",
      "[0.52430556 0.02929688]\n",
      "303\n",
      "[0.51041667 0.02734375]\n",
      "304\n",
      "[0.49652778 0.0234375 ]\n",
      "305\n",
      "[0.48263889 0.01757812]\n",
      "306\n",
      "[0.46875    0.00976562]\n",
      "307\n",
      "[0.45486111 0.        ]\n",
      "308\n",
      "[ 0.44097222 -0.01171875]\n",
      "309\n",
      "[ 0.42708333 -0.02539062]\n",
      "310\n",
      "[ 0.41319444 -0.04101562]\n",
      "311\n",
      "[ 0.39930556 -0.0234375 ]\n",
      "312\n",
      "[ 0.38541667 -0.0078125 ]\n",
      "313\n",
      "[0.37152778 0.00585938]\n",
      "314\n",
      "[0.35763889 0.01757812]\n",
      "315\n",
      "[0.34375    0.02734375]\n",
      "316\n",
      "[0.32986111 0.03515625]\n",
      "317\n",
      "[0.31597222 0.04101562]\n",
      "318\n",
      "[0.30208333 0.04492188]\n",
      "319\n",
      "[0.28819444 0.046875  ]\n",
      "320\n",
      "[0.27430556 0.046875  ]\n",
      "321\n",
      "[0.26041667 0.04492188]\n",
      "322\n",
      "[0.24652778 0.04101562]\n",
      "323\n",
      "[0.23263889 0.03515625]\n",
      "324\n",
      "[0.21875    0.02734375]\n",
      "325\n",
      "[0.20486111 0.01757812]\n",
      "326\n",
      "[0.19097222 0.00585938]\n",
      "327\n",
      "[ 0.17708333 -0.0078125 ]\n",
      "328\n",
      "[ 0.16319444 -0.0234375 ]\n",
      "329\n",
      "[ 0.14930556 -0.04101562]\n",
      "330\n",
      "[ 0.13541667 -0.06054688]\n",
      "331\n",
      "[ 0.12152778 -0.04296875]\n",
      "332\n",
      "[ 0.10763889 -0.02539062]\n",
      "333\n",
      "[ 0.09375   -0.0078125]\n",
      "334\n",
      "[0.07986111 0.0078125 ]\n",
      "335\n",
      "[0.06597222 0.02148438]\n",
      "336\n",
      "[0.05208333 0.03320312]\n",
      "337\n",
      "[0.03819444 0.04296875]\n",
      "338\n",
      "[0.02430556 0.05078125]\n",
      "339\n",
      "[0.01041667 0.05664062]\n",
      "340\n",
      "[0.49652778 0.31640625]\n",
      "341\n",
      "[0.48263889 0.31835938]\n",
      "342\n",
      "[0.46875    0.31835938]\n",
      "343\n",
      "[0.45486111 0.31640625]\n",
      "344\n",
      "[0.44097222 0.3125    ]\n",
      "345\n",
      "[0.42708333 0.30664062]\n",
      "346\n",
      "[0.41319444 0.29882812]\n",
      "347\n",
      "[0.39930556 0.2890625 ]\n",
      "348\n",
      "[0.38541667 0.27734375]\n",
      "349\n",
      "[0.37152778 0.26367188]\n",
      "350\n",
      "[0.35763889 0.24804688]\n",
      "351\n",
      "[0.34375    0.23046875]\n",
      "352\n",
      "[0.32986111 0.2109375 ]\n",
      "353\n",
      "[0.31597222 0.19140625]\n",
      "354\n",
      "[0.30208333 0.171875  ]\n",
      "355\n",
      "[0.28819444 0.18945312]\n",
      "356\n",
      "[0.27430556 0.20703125]\n",
      "357\n",
      "[0.27430556 0.20703125]\n",
      "358\n",
      "score moyen 440.86 nombre reussite totale 0\n",
      "[ 1.64236111 -0.02539062]\n",
      "1\n",
      "[ 1.62847222 -0.0078125 ]\n",
      "2\n",
      "[1.61458333 0.00976562]\n",
      "3\n",
      "[1.60069444 0.02539062]\n",
      "4\n",
      "[1.58680556 0.0390625 ]\n",
      "5\n",
      "[1.57291667 0.05078125]\n",
      "6\n",
      "[1.55902778 0.06835938]\n",
      "7\n",
      "[1.54513889 0.0859375 ]\n",
      "8\n",
      "[1.53125   0.1015625]\n",
      "9\n",
      "[1.51736111 0.11914062]\n",
      "10\n",
      "[1.50347222 0.13671875]\n",
      "11\n",
      "[1.48958333 0.15234375]\n",
      "12\n",
      "[1.47569444 0.16601562]\n",
      "13\n",
      "[1.46180556 0.17773438]\n",
      "14\n",
      "[1.44791667 0.1875    ]\n",
      "15\n",
      "[1.43402778 0.1953125 ]\n",
      "16\n",
      "[1.42013889 0.20117188]\n",
      "17\n",
      "[1.40625    0.20507812]\n",
      "18\n",
      "[1.39236111 0.20703125]\n",
      "19\n",
      "[1.37847222 0.20703125]\n",
      "20\n",
      "[1.36458333 0.20507812]\n",
      "21\n",
      "[1.35069444 0.20117188]\n",
      "22\n",
      "[1.33680556 0.1953125 ]\n",
      "23\n",
      "[1.32291667 0.1875    ]\n",
      "24\n",
      "[1.30902778 0.17773438]\n",
      "25\n",
      "[1.29513889 0.16601562]\n",
      "26\n",
      "[1.28125    0.15234375]\n",
      "27\n",
      "[1.26736111 0.13671875]\n",
      "28\n",
      "[1.25347222 0.11914062]\n",
      "29\n",
      "[1.23958333 0.09960938]\n",
      "30\n",
      "[1.22569444 0.08007812]\n",
      "31\n",
      "[1.21180556 0.06054688]\n",
      "32\n",
      "[1.19791667 0.04101562]\n",
      "33\n",
      "[1.18402778 0.02148438]\n",
      "34\n",
      "[1.17013889 0.00195312]\n",
      "35\n",
      "[ 1.15625    -0.01757812]\n",
      "36\n",
      "[ 1.14236111 -0.03710938]\n",
      "37\n",
      "[ 1.12847222 -0.05664062]\n",
      "38\n",
      "[ 1.11458333 -0.0390625 ]\n",
      "39\n",
      "[ 1.10069444 -0.02148438]\n",
      "40\n",
      "[ 1.08680556 -0.00585938]\n",
      "41\n",
      "[1.07291667 0.01171875]\n",
      "42\n",
      "[1.05902778 0.02929688]\n",
      "43\n",
      "[1.04513889 0.04492188]\n",
      "44\n",
      "[1.03125    0.05859375]\n",
      "45\n",
      "[1.01736111 0.0703125 ]\n",
      "46\n",
      "[1.00347222 0.08007812]\n",
      "47\n",
      "[0.98958333 0.08789062]\n",
      "48\n",
      "[0.97569444 0.09375   ]\n",
      "49\n",
      "[0.96180556 0.09765625]\n",
      "50\n",
      "[0.94791667 0.09960938]\n",
      "51\n",
      "[0.93402778 0.09960938]\n",
      "52\n",
      "[0.92013889 0.09765625]\n",
      "53\n",
      "[0.90625 0.09375]\n",
      "54\n",
      "[0.89236111 0.08789062]\n",
      "55\n",
      "[0.87847222 0.08007812]\n",
      "56\n",
      "[0.86458333 0.0703125 ]\n",
      "57\n",
      "[0.85069444 0.05859375]\n",
      "58\n",
      "[0.83680556 0.07617188]\n",
      "59\n",
      "[0.82291667 0.09179688]\n",
      "60\n",
      "[0.80902778 0.10546875]\n",
      "61\n",
      "[0.79513889 0.12304688]\n",
      "62\n",
      "[0.78125  0.140625]\n",
      "63\n",
      "[0.76736111 0.15625   ]\n",
      "64\n",
      "[0.75347222 0.17382812]\n",
      "65\n",
      "[0.73958333 0.19140625]\n",
      "66\n",
      "[0.72569444 0.20703125]\n",
      "67\n",
      "[0.71180556 0.22070312]\n",
      "68\n",
      "[0.69791667 0.23242188]\n",
      "69\n",
      "[0.68402778 0.2421875 ]\n",
      "70\n",
      "[0.67013889 0.25      ]\n",
      "71\n",
      "[0.65625    0.25585938]\n",
      "72\n",
      "[0.64236111 0.25976562]\n",
      "73\n",
      "[0.62847222 0.26171875]\n",
      "74\n",
      "[0.61458333 0.26171875]\n",
      "75\n",
      "[0.60069444 0.25976562]\n",
      "76\n",
      "[0.58680556 0.25585938]\n",
      "77\n",
      "[0.57291667 0.25      ]\n",
      "78\n",
      "[0.55902778 0.2421875 ]\n",
      "79\n",
      "[0.54513889 0.23242188]\n",
      "80\n",
      "[0.53125    0.22070312]\n",
      "81\n",
      "[0.51736111 0.20703125]\n",
      "82\n",
      "[0.50347222 0.19140625]\n",
      "83\n",
      "[0.48958333 0.17382812]\n",
      "84\n",
      "[0.47569444 0.15429688]\n",
      "85\n",
      "[0.46180556 0.13476562]\n",
      "86\n",
      "[0.44791667 0.11523438]\n",
      "87\n",
      "[0.43402778 0.09570312]\n",
      "88\n",
      "[0.42013889 0.07617188]\n",
      "89\n",
      "[0.40625    0.05664062]\n",
      "90\n",
      "[0.39236111 0.03710938]\n",
      "91\n",
      "[0.37847222 0.01757812]\n",
      "92\n",
      "[ 0.36458333 -0.00195312]\n",
      "93\n",
      "[ 0.35069444 -0.02148438]\n",
      "94\n",
      "[ 0.33680556 -0.04101562]\n",
      "95\n",
      "[ 0.32291667 -0.0234375 ]\n",
      "96\n",
      "[ 0.30902778 -0.0078125 ]\n",
      "97\n",
      "[0.29513889 0.00585938]\n",
      "98\n",
      "[0.28125    0.01757812]\n",
      "99\n",
      "[0.26736111 0.02734375]\n",
      "100\n",
      "[0.25347222 0.03515625]\n",
      "101\n",
      "[0.23958333 0.04101562]\n",
      "102\n",
      "[0.22569444 0.04492188]\n",
      "103\n",
      "[0.21180556 0.046875  ]\n",
      "104\n",
      "[0.19791667 0.046875  ]\n",
      "105\n",
      "[0.18402778 0.04492188]\n",
      "106\n",
      "[0.17013889 0.04101562]\n",
      "107\n",
      "[0.15625    0.03515625]\n",
      "108\n",
      "[0.14236111 0.02734375]\n",
      "109\n",
      "[0.12847222 0.01757812]\n",
      "110\n",
      "[0.11458333 0.00585938]\n",
      "111\n",
      "[ 0.10069444 -0.0078125 ]\n",
      "112\n",
      "[ 0.08680556 -0.0234375 ]\n",
      "113\n",
      "[ 0.07291667 -0.04101562]\n",
      "114\n",
      "[ 0.05902778 -0.0234375 ]\n",
      "115\n",
      "[ 0.04513889 -0.0078125 ]\n",
      "116\n",
      "[0.03125    0.00585938]\n",
      "117\n",
      "[0.01736111 0.01757812]\n",
      "118\n",
      "[0.00347222 0.02734375]\n",
      "119\n",
      "[ 0.48958333 -0.00585938]\n",
      "120\n",
      "[0.47569444 0.        ]\n",
      "121\n",
      "[0.46180556 0.00390625]\n",
      "122\n",
      "[0.44791667 0.00585938]\n",
      "123\n",
      "[0.43402778 0.00585938]\n",
      "124\n",
      "[0.42013889 0.00390625]\n",
      "125\n",
      "[0.40625 0.     ]\n",
      "126\n",
      "[ 0.39236111 -0.00585938]\n",
      "127\n",
      "[ 0.37847222 -0.01367188]\n",
      "128\n",
      "[ 0.36458333 -0.0234375 ]\n",
      "129\n",
      "[ 0.35069444 -0.03515625]\n",
      "130\n",
      "[ 0.33680556 -0.04882812]\n",
      "131\n",
      "[ 0.32291667 -0.03125   ]\n",
      "132\n",
      "[ 0.30902778 -0.01367188]\n",
      "133\n",
      "[0.29513889 0.00195312]\n",
      "134\n",
      "[0.28125  0.015625]\n",
      "135\n",
      "[0.26736111 0.02734375]\n",
      "136\n",
      "[0.25347222 0.03710938]\n",
      "137\n",
      "[0.23958333 0.04492188]\n",
      "138\n",
      "[0.22569444 0.05078125]\n",
      "139\n",
      "[0.21180556 0.0546875 ]\n",
      "140\n",
      "[0.19791667 0.05664062]\n",
      "141\n",
      "[0.18402778 0.05664062]\n",
      "142\n",
      "[0.17013889 0.0546875 ]\n",
      "143\n",
      "[0.15625    0.05078125]\n",
      "144\n",
      "[0.14236111 0.04492188]\n",
      "145\n",
      "[0.12847222 0.03710938]\n",
      "146\n",
      "[0.11458333 0.02734375]\n",
      "147\n",
      "[0.10069444 0.015625  ]\n",
      "148\n",
      "[0.08680556 0.00195312]\n",
      "149\n",
      "[ 0.07291667 -0.01367188]\n",
      "150\n",
      "[ 0.05902778 -0.03125   ]\n",
      "151\n",
      "[ 0.04513889 -0.01367188]\n",
      "152\n",
      "[0.03125    0.00195312]\n",
      "153\n",
      "[0.01736111 0.015625  ]\n",
      "154\n",
      "[0.00347222 0.02734375]\n",
      "155\n",
      "[ 0.51041667 -0.12109375]\n",
      "156\n",
      "[ 0.49652778 -0.11328125]\n",
      "157\n",
      "[ 0.48263889 -0.10742188]\n",
      "158\n",
      "[ 0.46875    -0.10351562]\n",
      "159\n",
      "[ 0.45486111 -0.1015625 ]\n",
      "160\n",
      "[ 0.44097222 -0.08398438]\n",
      "161\n",
      "[ 0.42708333 -0.06640625]\n",
      "162\n",
      "[ 0.41319444 -0.05078125]\n",
      "163\n",
      "[ 0.39930556 -0.03320312]\n",
      "164\n",
      "[ 0.38541667 -0.015625  ]\n",
      "165\n",
      "[0.37152778 0.        ]\n",
      "166\n",
      "[0.35763889 0.01367188]\n",
      "167\n",
      "[0.34375    0.02539062]\n",
      "168\n",
      "[0.32986111 0.03515625]\n",
      "169\n",
      "[0.31597222 0.04296875]\n",
      "170\n",
      "[0.30208333 0.04882812]\n",
      "171\n",
      "[0.28819444 0.05273438]\n",
      "172\n",
      "[0.27430556 0.0546875 ]\n",
      "173\n",
      "[0.26041667 0.0546875 ]\n",
      "174\n",
      "[0.24652778 0.05273438]\n",
      "175\n",
      "[0.23263889 0.04882812]\n",
      "176\n",
      "[0.21875    0.04296875]\n",
      "177\n",
      "[0.20486111 0.03515625]\n",
      "178\n",
      "[0.19097222 0.02539062]\n",
      "179\n",
      "[0.17708333 0.01367188]\n",
      "180\n",
      "[0.16319444 0.        ]\n",
      "181\n",
      "[ 0.14930556 -0.015625  ]\n",
      "182\n",
      "[ 0.13541667 -0.03320312]\n",
      "183\n",
      "[ 0.12152778 -0.015625  ]\n",
      "184\n",
      "[0.10763889 0.        ]\n",
      "185\n",
      "[0.09375    0.01367188]\n",
      "186\n",
      "[0.07986111 0.02539062]\n",
      "187\n",
      "[0.06597222 0.03515625]\n",
      "188\n",
      "[0.05208333 0.04296875]\n",
      "189\n",
      "[0.03819444 0.04882812]\n",
      "190\n",
      "[0.02430556 0.05273438]\n",
      "191\n",
      "[0.01041667 0.0546875 ]\n",
      "192\n",
      "[0.49652778 0.0625    ]\n",
      "193\n",
      "[0.48263889 0.06054688]\n",
      "194\n",
      "[0.46875    0.05664062]\n",
      "195\n",
      "[0.45486111 0.05078125]\n",
      "196\n",
      "[0.44097222 0.04296875]\n",
      "197\n",
      "[0.42708333 0.03320312]\n",
      "198\n",
      "[0.41319444 0.02148438]\n",
      "199\n",
      "[0.39930556 0.0078125 ]\n",
      "200\n",
      "[ 0.38541667 -0.0078125 ]\n",
      "201\n",
      "[ 0.37152778 -0.02539062]\n",
      "202\n",
      "[ 0.35763889 -0.04492188]\n",
      "203\n",
      "[ 0.34375    -0.06445312]\n",
      "204\n",
      "[ 0.32986111 -0.08398438]\n",
      "205\n",
      "[ 0.31597222 -0.06640625]\n",
      "206\n",
      "[ 0.30208333 -0.04882812]\n",
      "207\n",
      "[ 0.28819444 -0.03125   ]\n",
      "208\n",
      "[ 0.27430556 -0.01367188]\n",
      "209\n",
      "[0.26041667 0.00195312]\n",
      "210\n",
      "[0.24652778 0.015625  ]\n",
      "211\n",
      "[0.23263889 0.02734375]\n",
      "212\n",
      "[0.21875    0.03710938]\n",
      "213\n",
      "[0.20486111 0.04492188]\n",
      "214\n",
      "[0.19097222 0.05078125]\n",
      "215\n",
      "[0.17708333 0.0546875 ]\n",
      "216\n",
      "[0.16319444 0.05664062]\n",
      "217\n",
      "[0.14930556 0.05664062]\n",
      "218\n",
      "[0.13541667 0.0546875 ]\n",
      "219\n",
      "[0.12152778 0.05078125]\n",
      "220\n",
      "[0.10763889 0.04492188]\n",
      "221\n",
      "[0.09375    0.03710938]\n",
      "222\n",
      "[0.07986111 0.02734375]\n",
      "223\n",
      "[0.06597222 0.015625  ]\n",
      "224\n",
      "[0.05208333 0.00195312]\n",
      "225\n",
      "[ 0.03819444 -0.01367188]\n",
      "226\n",
      "[ 0.02430556 -0.03125   ]\n",
      "227\n",
      "[ 0.01041667 -0.01367188]\n",
      "228\n",
      "[0.52430556 0.1640625 ]\n",
      "229\n",
      "[0.51041667 0.17773438]\n",
      "230\n",
      "[0.49652778 0.18945312]\n",
      "231\n",
      "[0.48263889 0.19921875]\n",
      "232\n",
      "[0.46875    0.20703125]\n",
      "233\n",
      "[0.45486111 0.21289062]\n",
      "234\n",
      "[0.44097222 0.21679688]\n",
      "235\n",
      "[0.42708333 0.21875   ]\n",
      "236\n",
      "[0.41319444 0.21875   ]\n",
      "237\n",
      "[0.39930556 0.21679688]\n",
      "238\n",
      "[0.38541667 0.21289062]\n",
      "239\n",
      "[0.37152778 0.20703125]\n",
      "240\n",
      "[0.35763889 0.19921875]\n",
      "241\n",
      "[0.34375    0.18945312]\n",
      "242\n",
      "[0.32986111 0.17773438]\n",
      "243\n",
      "[0.31597222 0.1640625 ]\n",
      "244\n",
      "[0.30208333 0.18164062]\n",
      "245\n",
      "[0.28819444 0.19726562]\n",
      "246\n",
      "[0.27430556 0.21484375]\n",
      "247\n",
      "[0.27430556 0.21484375]\n",
      "248\n",
      "score moyen 411.68 nombre reussite totale 0\n",
      "[ 1.64236111 -0.18945312]\n",
      "1\n",
      "[ 1.62847222 -0.171875  ]\n",
      "2\n",
      "[ 1.61458333 -0.15625   ]\n",
      "3\n",
      "[ 1.60069444 -0.13867188]\n",
      "4\n",
      "[ 1.58680556 -0.12109375]\n",
      "5\n",
      "[ 1.57291667 -0.10351562]\n",
      "6\n",
      "[ 1.55902778 -0.0859375 ]\n",
      "7\n",
      "[ 1.54513889 -0.06835938]\n",
      "8\n",
      "[ 1.53125    -0.05078125]\n",
      "9\n",
      "[ 1.51736111 -0.03320312]\n",
      "10\n",
      "[ 1.50347222 -0.015625  ]\n",
      "11\n",
      "[1.48958333 0.00195312]\n",
      "12\n",
      "[1.47569444 0.01953125]\n",
      "13\n",
      "[1.46180556 0.03710938]\n",
      "14\n",
      "[1.44791667 0.05273438]\n",
      "15\n",
      "[1.43402778 0.0703125 ]\n",
      "16\n",
      "[1.42013889 0.08789062]\n",
      "17\n",
      "[1.40625    0.10351562]\n",
      "18\n",
      "[1.39236111 0.1171875 ]\n",
      "19\n",
      "[1.37847222 0.12890625]\n",
      "20\n",
      "[1.36458333 0.13867188]\n",
      "21\n",
      "[1.35069444 0.14648438]\n",
      "22\n",
      "[1.33680556 0.15234375]\n",
      "23\n",
      "[1.32291667 0.15625   ]\n",
      "24\n",
      "[1.30902778 0.15820312]\n",
      "25\n",
      "[1.29513889 0.15820312]\n",
      "26\n",
      "[1.28125 0.15625]\n",
      "27\n",
      "[1.26736111 0.15234375]\n",
      "28\n",
      "[1.25347222 0.14648438]\n",
      "29\n",
      "[1.23958333 0.13867188]\n",
      "30\n",
      "[1.22569444 0.12890625]\n",
      "31\n",
      "[1.21180556 0.1171875 ]\n",
      "32\n",
      "[1.19791667 0.10351562]\n",
      "33\n",
      "[1.18402778 0.08789062]\n",
      "34\n",
      "[1.17013889 0.0703125 ]\n",
      "35\n",
      "[1.15625    0.05078125]\n",
      "36\n",
      "[1.14236111 0.03125   ]\n",
      "37\n",
      "[1.12847222 0.01171875]\n",
      "38\n",
      "[ 1.11458333 -0.0078125 ]\n",
      "39\n",
      "[ 1.10069444 -0.02734375]\n",
      "40\n",
      "[ 1.08680556 -0.00976562]\n",
      "41\n",
      "[1.07291667 0.0078125 ]\n",
      "42\n",
      "[1.05902778 0.02539062]\n",
      "43\n",
      "[1.04513889 0.04101562]\n",
      "44\n",
      "[1.03125   0.0546875]\n",
      "45\n",
      "[1.01736111 0.06640625]\n",
      "46\n",
      "[1.00347222 0.07617188]\n",
      "47\n",
      "[0.98958333 0.08398438]\n",
      "48\n",
      "[0.97569444 0.08984375]\n",
      "49\n",
      "[0.96180556 0.09375   ]\n",
      "50\n",
      "[0.94791667 0.09570312]\n",
      "51\n",
      "[0.93402778 0.09570312]\n",
      "52\n",
      "[0.92013889 0.09375   ]\n",
      "53\n",
      "[0.90625    0.08984375]\n",
      "54\n",
      "[0.89236111 0.08398438]\n",
      "55\n",
      "[0.87847222 0.07617188]\n",
      "56\n",
      "[0.86458333 0.06640625]\n",
      "57\n",
      "[0.85069444 0.0546875 ]\n",
      "58\n",
      "[0.83680556 0.07226562]\n",
      "59\n",
      "[0.82291667 0.08984375]\n",
      "60\n",
      "[0.80902778 0.10546875]\n",
      "61\n",
      "[0.79513889 0.12304688]\n",
      "62\n",
      "[0.78125  0.140625]\n",
      "63\n",
      "[0.76736111 0.15625   ]\n",
      "64\n",
      "[0.75347222 0.17382812]\n",
      "65\n",
      "[0.73958333 0.19140625]\n",
      "66\n",
      "[0.72569444 0.20703125]\n",
      "67\n",
      "[0.71180556 0.22070312]\n",
      "68\n",
      "[0.69791667 0.23242188]\n",
      "69\n",
      "[0.68402778 0.2421875 ]\n",
      "70\n",
      "[0.67013889 0.25      ]\n",
      "71\n",
      "[0.65625    0.25585938]\n",
      "72\n",
      "[0.64236111 0.25976562]\n",
      "73\n",
      "[0.62847222 0.26171875]\n",
      "74\n",
      "[0.61458333 0.26171875]\n",
      "75\n",
      "[0.60069444 0.25976562]\n",
      "76\n",
      "[0.58680556 0.25585938]\n",
      "77\n",
      "[0.57291667 0.25      ]\n",
      "78\n",
      "[0.55902778 0.2421875 ]\n",
      "79\n",
      "[0.54513889 0.23242188]\n",
      "80\n",
      "[0.53125    0.22070312]\n",
      "81\n",
      "[0.51736111 0.20703125]\n",
      "82\n",
      "[0.50347222 0.19140625]\n",
      "83\n",
      "[0.48958333 0.17382812]\n",
      "84\n",
      "[0.47569444 0.15429688]\n",
      "85\n",
      "[0.46180556 0.13476562]\n",
      "86\n",
      "[0.44791667 0.11523438]\n",
      "87\n",
      "[0.43402778 0.09570312]\n",
      "88\n",
      "[0.42013889 0.07617188]\n",
      "89\n",
      "[0.40625    0.05664062]\n",
      "90\n",
      "[0.39236111 0.03710938]\n",
      "91\n",
      "[0.37847222 0.01757812]\n",
      "92\n",
      "[ 0.36458333 -0.00195312]\n",
      "93\n",
      "[ 0.35069444 -0.02148438]\n",
      "94\n",
      "[ 0.33680556 -0.04101562]\n",
      "95\n",
      "[ 0.32291667 -0.0234375 ]"
     ]
    },
    {
     "ename": "KeyboardInterrupt",
     "evalue": "",
     "output_type": "error",
     "traceback": [
      "\u001b[1;31m---------------------------------------------------------------------------\u001b[0m",
      "\u001b[1;31mKeyboardInterrupt\u001b[0m                         Traceback (most recent call last)",
      "Cell \u001b[1;32mIn[8], line 110\u001b[0m\n\u001b[0;32m    108\u001b[0m     \u001b[38;5;28mprint\u001b[39m(\u001b[38;5;124m\"\u001b[39m\u001b[38;5;124mscore moyen\u001b[39m\u001b[38;5;124m\"\u001b[39m,score_moyen,\u001b[38;5;124m\"\u001b[39m\u001b[38;5;124mnombre reussite totale\u001b[39m\u001b[38;5;124m\"\u001b[39m, n_terminated)\n\u001b[0;32m    109\u001b[0m \u001b[38;5;66;03m# Render the game\u001b[39;00m\n\u001b[1;32m--> 110\u001b[0m \u001b[43mshow_true\u001b[49m\u001b[43m(\u001b[49m\u001b[43menv\u001b[49m\u001b[43m,\u001b[49m\u001b[43mpolicy\u001b[49m\u001b[43m,\u001b[49m\u001b[38;5;241;43m1\u001b[39;49m\u001b[43m)\u001b[49m\n\u001b[0;32m    111\u001b[0m \u001b[38;5;28;01mif\u001b[39;00m continue_training \u001b[38;5;129;01mor\u001b[39;00m \u001b[38;5;129;01mnot\u001b[39;00m trained:\n\u001b[0;32m    112\u001b[0m     policy\u001b[38;5;241m.\u001b[39msave()\n",
      "Cell \u001b[1;32mIn[8], line 62\u001b[0m, in \u001b[0;36mshow_true\u001b[1;34m(env, policy, n_episodes)\u001b[0m\n\u001b[0;32m     60\u001b[0m env\u001b[38;5;241m.\u001b[39mrender()\n\u001b[0;32m     61\u001b[0m time\u001b[38;5;241m.\u001b[39msleep(\u001b[38;5;241m1\u001b[39m \u001b[38;5;241m/\u001b[39m \u001b[38;5;241m30\u001b[39m)  \u001b[38;5;66;03m# FPS\u001b[39;00m\n\u001b[1;32m---> 62\u001b[0m \u001b[38;5;28;43mprint\u001b[39;49m\u001b[43m(\u001b[49m\u001b[43mobs\u001b[49m\u001b[43m)\u001b[49m\n\u001b[0;32m     63\u001b[0m \u001b[38;5;28mprint\u001b[39m(n_step)\n",
      "File \u001b[1;32m~\\AppData\\Roaming\\Python\\Python310\\site-packages\\ipykernel\\iostream.py:662\u001b[0m, in \u001b[0;36mOutStream.write\u001b[1;34m(self, string)\u001b[0m\n\u001b[0;32m    660\u001b[0m     \u001b[38;5;28mself\u001b[39m\u001b[38;5;241m.\u001b[39mpub_thread\u001b[38;5;241m.\u001b[39mschedule(\u001b[38;5;28mself\u001b[39m\u001b[38;5;241m.\u001b[39m_flush)\n\u001b[0;32m    661\u001b[0m \u001b[38;5;28;01melse\u001b[39;00m:\n\u001b[1;32m--> 662\u001b[0m     \u001b[38;5;28;43mself\u001b[39;49m\u001b[38;5;241;43m.\u001b[39;49m\u001b[43m_schedule_flush\u001b[49m\u001b[43m(\u001b[49m\u001b[43m)\u001b[49m\n\u001b[0;32m    664\u001b[0m \u001b[38;5;28;01mreturn\u001b[39;00m \u001b[38;5;28mlen\u001b[39m(string)\n",
      "File \u001b[1;32m~\\AppData\\Roaming\\Python\\Python310\\site-packages\\ipykernel\\iostream.py:559\u001b[0m, in \u001b[0;36mOutStream._schedule_flush\u001b[1;34m(self)\u001b[0m\n\u001b[0;32m    556\u001b[0m \u001b[38;5;28;01mdef\u001b[39;00m \u001b[38;5;21m_schedule_in_thread\u001b[39m():\n\u001b[0;32m    557\u001b[0m     \u001b[38;5;28mself\u001b[39m\u001b[38;5;241m.\u001b[39m_io_loop\u001b[38;5;241m.\u001b[39mcall_later(\u001b[38;5;28mself\u001b[39m\u001b[38;5;241m.\u001b[39mflush_interval, \u001b[38;5;28mself\u001b[39m\u001b[38;5;241m.\u001b[39m_flush)\n\u001b[1;32m--> 559\u001b[0m \u001b[38;5;28;43mself\u001b[39;49m\u001b[38;5;241;43m.\u001b[39;49m\u001b[43mpub_thread\u001b[49m\u001b[38;5;241;43m.\u001b[39;49m\u001b[43mschedule\u001b[49m\u001b[43m(\u001b[49m\u001b[43m_schedule_in_thread\u001b[49m\u001b[43m)\u001b[49m\n",
      "File \u001b[1;32m~\\AppData\\Roaming\\Python\\Python310\\site-packages\\ipykernel\\iostream.py:266\u001b[0m, in \u001b[0;36mIOPubThread.schedule\u001b[1;34m(self, f)\u001b[0m\n\u001b[0;32m    264\u001b[0m     \u001b[38;5;28mself\u001b[39m\u001b[38;5;241m.\u001b[39m_events\u001b[38;5;241m.\u001b[39mappend(f)\n\u001b[0;32m    265\u001b[0m     \u001b[38;5;66;03m# wake event thread (message content is ignored)\u001b[39;00m\n\u001b[1;32m--> 266\u001b[0m     \u001b[38;5;28;43mself\u001b[39;49m\u001b[38;5;241;43m.\u001b[39;49m\u001b[43m_event_pipe\u001b[49m\u001b[38;5;241;43m.\u001b[39;49m\u001b[43msend\u001b[49m\u001b[43m(\u001b[49m\u001b[38;5;124;43mb\u001b[39;49m\u001b[38;5;124;43m\"\u001b[39;49m\u001b[38;5;124;43m\"\u001b[39;49m\u001b[43m)\u001b[49m\n\u001b[0;32m    267\u001b[0m \u001b[38;5;28;01melse\u001b[39;00m:\n\u001b[0;32m    268\u001b[0m     f()\n",
      "File \u001b[1;32m~\\AppData\\Roaming\\Python\\Python310\\site-packages\\zmq\\sugar\\socket.py:696\u001b[0m, in \u001b[0;36mSocket.send\u001b[1;34m(self, data, flags, copy, track, routing_id, group)\u001b[0m\n\u001b[0;32m    689\u001b[0m         data \u001b[38;5;241m=\u001b[39m zmq\u001b[38;5;241m.\u001b[39mFrame(\n\u001b[0;32m    690\u001b[0m             data,\n\u001b[0;32m    691\u001b[0m             track\u001b[38;5;241m=\u001b[39mtrack,\n\u001b[0;32m    692\u001b[0m             copy\u001b[38;5;241m=\u001b[39mcopy \u001b[38;5;129;01mor\u001b[39;00m \u001b[38;5;28;01mNone\u001b[39;00m,\n\u001b[0;32m    693\u001b[0m             copy_threshold\u001b[38;5;241m=\u001b[39m\u001b[38;5;28mself\u001b[39m\u001b[38;5;241m.\u001b[39mcopy_threshold,\n\u001b[0;32m    694\u001b[0m         )\n\u001b[0;32m    695\u001b[0m     data\u001b[38;5;241m.\u001b[39mgroup \u001b[38;5;241m=\u001b[39m group\n\u001b[1;32m--> 696\u001b[0m \u001b[38;5;28;01mreturn\u001b[39;00m \u001b[38;5;28;43msuper\u001b[39;49m\u001b[43m(\u001b[49m\u001b[43m)\u001b[49m\u001b[38;5;241;43m.\u001b[39;49m\u001b[43msend\u001b[49m\u001b[43m(\u001b[49m\u001b[43mdata\u001b[49m\u001b[43m,\u001b[49m\u001b[43m \u001b[49m\u001b[43mflags\u001b[49m\u001b[38;5;241;43m=\u001b[39;49m\u001b[43mflags\u001b[49m\u001b[43m,\u001b[49m\u001b[43m \u001b[49m\u001b[43mcopy\u001b[49m\u001b[38;5;241;43m=\u001b[39;49m\u001b[43mcopy\u001b[49m\u001b[43m,\u001b[49m\u001b[43m \u001b[49m\u001b[43mtrack\u001b[49m\u001b[38;5;241;43m=\u001b[39;49m\u001b[43mtrack\u001b[49m\u001b[43m)\u001b[49m\n",
      "File \u001b[1;32mzmq\\\\backend\\\\cython\\\\socket.pyx:742\u001b[0m, in \u001b[0;36mzmq.backend.cython.socket.Socket.send\u001b[1;34m()\u001b[0m\n",
      "File \u001b[1;32mzmq\\\\backend\\\\cython\\\\socket.pyx:789\u001b[0m, in \u001b[0;36mzmq.backend.cython.socket.Socket.send\u001b[1;34m()\u001b[0m\n",
      "File \u001b[1;32mzmq\\\\backend\\\\cython\\\\socket.pyx:250\u001b[0m, in \u001b[0;36mzmq.backend.cython.socket._send_copy\u001b[1;34m()\u001b[0m\n",
      "File \u001b[1;32m~\\AppData\\Roaming\\Python\\Python310\\site-packages\\zmq\\backend\\cython\\checkrc.pxd:13\u001b[0m, in \u001b[0;36mzmq.backend.cython.checkrc._check_rc\u001b[1;34m()\u001b[0m\n",
      "\u001b[1;31mKeyboardInterrupt\u001b[0m: "
     ]
    },
    {
     "ename": "",
     "evalue": "",
     "output_type": "error",
     "traceback": [
      "\u001b[1;31mThe Kernel crashed while executing code in the current cell or a previous cell. \n",
      "\u001b[1;31mPlease review the code in the cell(s) to identify a possible cause of the failure. \n",
      "\u001b[1;31mClick <a href='https://aka.ms/vscodeJupyterKernelCrash'>here</a> for more info. \n",
      "\u001b[1;31mView Jupyter <a href='command:jupyter.viewOutput'>log</a> for further details."
     ]
    }
   ],
   "source": [
    "def training_true(env, policy,n_episodes, n_max_step, n_testing_moments = 100):\n",
    "    sep_test = n_episodes // n_testing_moments\n",
    "    for num_ep in tqdm(range(n_episodes)):\n",
    "        done = False\n",
    "        obs = env.reset()\n",
    "        policy.reset()\n",
    "        n_step = 0\n",
    "        # iterate\n",
    "        while (done is False) and (n_step < n_max_step):\n",
    "            n_step += 1\n",
    "            # Select next action\n",
    "            #time.sleep(0.2)\n",
    "            action = policy.chose_action(obs,training = True)\n",
    "            #print(obs)\n",
    "            #env.render()\n",
    "            # Appy action and return new observation of the environment\n",
    "            obs, reward, done, _ = env.step(action)\n",
    "            policy.update(reward,obs,done)\n",
    "        if num_ep % sep_test == 0:\n",
    "            score_moyen, n_terminated = testing_true(env,policy,n_episodes=1,n_max_step= n_max_step)\n",
    "            if do_wandb:\n",
    "                wandb.log({\"score\": score_moyen}, step=num_ep)\n",
    "\n",
    "def testing_true(env, policy,n_episodes, n_max_step):\n",
    "    score_moyen = 0\n",
    "    policy.reset()\n",
    "    for _ in range(n_episodes):\n",
    "        done = False\n",
    "        obs = env.reset()\n",
    "        n_step = 0\n",
    "        # iterate\n",
    "        n_terminated = 0 \n",
    "\n",
    "        while (done is False) and (n_step < n_max_step):\n",
    "            n_step += 1\n",
    "            # Select next action\n",
    "            action = policy.chose_action(obs,training = False)\n",
    "            # Appy action and return new observation of the environment\n",
    "            obs, reward, done, _ = env.step(action)\n",
    "            if n_step == n_max_step:\n",
    "                n_terminated += 1\n",
    "        score_moyen += n_step\n",
    "    score_moyen = score_moyen/n_episodes\n",
    "    return score_moyen, n_terminated\n",
    "\n",
    "\n",
    "def show_true(env, policy,n_episodes):\n",
    "    policy.reset()\n",
    "    for _ in range(n_episodes):\n",
    "        done = False\n",
    "        obs = env.reset()\n",
    "        n_step = 0\n",
    "        # iterate\n",
    "        while (done is False):\n",
    "            n_step += 1\n",
    "            # Select next action\n",
    "            action = policy.chose_action(obs,training = False)\n",
    "            # Appy action and return new observation of the environment\n",
    "            obs, reward, done, _ = env.step(action)\n",
    "            env.render()\n",
    "            time.sleep(1 / 30)  # FPS\n",
    "            print(obs)\n",
    "            print(n_step)\n",
    "\n",
    "\n",
    "if __name__ == '__main__':\n",
    "    trained = True\n",
    "    continue_training = False\n",
    "    n_max_step = 10000\n",
    "    n_training = 5000\n",
    "    n_testing = 100\n",
    "    eps = 0.01\n",
    "    alpha = 0.5\n",
    "    env = flappy_bird_gym.make(\"FlappyBird-v0\")\n",
    "    height = 40\n",
    "    width = 50\n",
    "    gap = 4\n",
    "    do_wandb = False\n",
    "    processed = True\n",
    "\n",
    "\n",
    "    for run in range(5):\n",
    "        date = datetime.datetime.now().strftime('%dth%mmo_%Hh%Mmin%Ss')\n",
    "        #print(date)\n",
    "        name = 'MC processed= ' + str(processed) +' height: '+ str(height) + ' width: '+ str(width) + ' gap: ' +str(gap) +'date: '+ str(date)\n",
    "        #print(name)\n",
    "        if do_wandb:\n",
    "            wandb.init(\n",
    "            # set the wandb project where this run will be logged\n",
    "            project=\"FlappyBird-RL\",\n",
    "            name=name,\n",
    "            # track hyperparameters and run metadata\n",
    "            config={\n",
    "            \"processed\": processed ,\n",
    "            \"name_policy\": 'MC',\n",
    "            \"height\": height,\n",
    "            \"width\": width,\n",
    "            \"gap\": gap,\n",
    "            \"True_flappy\": True,\n",
    "            \"eps\": eps,\n",
    "            \"alpha\": alpha,\n",
    "            })\n",
    "        policy = MC_True(eps = eps,alpha = alpha, n_max_step = n_max_step,height = height,width = width,gap = gap ,trained = trained)\n",
    "        if continue_training or not trained:\n",
    "            training_true(env,policy,n_episodes= n_training,n_max_step= n_max_step)\n",
    "        for _ in range(1):\n",
    "            score_moyen, n_terminated = testing_true(env,policy,n_episodes= n_testing,n_max_step= n_max_step)\n",
    "            print(\"score moyen\",score_moyen,\"nombre reussite totale\", n_terminated)\n",
    "        # Render the game\n",
    "        if continue_training or not trained:\n",
    "            policy.save()\n",
    "        env.close()\n",
    "        if do_wandb:\n",
    "            wandb.finish()\n",
    "    #show_true(env,policy,1)"
   ]
  }
 ],
 "metadata": {
  "kernelspec": {
   "display_name": "transform",
   "language": "python",
   "name": "python3"
  },
  "language_info": {
   "codemirror_mode": {
    "name": "ipython",
    "version": 3
   },
   "file_extension": ".py",
   "mimetype": "text/x-python",
   "name": "python",
   "nbconvert_exporter": "python",
   "pygments_lexer": "ipython3",
   "version": "3.10.13"
  }
 },
 "nbformat": 4,
 "nbformat_minor": 2
}
